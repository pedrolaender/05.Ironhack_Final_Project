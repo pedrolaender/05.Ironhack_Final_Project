{
 "cells": [
  {
   "cell_type": "code",
   "execution_count": null,
   "metadata": {},
   "outputs": [],
   "source": [
    "!pip install pandas_datareader"
   ]
  },
  {
   "cell_type": "code",
   "execution_count": null,
   "metadata": {},
   "outputs": [],
   "source": [
    "!pip install yfinance"
   ]
  },
  {
   "cell_type": "code",
   "execution_count": null,
   "metadata": {},
   "outputs": [],
   "source": [
    "!pip install html5lib"
   ]
  },
  {
   "cell_type": "code",
   "execution_count": 9,
   "metadata": {},
   "outputs": [],
   "source": [
    "import pandas as pd\n",
    "import numpy as np\n",
    "import requests\n",
    "from bs4 import BeautifulSoup\n",
    "from unidecode import unidecode\n",
    "import re\n",
    "import os"
   ]
  },
  {
   "cell_type": "markdown",
   "metadata": {},
   "source": [
    "## Buscas empresas listadas no IBOVESPA"
   ]
  },
  {
   "cell_type": "code",
   "execution_count": null,
   "metadata": {},
   "outputs": [],
   "source": [
    "url_ibovespa = 'https://www.b3.com.br/pt_br/market-data-e-indices/indices/indices-amplos/indice-ibovespa-ibovespa-composicao-da-carteira.htm'\n",
    "\n",
    "response = requests.get(url_ibovespa)\n",
    "html = response.content\n",
    "soup = BeautifulSoup(html)\n",
    "\n",
    "#tabelas_b3 = pd.read_html(url_ibovespa)\n",
    "\n",
    "#url_ibovespa\n",
    "soup.prettify()"
   ]
  },
  {
   "cell_type": "code",
   "execution_count": null,
   "metadata": {},
   "outputs": [],
   "source": [
    "table = soup.find_all('table')\n",
    "table"
   ]
  },
  {
   "cell_type": "code",
   "execution_count": 33,
   "metadata": {},
   "outputs": [],
   "source": [
    "def create_df(index_name):\n",
    "    '''Essa é uma função que recebe o nome do índice da Bolsa de Valores e retorna um DataFrame com todas as empresas e seus respectivos setores'''\n",
    "\n",
    "    #criando DataFrame\n",
    "    index_name = pd.read_csv('data/'+str(index_name)+'_setor.csv', \n",
    "                                encoding='ISO-8859-1',\n",
    "                                header=1,\n",
    "                                sep=';',\n",
    "                                decimal=',',\n",
    "                                thousands='.',\n",
    "                                skipfooter=2,\n",
    "                                index_col=False)\n",
    "    \n",
    "    #normalizando colunas\n",
    "    index_name.columns = [re.sub('[\\.()]', '', re.sub(' ', '_', unidecode(columns.lower()))) for columns in index_name.columns]\n",
    "\n",
    "    return index_name"
   ]
  },
  {
   "cell_type": "markdown",
   "metadata": {},
   "source": [
    "## Criando DataFrame com empresas da Ibovespa"
   ]
  },
  {
   "cell_type": "code",
   "execution_count": null,
   "metadata": {},
   "outputs": [],
   "source": [
    "ibov = create_df('ibov')\n",
    "ibov"
   ]
  },
  {
   "cell_type": "code",
   "execution_count": null,
   "metadata": {},
   "outputs": [],
   "source": [
    "ibov = pd.read_csv('data/ibov_setor.csv', \n",
    "                                encoding='ISO-8859-1',\n",
    "                                header=1,\n",
    "                                sep=';',\n",
    "                                decimal=',',\n",
    "                                thousands='.',\n",
    "                                skipfooter=2,\n",
    "                                index_col=False)"
   ]
  },
  {
   "cell_type": "markdown",
   "metadata": {},
   "source": [
    "## Criando DataFrame com empresas do IBRX100"
   ]
  },
  {
   "cell_type": "code",
   "execution_count": 10,
   "metadata": {},
   "outputs": [
    {
     "name": "stderr",
     "output_type": "stream",
     "text": [
      "C:\\Users\\Pedro\\AppData\\Local\\Temp\\ipykernel_11816\\1620139615.py:3: ParserWarning: Falling back to the 'python' engine because the 'c' engine does not support skipfooter; you can avoid this warning by specifying engine='python'.\n",
      "  index_name = pd.read_csv('data/'+str(index_name)+'_setor.csv',\n"
     ]
    }
   ],
   "source": [
    "ibrx = create_df('ibrx100')"
   ]
  },
  {
   "cell_type": "markdown",
   "metadata": {},
   "source": [
    "## Verificando empresas que divergem nos dois índices"
   ]
  },
  {
   "cell_type": "code",
   "execution_count": 24,
   "metadata": {},
   "outputs": [
    {
     "data": {
      "text/plain": [
       "100"
      ]
     },
     "execution_count": 24,
     "metadata": {},
     "output_type": "execute_result"
    }
   ],
   "source": [
    "emp_ibrx = ibrx['codigo']\n",
    "set_ibrx = set(emp_ibrx)\n",
    "len(set_ibrx)"
   ]
  },
  {
   "cell_type": "code",
   "execution_count": 25,
   "metadata": {},
   "outputs": [
    {
     "data": {
      "text/plain": [
       "92"
      ]
     },
     "execution_count": 25,
     "metadata": {},
     "output_type": "execute_result"
    }
   ],
   "source": [
    "emp_ibov = ibov['codigo']\n",
    "set_ibov = set(emp_ibov)\n",
    "len(set_ibov)"
   ]
  },
  {
   "cell_type": "code",
   "execution_count": 31,
   "metadata": {},
   "outputs": [
    {
     "name": "stdout",
     "output_type": "stream",
     "text": [
      "1\n",
      "{'POSI3'}\n"
     ]
    }
   ],
   "source": [
    "print(len(set_ibov.difference(set_ibrx)))\n",
    "print(set_ibov.difference(set_ibrx))"
   ]
  },
  {
   "cell_type": "code",
   "execution_count": 32,
   "metadata": {},
   "outputs": [
    {
     "name": "stdout",
     "output_type": "stream",
     "text": [
      "9\n",
      "{'MOVI3', 'VAMO3', 'STBP3', 'MDIA3', 'AURE3', 'PSSA3', 'ENAT3', 'AMBP3', 'CBAV3'}\n"
     ]
    }
   ],
   "source": [
    "print(len(set_ibrx.difference(set_ibov)))\n",
    "print(set_ibrx.difference(set_ibov))"
   ]
  },
  {
   "cell_type": "code",
   "execution_count": 34,
   "metadata": {},
   "outputs": [
    {
     "data": {
      "text/html": [
       "<div>\n",
       "<style scoped>\n",
       "    .dataframe tbody tr th:only-of-type {\n",
       "        vertical-align: middle;\n",
       "    }\n",
       "\n",
       "    .dataframe tbody tr th {\n",
       "        vertical-align: top;\n",
       "    }\n",
       "\n",
       "    .dataframe thead th {\n",
       "        text-align: right;\n",
       "    }\n",
       "</style>\n",
       "<table border=\"1\" class=\"dataframe\">\n",
       "  <thead>\n",
       "    <tr style=\"text-align: right;\">\n",
       "      <th></th>\n",
       "      <th>setor</th>\n",
       "      <th>codigo</th>\n",
       "      <th>acao</th>\n",
       "      <th>tipo</th>\n",
       "      <th>qtde_teorica</th>\n",
       "      <th>part_%</th>\n",
       "      <th>part_%acum</th>\n",
       "    </tr>\n",
       "  </thead>\n",
       "  <tbody>\n",
       "    <tr>\n",
       "      <th>0</th>\n",
       "      <td>Bens Indls / Máqs e Equips</td>\n",
       "      <td>WEGE3</td>\n",
       "      <td>WEG</td>\n",
       "      <td>ON      NM</td>\n",
       "      <td>1481593024</td>\n",
       "      <td>2.718</td>\n",
       "      <td>2.718</td>\n",
       "    </tr>\n",
       "    <tr>\n",
       "      <th>1</th>\n",
       "      <td>Bens Indls / Mat Transporte</td>\n",
       "      <td>EMBR3</td>\n",
       "      <td>EMBRAER</td>\n",
       "      <td>ON      NM</td>\n",
       "      <td>734632205</td>\n",
       "      <td>0.433</td>\n",
       "      <td>0.433</td>\n",
       "    </tr>\n",
       "    <tr>\n",
       "      <th>2</th>\n",
       "      <td>Bens Indls/Transporte</td>\n",
       "      <td>AZUL4</td>\n",
       "      <td>AZUL</td>\n",
       "      <td>PN      N2</td>\n",
       "      <td>327646296</td>\n",
       "      <td>0.205</td>\n",
       "      <td>2.331</td>\n",
       "    </tr>\n",
       "    <tr>\n",
       "      <th>3</th>\n",
       "      <td>Bens Indls/Transporte</td>\n",
       "      <td>CCRO3</td>\n",
       "      <td>CCR SA</td>\n",
       "      <td>ON      NM</td>\n",
       "      <td>1115681435</td>\n",
       "      <td>0.579</td>\n",
       "      <td>2.331</td>\n",
       "    </tr>\n",
       "    <tr>\n",
       "      <th>4</th>\n",
       "      <td>Bens Indls/Transporte</td>\n",
       "      <td>ECOR3</td>\n",
       "      <td>ECORODOVIAS</td>\n",
       "      <td>ON      NM</td>\n",
       "      <td>333657615</td>\n",
       "      <td>0.072</td>\n",
       "      <td>2.331</td>\n",
       "    </tr>\n",
       "    <tr>\n",
       "      <th>...</th>\n",
       "      <td>...</td>\n",
       "      <td>...</td>\n",
       "      <td>...</td>\n",
       "      <td>...</td>\n",
       "      <td>...</td>\n",
       "      <td>...</td>\n",
       "      <td>...</td>\n",
       "    </tr>\n",
       "    <tr>\n",
       "      <th>87</th>\n",
       "      <td>Utilidade Públ / Energ Elétrica</td>\n",
       "      <td>ENGI11</td>\n",
       "      <td>ENERGISA</td>\n",
       "      <td>UNT     N2</td>\n",
       "      <td>248477689</td>\n",
       "      <td>0.542</td>\n",
       "      <td>9.458</td>\n",
       "    </tr>\n",
       "    <tr>\n",
       "      <th>88</th>\n",
       "      <td>Utilidade Públ / Energ Elétrica</td>\n",
       "      <td>ENEV3</td>\n",
       "      <td>ENEVA</td>\n",
       "      <td>ON      NM</td>\n",
       "      <td>1561135009</td>\n",
       "      <td>0.957</td>\n",
       "      <td>9.458</td>\n",
       "    </tr>\n",
       "    <tr>\n",
       "      <th>89</th>\n",
       "      <td>Utilidade Públ / Energ Elétrica</td>\n",
       "      <td>EGIE3</td>\n",
       "      <td>ENGIE BRASIL</td>\n",
       "      <td>ON      NM</td>\n",
       "      <td>255208461</td>\n",
       "      <td>0.494</td>\n",
       "      <td>9.458</td>\n",
       "    </tr>\n",
       "    <tr>\n",
       "      <th>90</th>\n",
       "      <td>Utilidade Públ / Energ Elétrica</td>\n",
       "      <td>EQTL3</td>\n",
       "      <td>EQUATORIAL</td>\n",
       "      <td>ON      NM</td>\n",
       "      <td>1100513485</td>\n",
       "      <td>1.478</td>\n",
       "      <td>9.458</td>\n",
       "    </tr>\n",
       "    <tr>\n",
       "      <th>91</th>\n",
       "      <td>Utilidade Públ / Energ Elétrica</td>\n",
       "      <td>TAEE11</td>\n",
       "      <td>TAESA</td>\n",
       "      <td>UNT EDJ N2</td>\n",
       "      <td>218568234</td>\n",
       "      <td>0.401</td>\n",
       "      <td>9.458</td>\n",
       "    </tr>\n",
       "  </tbody>\n",
       "</table>\n",
       "<p>192 rows × 7 columns</p>\n",
       "</div>"
      ],
      "text/plain": [
       "                              setor  codigo          acao        tipo  \\\n",
       "0        Bens Indls / Máqs e Equips   WEGE3           WEG  ON      NM   \n",
       "1       Bens Indls / Mat Transporte   EMBR3       EMBRAER  ON      NM   \n",
       "2             Bens Indls/Transporte   AZUL4          AZUL  PN      N2   \n",
       "3             Bens Indls/Transporte   CCRO3        CCR SA  ON      NM   \n",
       "4             Bens Indls/Transporte   ECOR3   ECORODOVIAS  ON      NM   \n",
       "..                              ...     ...           ...         ...   \n",
       "87  Utilidade Públ / Energ Elétrica  ENGI11      ENERGISA  UNT     N2   \n",
       "88  Utilidade Públ / Energ Elétrica   ENEV3         ENEVA  ON      NM   \n",
       "89  Utilidade Públ / Energ Elétrica   EGIE3  ENGIE BRASIL  ON      NM   \n",
       "90  Utilidade Públ / Energ Elétrica   EQTL3    EQUATORIAL  ON      NM   \n",
       "91  Utilidade Públ / Energ Elétrica  TAEE11         TAESA  UNT EDJ N2   \n",
       "\n",
       "    qtde_teorica  part_%  part_%acum  \n",
       "0     1481593024   2.718       2.718  \n",
       "1      734632205   0.433       0.433  \n",
       "2      327646296   0.205       2.331  \n",
       "3     1115681435   0.579       2.331  \n",
       "4      333657615   0.072       2.331  \n",
       "..           ...     ...         ...  \n",
       "87     248477689   0.542       9.458  \n",
       "88    1561135009   0.957       9.458  \n",
       "89     255208461   0.494       9.458  \n",
       "90    1100513485   1.478       9.458  \n",
       "91     218568234   0.401       9.458  \n",
       "\n",
       "[192 rows x 7 columns]"
      ]
     },
     "execution_count": 34,
     "metadata": {},
     "output_type": "execute_result"
    }
   ],
   "source": [
    "pd.concat([ibrx, ibov]).drop_duplicates()"
   ]
  },
  {
   "cell_type": "code",
   "execution_count": null,
   "metadata": {},
   "outputs": [],
   "source": []
  }
 ],
 "metadata": {
  "kernelspec": {
   "display_name": "Python 3.9.12 ('base')",
   "language": "python",
   "name": "python3"
  },
  "language_info": {
   "codemirror_mode": {
    "name": "ipython",
    "version": 3
   },
   "file_extension": ".py",
   "mimetype": "text/x-python",
   "name": "python",
   "nbconvert_exporter": "python",
   "pygments_lexer": "ipython3",
   "version": "3.9.12"
  },
  "orig_nbformat": 4,
  "vscode": {
   "interpreter": {
    "hash": "2d90c038637108ac29aff4d22cdf99e3e2599f922ccc5532827d676edf9e0ab0"
   }
  }
 },
 "nbformat": 4,
 "nbformat_minor": 2
}
