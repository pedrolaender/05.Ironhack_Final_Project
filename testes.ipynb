{
 "cells": [
  {
   "cell_type": "code",
   "execution_count": null,
   "metadata": {},
   "outputs": [],
   "source": [
    "!pip install pandas_datareader"
   ]
  },
  {
   "cell_type": "code",
   "execution_count": null,
   "metadata": {},
   "outputs": [],
   "source": [
    "!pip install yfinance"
   ]
  },
  {
   "cell_type": "code",
   "execution_count": null,
   "metadata": {},
   "outputs": [],
   "source": [
    "!pip install html5lib"
   ]
  },
  {
   "cell_type": "code",
   "execution_count": 60,
   "metadata": {},
   "outputs": [],
   "source": [
    "import pandas as pd\n",
    "import numpy as np\n",
    "import requests\n",
    "from bs4 import BeautifulSoup\n",
    "from unidecode import unidecode\n",
    "import re\n",
    "import os\n",
    "import yfinance as yf"
   ]
  },
  {
   "cell_type": "markdown",
   "metadata": {},
   "source": [
    "## Buscas empresas listadas no IBOVESPA"
   ]
  },
  {
   "cell_type": "code",
   "execution_count": null,
   "metadata": {},
   "outputs": [],
   "source": [
    "url_ibovespa = 'https://www.b3.com.br/pt_br/market-data-e-indices/indices/indices-amplos/indice-ibovespa-ibovespa-composicao-da-carteira.htm'\n",
    "\n",
    "response = requests.get(url_ibovespa)\n",
    "html = response.content\n",
    "soup = BeautifulSoup(html)\n",
    "\n",
    "#tabelas_b3 = pd.read_html(url_ibovespa)\n",
    "\n",
    "#url_ibovespa\n",
    "soup.prettify()"
   ]
  },
  {
   "cell_type": "code",
   "execution_count": null,
   "metadata": {},
   "outputs": [],
   "source": [
    "table = soup.find_all('table')\n",
    "table"
   ]
  },
  {
   "cell_type": "code",
   "execution_count": null,
   "metadata": {},
   "outputs": [],
   "source": [
    "def create_df(index_name):\n",
    "    '''Essa é uma função que recebe o nome do índice da Bolsa de Valores e retorna um DataFrame com todas as empresas e seus respectivos setores'''\n",
    "\n",
    "    #criando DataFrame\n",
    "    index_name = pd.read_csv('data/'+str(index_name)+'_setor.csv', \n",
    "                                encoding='ISO-8859-1',\n",
    "                                header=1,\n",
    "                                sep=';',\n",
    "                                decimal=',',\n",
    "                                thousands='.',\n",
    "                                skipfooter=2,\n",
    "                                index_col=False)\n",
    "    \n",
    "    #normalizando colunas\n",
    "    index_name.columns = [re.sub('[\\.()]', '', re.sub(' ', '_', unidecode(columns.lower()))) for columns in index_name.columns]\n",
    "\n",
    "    return index_name"
   ]
  },
  {
   "cell_type": "markdown",
   "metadata": {},
   "source": [
    "## Criando DataFrame com empresas da Ibovespa"
   ]
  },
  {
   "cell_type": "code",
   "execution_count": null,
   "metadata": {},
   "outputs": [],
   "source": [
    "ibov = create_df('ibov')\n",
    "ibov"
   ]
  },
  {
   "cell_type": "code",
   "execution_count": null,
   "metadata": {},
   "outputs": [],
   "source": [
    "ibov = pd.read_csv('data/ibov_setor.csv', \n",
    "                                encoding='ISO-8859-1',\n",
    "                                header=1,\n",
    "                                sep=';',\n",
    "                                decimal=',',\n",
    "                                thousands='.',\n",
    "                                skipfooter=2,\n",
    "                                index_col=False)"
   ]
  },
  {
   "cell_type": "markdown",
   "metadata": {},
   "source": [
    "## Criando DataFrame com empresas do IBRX100"
   ]
  },
  {
   "cell_type": "code",
   "execution_count": null,
   "metadata": {},
   "outputs": [],
   "source": [
    "ibrx = create_df('ibrx100')"
   ]
  },
  {
   "cell_type": "markdown",
   "metadata": {},
   "source": [
    "## Verificando empresas que divergem nos dois índices"
   ]
  },
  {
   "cell_type": "code",
   "execution_count": null,
   "metadata": {},
   "outputs": [],
   "source": [
    "emp_ibrx = ibrx['codigo']\n",
    "set_ibrx = set(emp_ibrx)\n",
    "len(set_ibrx)"
   ]
  },
  {
   "cell_type": "code",
   "execution_count": null,
   "metadata": {},
   "outputs": [],
   "source": [
    "emp_ibov = ibov['codigo']\n",
    "set_ibov = set(emp_ibov)\n",
    "len(set_ibov)"
   ]
  },
  {
   "cell_type": "code",
   "execution_count": null,
   "metadata": {},
   "outputs": [],
   "source": [
    "print(len(set_ibov.difference(set_ibrx)))\n",
    "print(set_ibov.difference(set_ibrx))"
   ]
  },
  {
   "cell_type": "code",
   "execution_count": null,
   "metadata": {},
   "outputs": [],
   "source": [
    "print(len(set_ibrx.difference(set_ibov)))\n",
    "print(set_ibrx.difference(set_ibov))"
   ]
  },
  {
   "cell_type": "markdown",
   "metadata": {},
   "source": [
    "## Criando DataFrame unindo os dois índices"
   ]
  },
  {
   "cell_type": "code",
   "execution_count": null,
   "metadata": {},
   "outputs": [],
   "source": [
    "df_empresas = pd.concat([ibrx, ibov]).drop_duplicates(subset='codigo', ignore_index=True).drop(['qtde_teorica',r'part_%',r'part_%acum'], axis=1)"
   ]
  },
  {
   "cell_type": "markdown",
   "metadata": {},
   "source": [
    "## Criando lista com o código dos pricipais ativos"
   ]
  },
  {
   "cell_type": "code",
   "execution_count": null,
   "metadata": {},
   "outputs": [],
   "source": [
    "codigo = df_empresas['codigo']"
   ]
  },
  {
   "cell_type": "markdown",
   "metadata": {},
   "source": [
    "### Criando lista com o codigo das ações do Yahoo Finance"
   ]
  },
  {
   "cell_type": "code",
   "execution_count": null,
   "metadata": {},
   "outputs": [],
   "source": [
    "codigo_yfinance = list(codigo+'.SA')\n",
    "codigo_yfinance"
   ]
  },
  {
   "cell_type": "markdown",
   "metadata": {},
   "source": [
    "## Yahoo Finance"
   ]
  },
  {
   "cell_type": "code",
   "execution_count": 69,
   "metadata": {},
   "outputs": [
    {
     "ename": "NameError",
     "evalue": "name 'history' is not defined",
     "output_type": "error",
     "traceback": [
      "\u001b[1;31m---------------------------------------------------------------------------\u001b[0m",
      "\u001b[1;31mNameError\u001b[0m                                 Traceback (most recent call last)",
      "\u001b[1;32mc:\\Users\\Pedro\\OneDrive\\Desktop\\Ironhack\\04. GitHub\\data_visualization\\testes.ipynb Célula: 26\u001b[0m in \u001b[0;36m<cell line: 1>\u001b[1;34m()\u001b[0m\n\u001b[1;32m----> <a href='vscode-notebook-cell:/c%3A/Users/Pedro/OneDrive/Desktop/Ironhack/04.%20GitHub/data_visualization/testes.ipynb#X64sZmlsZQ%3D%3D?line=0'>1</a>\u001b[0m help(history())\n",
      "\u001b[1;31mNameError\u001b[0m: name 'history' is not defined"
     ]
    }
   ],
   "source": [
    "help(history())"
   ]
  },
  {
   "cell_type": "code",
   "execution_count": 80,
   "metadata": {},
   "outputs": [
    {
     "ename": "NonExistentTimeError",
     "evalue": "2004-11-02 00:00:00",
     "output_type": "error",
     "traceback": [
      "\u001b[1;31m---------------------------------------------------------------------------\u001b[0m",
      "\u001b[1;31mNonExistentTimeError\u001b[0m                      Traceback (most recent call last)",
      "\u001b[1;32mc:\\Users\\Pedro\\OneDrive\\Desktop\\Ironhack\\04. GitHub\\data_visualization\\testes.ipynb Célula: 27\u001b[0m in \u001b[0;36m<cell line: 1>\u001b[1;34m()\u001b[0m\n\u001b[1;32m----> <a href='vscode-notebook-cell:/c%3A/Users/Pedro/OneDrive/Desktop/Ironhack/04.%20GitHub/data_visualization/testes.ipynb#X55sZmlsZQ%3D%3D?line=0'>1</a>\u001b[0m yf\u001b[39m.\u001b[39;49mTicker(\u001b[39m'\u001b[39;49m\u001b[39mABEV3.SA\u001b[39;49m\u001b[39m'\u001b[39;49m)\u001b[39m.\u001b[39;49mhistory(\u001b[39m'\u001b[39;49m\u001b[39mmax\u001b[39;49m\u001b[39m'\u001b[39;49m)\n",
      "File \u001b[1;32mc:\\Users\\Pedro\\anaconda3\\lib\\site-packages\\yfinance\\base.py:316\u001b[0m, in \u001b[0;36mTickerBase.history\u001b[1;34m(self, period, interval, start, end, prepost, actions, auto_adjust, back_adjust, keepna, proxy, rounding, timeout, **kwargs)\u001b[0m\n\u001b[0;32m    312\u001b[0m     \u001b[39mpass\u001b[39;00m\n\u001b[0;32m    313\u001b[0m \u001b[39melse\u001b[39;00m:\n\u001b[0;32m    314\u001b[0m     \u001b[39m# If a midnight is during DST transition hour when clocks roll back, \u001b[39;00m\n\u001b[0;32m    315\u001b[0m     \u001b[39m# meaning clock hits midnight twice, then use the 2nd (ambiguous=True)\u001b[39;00m\n\u001b[1;32m--> 316\u001b[0m     df\u001b[39m.\u001b[39mindex \u001b[39m=\u001b[39m _pd\u001b[39m.\u001b[39;49mto_datetime(df\u001b[39m.\u001b[39;49mindex\u001b[39m.\u001b[39;49mdate)\u001b[39m.\u001b[39;49mtz_localize(tz_exchange, ambiguous\u001b[39m=\u001b[39;49m\u001b[39mTrue\u001b[39;49;00m)\n\u001b[0;32m    317\u001b[0m     df\u001b[39m.\u001b[39mindex\u001b[39m.\u001b[39mname \u001b[39m=\u001b[39m \u001b[39m\"\u001b[39m\u001b[39mDate\u001b[39m\u001b[39m\"\u001b[39m\n\u001b[0;32m    319\u001b[0m \u001b[39m# duplicates and missing rows cleanup\u001b[39;00m\n",
      "File \u001b[1;32mc:\\Users\\Pedro\\anaconda3\\lib\\site-packages\\pandas\\core\\indexes\\datetimes.py:273\u001b[0m, in \u001b[0;36mDatetimeIndex.tz_localize\u001b[1;34m(self, tz, ambiguous, nonexistent)\u001b[0m\n\u001b[0;32m    271\u001b[0m \u001b[39m@doc\u001b[39m(DatetimeArray\u001b[39m.\u001b[39mtz_localize)\n\u001b[0;32m    272\u001b[0m \u001b[39mdef\u001b[39;00m \u001b[39mtz_localize\u001b[39m(\u001b[39mself\u001b[39m, tz, ambiguous\u001b[39m=\u001b[39m\u001b[39m\"\u001b[39m\u001b[39mraise\u001b[39m\u001b[39m\"\u001b[39m, nonexistent\u001b[39m=\u001b[39m\u001b[39m\"\u001b[39m\u001b[39mraise\u001b[39m\u001b[39m\"\u001b[39m) \u001b[39m-\u001b[39m\u001b[39m>\u001b[39m DatetimeIndex:\n\u001b[1;32m--> 273\u001b[0m     arr \u001b[39m=\u001b[39m \u001b[39mself\u001b[39;49m\u001b[39m.\u001b[39;49m_data\u001b[39m.\u001b[39;49mtz_localize(tz, ambiguous, nonexistent)\n\u001b[0;32m    274\u001b[0m     \u001b[39mreturn\u001b[39;00m \u001b[39mtype\u001b[39m(\u001b[39mself\u001b[39m)\u001b[39m.\u001b[39m_simple_new(arr, name\u001b[39m=\u001b[39m\u001b[39mself\u001b[39m\u001b[39m.\u001b[39mname)\n",
      "File \u001b[1;32mc:\\Users\\Pedro\\anaconda3\\lib\\site-packages\\pandas\\core\\arrays\\_mixins.py:84\u001b[0m, in \u001b[0;36mravel_compat.<locals>.method\u001b[1;34m(self, *args, **kwargs)\u001b[0m\n\u001b[0;32m     81\u001b[0m \u001b[39m@wraps\u001b[39m(meth)\n\u001b[0;32m     82\u001b[0m \u001b[39mdef\u001b[39;00m \u001b[39mmethod\u001b[39m(\u001b[39mself\u001b[39m, \u001b[39m*\u001b[39margs, \u001b[39m*\u001b[39m\u001b[39m*\u001b[39mkwargs):\n\u001b[0;32m     83\u001b[0m     \u001b[39mif\u001b[39;00m \u001b[39mself\u001b[39m\u001b[39m.\u001b[39mndim \u001b[39m==\u001b[39m \u001b[39m1\u001b[39m:\n\u001b[1;32m---> 84\u001b[0m         \u001b[39mreturn\u001b[39;00m meth(\u001b[39mself\u001b[39m, \u001b[39m*\u001b[39margs, \u001b[39m*\u001b[39m\u001b[39m*\u001b[39mkwargs)\n\u001b[0;32m     86\u001b[0m     flags \u001b[39m=\u001b[39m \u001b[39mself\u001b[39m\u001b[39m.\u001b[39m_ndarray\u001b[39m.\u001b[39mflags\n\u001b[0;32m     87\u001b[0m     flat \u001b[39m=\u001b[39m \u001b[39mself\u001b[39m\u001b[39m.\u001b[39mravel(\u001b[39m\"\u001b[39m\u001b[39mK\u001b[39m\u001b[39m\"\u001b[39m)\n",
      "File \u001b[1;32mc:\\Users\\Pedro\\anaconda3\\lib\\site-packages\\pandas\\core\\arrays\\datetimes.py:1043\u001b[0m, in \u001b[0;36mDatetimeArray.tz_localize\u001b[1;34m(self, tz, ambiguous, nonexistent)\u001b[0m\n\u001b[0;32m   1040\u001b[0m     tz \u001b[39m=\u001b[39m timezones\u001b[39m.\u001b[39mmaybe_get_tz(tz)\n\u001b[0;32m   1041\u001b[0m     \u001b[39m# Convert to UTC\u001b[39;00m\n\u001b[1;32m-> 1043\u001b[0m     new_dates \u001b[39m=\u001b[39m tzconversion\u001b[39m.\u001b[39;49mtz_localize_to_utc(\n\u001b[0;32m   1044\u001b[0m         \u001b[39mself\u001b[39;49m\u001b[39m.\u001b[39;49masi8, tz, ambiguous\u001b[39m=\u001b[39;49mambiguous, nonexistent\u001b[39m=\u001b[39;49mnonexistent\n\u001b[0;32m   1045\u001b[0m     )\n\u001b[0;32m   1046\u001b[0m new_dates \u001b[39m=\u001b[39m new_dates\u001b[39m.\u001b[39mview(DT64NS_DTYPE)\n\u001b[0;32m   1047\u001b[0m dtype \u001b[39m=\u001b[39m tz_to_dtype(tz)\n",
      "File \u001b[1;32mc:\\Users\\Pedro\\anaconda3\\lib\\site-packages\\pandas\\_libs\\tslibs\\tzconversion.pyx:328\u001b[0m, in \u001b[0;36mpandas._libs.tslibs.tzconversion.tz_localize_to_utc\u001b[1;34m()\u001b[0m\n",
      "\u001b[1;31mNonExistentTimeError\u001b[0m: 2004-11-02 00:00:00"
     ]
    }
   ],
   "source": [
    "yf.Ticker('ABEV3.SA').history('max')"
   ]
  },
  {
   "cell_type": "code",
   "execution_count": null,
   "metadata": {},
   "outputs": [],
   "source": []
  }
 ],
 "metadata": {
  "kernelspec": {
   "display_name": "Python 3.9.12 ('base')",
   "language": "python",
   "name": "python3"
  },
  "language_info": {
   "codemirror_mode": {
    "name": "ipython",
    "version": 3
   },
   "file_extension": ".py",
   "mimetype": "text/x-python",
   "name": "python",
   "nbconvert_exporter": "python",
   "pygments_lexer": "ipython3",
   "version": "3.9.12"
  },
  "orig_nbformat": 4,
  "vscode": {
   "interpreter": {
    "hash": "2d90c038637108ac29aff4d22cdf99e3e2599f922ccc5532827d676edf9e0ab0"
   }
  }
 },
 "nbformat": 4,
 "nbformat_minor": 2
}
