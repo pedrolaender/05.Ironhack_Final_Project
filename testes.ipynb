{
 "cells": [
  {
   "attachments": {},
   "cell_type": "markdown",
   "metadata": {},
   "source": [
    "# Installing Libraries"
   ]
  },
  {
   "cell_type": "code",
   "execution_count": null,
   "metadata": {},
   "outputs": [],
   "source": [
    "#!pip install pandas_datareader"
   ]
  },
  {
   "cell_type": "code",
   "execution_count": null,
   "metadata": {},
   "outputs": [],
   "source": [
    "#!pip install yfinance"
   ]
  },
  {
   "cell_type": "code",
   "execution_count": null,
   "metadata": {},
   "outputs": [],
   "source": [
    "#!pip install yfinance --upgrade --no-cache-dir\n"
   ]
  },
  {
   "cell_type": "code",
   "execution_count": null,
   "metadata": {},
   "outputs": [],
   "source": [
    "#!pip install html5lib"
   ]
  },
  {
   "attachments": {},
   "cell_type": "markdown",
   "metadata": {},
   "source": [
    "# Importing Libraries"
   ]
  },
  {
   "cell_type": "code",
   "execution_count": 132,
   "metadata": {},
   "outputs": [],
   "source": [
    "import pandas as pd\n",
    "import numpy as np\n",
    "import requests\n",
    "from bs4 import BeautifulSoup\n",
    "from unidecode import unidecode\n",
    "import re\n",
    "import os\n",
    "import yfinance as yf\n",
    "from time import sleep\n",
    "import glob\n",
    "import regex as re\n",
    "import datetime\n",
    "import sqlalchemy as db\n",
    "from dotenv import load_dotenv"
   ]
  },
  {
   "attachments": {},
   "cell_type": "markdown",
   "metadata": {},
   "source": [
    "# Gathering Data - Brazilian Companies\n",
    "\n",
    "### List of brazilian companies and composition of indexes - Ibovespa, IBrX100, IBrX50, IBrA"
   ]
  },
  {
   "attachments": {},
   "cell_type": "markdown",
   "metadata": {},
   "source": [
    "## Selenium\n",
    "\n",
    "Used to get list of companies in brazilian's index"
   ]
  },
  {
   "attachments": {},
   "cell_type": "markdown",
   "metadata": {},
   "source": [
    "### Configurating WebDriver"
   ]
  },
  {
   "cell_type": "code",
   "execution_count": 2,
   "metadata": {},
   "outputs": [],
   "source": [
    "from selenium import webdriver\n",
    "from selenium.webdriver.common.by import By\n",
    "from selenium.webdriver.common.keys import Keys\n",
    "from selenium.webdriver.common.action_chains import ActionChains"
   ]
  },
  {
   "attachments": {},
   "cell_type": "markdown",
   "metadata": {},
   "source": [
    "### Configurating download file"
   ]
  },
  {
   "cell_type": "code",
   "execution_count": 3,
   "metadata": {},
   "outputs": [],
   "source": [
    "chromeOptions = webdriver.ChromeOptions()\n",
    "download_path = r'C:\\Users\\Pedro\\OneDrive\\Desktop\\Ironhack\\04. GitHub\\stocks_project\\data'\n",
    "prefs = {\"download.default_directory\" : download_path}\n",
    "chromeOptions.add_experimental_option(\"prefs\",prefs)"
   ]
  },
  {
   "cell_type": "code",
   "execution_count": null,
   "metadata": {},
   "outputs": [],
   "source": [
    "#Runs the webdriver\n",
    "driver = webdriver.Chrome(options=chromeOptions)"
   ]
  },
  {
   "attachments": {},
   "cell_type": "markdown",
   "metadata": {},
   "source": [
    "### Download Index File (.csv)"
   ]
  },
  {
   "cell_type": "code",
   "execution_count": null,
   "metadata": {},
   "outputs": [],
   "source": [
    "def get_index_stocks(index, wait=6):\n",
    "    '''\n",
    "        Receives the Index name, download a file that contains the index tickers, and return the name of the downloaded file\n",
    "    '''\n",
    "\n",
    "    # Chrome WebDriver opens the index webside\n",
    "    url = f'https://sistemaswebb3-listados.b3.com.br/indexPage/day/{index.upper()}?language=pt-br'\n",
    "    driver.get(url)\n",
    "    driver.implicitly_wait(wait)\n",
    "\n",
    "    driver.find_element(By.ID, 'segment').send_keys(\"Setor de Atuação\")\n",
    "    driver.implicitly_wait(wait)\n",
    "    driver.find_element(By.LINK_TEXT, 'Download').click()\n",
    "    driver.implicitly_wait(wait)\n",
    "\n",
    "    # Set the directory\n",
    "    os.chdir(r'C:\\Users\\Pedro\\OneDrive\\Desktop\\Ironhack\\04. GitHub\\stocks_project\\data')\n",
    "    sleep(wait)\n",
    "\n",
    "    # Get the .csv files from the selectec directory and sort them ascending by modification date \n",
    "    files = list(glob.glob('*csv'))\n",
    "    files.sort(key=lambda x: os.path.getmtime(x), reverse=True)\n",
    "\n",
    "    # Returns the name of the most recent file\n",
    "    return files[0]"
   ]
  },
  {
   "attachments": {},
   "cell_type": "markdown",
   "metadata": {},
   "source": [
    "### Create the Index DataFrame"
   ]
  },
  {
   "cell_type": "code",
   "execution_count": null,
   "metadata": {},
   "outputs": [],
   "source": [
    "def create_df(file):\n",
    "    '''\n",
    "        This function receives the name of the Stock Exchange index and returns a DataFrame with all companies and their respective sectors\n",
    "    '''\n",
    "\n",
    "    # Creating DataFrame\n",
    "    DataFrame = pd.read_csv(file, \n",
    "                                encoding='ISO-8859-1',\n",
    "                                header=1,                   # Uses line 1 as header\n",
    "                                sep=';',                    \n",
    "                                decimal=',',\n",
    "                                thousands='.',\n",
    "                                skipfooter=2,               # Removes last 2 lines\n",
    "                                engine='python',\n",
    "                                index_col=False)            # Does not make first column as index\n",
    "    \n",
    "    # Normalizing columns\n",
    "    DataFrame.columns = [re.sub('[\\.()]', '', re.sub(' ', '_', unidecode(columns.lower()))) for columns in DataFrame.columns]\n",
    "\n",
    "    return DataFrame"
   ]
  },
  {
   "attachments": {},
   "cell_type": "markdown",
   "metadata": {},
   "source": [
    "## Creating Index's DataFrames"
   ]
  },
  {
   "cell_type": "code",
   "execution_count": 4,
   "metadata": {},
   "outputs": [],
   "source": [
    "# Defining file's path\n",
    "path = r'C:\\Users\\Pedro\\OneDrive\\Desktop\\Ironhack\\04. GitHub\\stocks_project\\data/'"
   ]
  },
  {
   "cell_type": "code",
   "execution_count": null,
   "metadata": {},
   "outputs": [],
   "source": [
    "# Defining DataFrames' columns names\n",
    "col_names = [\n",
    "    'sector',\n",
    "    'ticker',\n",
    "    'name',\n",
    "    'type',\n",
    "    'amount',\n",
    "    'percentage',\n",
    "    'percentage_acum'\n",
    "]"
   ]
  },
  {
   "cell_type": "markdown",
   "metadata": {},
   "source": [
    "### Ibovespa"
   ]
  },
  {
   "cell_type": "code",
   "execution_count": null,
   "metadata": {},
   "outputs": [],
   "source": [
    "ibov = create_df(get_index_stocks('ibov'))\n",
    "len(ibov)"
   ]
  },
  {
   "cell_type": "code",
   "execution_count": null,
   "metadata": {},
   "outputs": [],
   "source": [
    "ibov.columns = col_names"
   ]
  },
  {
   "cell_type": "code",
   "execution_count": null,
   "metadata": {},
   "outputs": [],
   "source": [
    "# Save index file\n",
    "ibov.to_csv(f'{path}IBOV.csv',\n",
    "                    encoding='ISO-8859-1',\n",
    "                    sep=';',\n",
    "                    decimal='.',\n",
    "                    index=False)"
   ]
  },
  {
   "cell_type": "markdown",
   "metadata": {},
   "source": [
    "### IBrX100"
   ]
  },
  {
   "cell_type": "code",
   "execution_count": null,
   "metadata": {},
   "outputs": [],
   "source": [
    "ibrx = create_df(get_index_stocks('ibxx'))\n",
    "len(ibrx)"
   ]
  },
  {
   "cell_type": "code",
   "execution_count": null,
   "metadata": {},
   "outputs": [],
   "source": [
    "ibrx.columns = col_names"
   ]
  },
  {
   "cell_type": "code",
   "execution_count": null,
   "metadata": {},
   "outputs": [],
   "source": [
    "# Save index file\n",
    "ibrx.to_csv(f'{path}IBRX100.csv',\n",
    "                    encoding='ISO-8859-1',\n",
    "                    sep=';',\n",
    "                    decimal='.',\n",
    "                    index=False)"
   ]
  },
  {
   "cell_type": "markdown",
   "metadata": {},
   "source": [
    "### IBrX50"
   ]
  },
  {
   "cell_type": "code",
   "execution_count": null,
   "metadata": {},
   "outputs": [],
   "source": [
    "ibrx50 = create_df(get_index_stocks('ibxl'))\n",
    "len(ibrx50)"
   ]
  },
  {
   "cell_type": "code",
   "execution_count": null,
   "metadata": {},
   "outputs": [],
   "source": [
    "ibrx50.columns = col_names"
   ]
  },
  {
   "cell_type": "code",
   "execution_count": null,
   "metadata": {},
   "outputs": [],
   "source": [
    "# Save index file\n",
    "ibrx50.to_csv(f'{path}IBRX50.csv',\n",
    "                    encoding='ISO-8859-1',\n",
    "                    sep=';',\n",
    "                    decimal='.',\n",
    "                    index=False)"
   ]
  },
  {
   "cell_type": "markdown",
   "metadata": {},
   "source": [
    "### IBrA"
   ]
  },
  {
   "cell_type": "code",
   "execution_count": null,
   "metadata": {},
   "outputs": [],
   "source": [
    "ibra = create_df(get_index_stocks('ibra'))\n",
    "len(ibra)"
   ]
  },
  {
   "cell_type": "code",
   "execution_count": null,
   "metadata": {},
   "outputs": [],
   "source": [
    "ibra.columns = col_names"
   ]
  },
  {
   "cell_type": "code",
   "execution_count": null,
   "metadata": {},
   "outputs": [],
   "source": [
    "# Save index file\n",
    "ibra.to_csv(f'{path}IBRA.csv',\n",
    "                    encoding='ISO-8859-1',\n",
    "                    sep=';',\n",
    "                    decimal='.',\n",
    "                    index=False)"
   ]
  },
  {
   "attachments": {},
   "cell_type": "markdown",
   "metadata": {},
   "source": [
    "### Transform Sector - Obsoleto?"
   ]
  },
  {
   "cell_type": "code",
   "execution_count": null,
   "metadata": {},
   "outputs": [],
   "source": [
    "ibra = pd.read_csv(f'{path}IBRA.csv',\n",
    "                    encoding='ISO-8859-1',\n",
    "                    sep=';',\n",
    "                    decimal='.')"
   ]
  },
  {
   "cell_type": "code",
   "execution_count": null,
   "metadata": {},
   "outputs": [],
   "source": [
    "len(ibra)"
   ]
  },
  {
   "cell_type": "code",
   "execution_count": null,
   "metadata": {},
   "outputs": [],
   "source": [
    "ibra"
   ]
  },
  {
   "cell_type": "code",
   "execution_count": null,
   "metadata": {},
   "outputs": [],
   "source": [
    "ibra[['sector_aux', 'sub_sector_aux']] = ibra['sector'].str.split('/',expand=True)"
   ]
  },
  {
   "cell_type": "code",
   "execution_count": null,
   "metadata": {},
   "outputs": [],
   "source": [
    "ibra['sector_aux'] = ibra['sector_aux'].str.strip()\n",
    "ibra['sub_sector_aux'] = ibra['sub_sector_aux'].str.strip()"
   ]
  },
  {
   "cell_type": "code",
   "execution_count": null,
   "metadata": {},
   "outputs": [],
   "source": [
    "len(ibra['sector_aux'].unique())"
   ]
  },
  {
   "cell_type": "code",
   "execution_count": null,
   "metadata": {},
   "outputs": [],
   "source": [
    "len(ibra['sub_sector_aux'].unique())"
   ]
  },
  {
   "cell_type": "markdown",
   "metadata": {},
   "source": [
    "## Verificando empresas que divergem nos dois índices - Obsoleto"
   ]
  },
  {
   "cell_type": "code",
   "execution_count": null,
   "metadata": {},
   "outputs": [],
   "source": [
    "emp_ibrx = ibrx['codigo']\n",
    "set_ibrx = set(emp_ibrx)\n",
    "len(set_ibrx)"
   ]
  },
  {
   "cell_type": "code",
   "execution_count": null,
   "metadata": {},
   "outputs": [],
   "source": [
    "emp_ibov = ibov['codigo']\n",
    "set_ibov = set(emp_ibov)\n",
    "len(set_ibov)"
   ]
  },
  {
   "cell_type": "code",
   "execution_count": null,
   "metadata": {},
   "outputs": [],
   "source": [
    "emp_ibra = ibra['codigo']\n",
    "set_ibra = set(emp_ibra)\n",
    "len(set_ibra)"
   ]
  },
  {
   "cell_type": "code",
   "execution_count": null,
   "metadata": {},
   "outputs": [],
   "source": [
    "print(len(set_ibra.difference(set_ibrx)))\n",
    "print(set_ibra.difference(set_ibrx))"
   ]
  },
  {
   "cell_type": "code",
   "execution_count": null,
   "metadata": {},
   "outputs": [],
   "source": [
    "print(len(set_ibov.difference(set_ibrx)))\n",
    "print(set_ibov.difference(set_ibrx))"
   ]
  },
  {
   "cell_type": "code",
   "execution_count": null,
   "metadata": {},
   "outputs": [],
   "source": [
    "print(len(set_ibrx.difference(set_ibov)))\n",
    "print(set_ibrx.difference(set_ibov))"
   ]
  },
  {
   "cell_type": "markdown",
   "metadata": {},
   "source": [
    "### Verificando qual empresa da lista completa não exista em 2021"
   ]
  },
  {
   "cell_type": "code",
   "execution_count": null,
   "metadata": {},
   "outputs": [],
   "source": [
    "set_codigo = set(lista_codigo)\n",
    "set_empresas_2021 = set(empresas_2021)\n",
    "\n",
    "print(len(set_codigo.difference(set_empresas_2021)))\n",
    "print(set_codigo.difference(set_empresas_2021))"
   ]
  },
  {
   "cell_type": "markdown",
   "metadata": {},
   "source": [
    "## Criando DataFrame unindo os dois índices - Obsoleto"
   ]
  },
  {
   "cell_type": "code",
   "execution_count": null,
   "metadata": {},
   "outputs": [],
   "source": [
    "df_empresas = pd.concat([ibrx, ibov]).drop_duplicates(subset='codigo', ignore_index=True).drop(['qtde_teorica',r'part_%',r'part_%acum'], axis=1)"
   ]
  },
  {
   "attachments": {},
   "cell_type": "markdown",
   "metadata": {},
   "source": [
    "# Gathering Data - Brazilian Companies Historical Dataset\n",
    "\n",
    "### Create data set concatenating historical datasets downloaded from B3 website with data from the companies listed in IBRA Index"
   ]
  },
  {
   "cell_type": "markdown",
   "metadata": {},
   "source": [
    "## Criando lista com o código dos pricipais ativos"
   ]
  },
  {
   "cell_type": "code",
   "execution_count": null,
   "metadata": {},
   "outputs": [],
   "source": [
    "## Utilizar lista do IBRA\n",
    "codigo = list(set_ibra)"
   ]
  },
  {
   "attachments": {},
   "cell_type": "markdown",
   "metadata": {},
   "source": [
    "## Unzip files"
   ]
  },
  {
   "cell_type": "code",
   "execution_count": null,
   "metadata": {},
   "outputs": [],
   "source": [
    "import zipfile\n",
    "path = r'C:\\Users\\Pedro\\OneDrive\\Desktop\\Ironhack\\04. GitHub\\data_visualization\\data/'\n",
    "\n",
    "i = 1986\n",
    "\n",
    "while i < 2000:\n",
    "    with zipfile.ZipFile(f'{path}COTAHIST_A{i}.zip', 'r') as zip_ref:\n",
    "        zip_ref.extractall(path)\n",
    "    i +=1\n",
    "\n"
   ]
  },
  {
   "cell_type": "markdown",
   "metadata": {},
   "source": [
    "## Rename files"
   ]
  },
  {
   "cell_type": "code",
   "execution_count": null,
   "metadata": {},
   "outputs": [],
   "source": [
    "os.listdir()"
   ]
  },
  {
   "cell_type": "code",
   "execution_count": null,
   "metadata": {},
   "outputs": [],
   "source": [
    "i = 2000\n",
    "\n",
    "while i < 2022:\n",
    "    os.rename(f'COTAHIST_A{i}.TXT', f'COTAHIST_A{i}.txt')\n",
    "    i +=1"
   ]
  },
  {
   "cell_type": "markdown",
   "metadata": {},
   "source": [
    "## Setting configurations to read B3 historical files"
   ]
  },
  {
   "cell_type": "code",
   "execution_count": null,
   "metadata": {},
   "outputs": [],
   "source": [
    "pd.set_option('display.max_columns', 500)\n",
    "pd.options.display.max_columns=500"
   ]
  },
  {
   "cell_type": "code",
   "execution_count": null,
   "metadata": {},
   "outputs": [],
   "source": [
    "path = r'C:\\Users\\Pedro\\OneDrive\\Desktop\\Ironhack\\05. Dados\\B3\\txt/'\n",
    "\n",
    "year = 2022\n",
    "\n",
    "widths = [2,8,2,12,3,12,10,3,4,13,13,13,13,13,13,13,5,18,18,13,1,8,7,13,12,3]\n",
    "\n",
    "col_names = [\n",
    "\"tipo_registro\",\n",
    "\"data_pregao\",\n",
    "\"cod_bdi\",\n",
    "\"cod_negociacao\",\n",
    "\"tipo_mercado\",\n",
    "\"nome_empresa\",\n",
    "\"especificacao_papel\",\n",
    "\"prazo_dias_merc_termo\",\n",
    "\"moeda_referencia\",\n",
    "\"preco_abertura\",\n",
    "\"preco_maximo\",\n",
    "\"preco_minimo\",\n",
    "\"preco_medio\",\n",
    "\"preco_ultimo_negocio\",\n",
    "\"preco_melhor_oferta_compra\",\n",
    "\"preco_melhor_oferta_venda\",\n",
    "\"numero_negocios\",\n",
    "\"quantidade_papeis_negociados\",\n",
    "\"volume_total_negociado\",\n",
    "\"preco_exercicio\",\n",
    "\"ìndicador_correcao_precos\",\n",
    "\"data_vencimento\" ,\n",
    "\"fator_cotacao\",\n",
    "\"preco_exercicio_pontos\",\n",
    "\"codigo_isin\",\n",
    "\"num_distribuicao_papel\"]\n",
    "\n",
    "decimal_config=[\n",
    "\"preco_abertura\",\n",
    "\"preco_maximo\",\n",
    "\"preco_minimo\",\n",
    "\"preco_medio\",\n",
    "\"preco_ultimo_negocio\",\n",
    "\"preco_melhor_oferta_compra\",\n",
    "\"preco_melhor_oferta_venda\",\n",
    "\"volume_total_negociado\",\n",
    "\"preco_exercicio\",\n",
    "\"preco_exercicio_pontos\"\n",
    "]\n",
    "\n",
    "\n",
    "remains = [\n",
    "\"data_pregao\",\n",
    "\"cod_negociacao\",\n",
    "\"tipo_mercado\",\n",
    "\"nome_empresa\",\n",
    "\"preco_abertura\",\n",
    "\"preco_maximo\",\n",
    "\"preco_minimo\",\n",
    "\"preco_medio\",\n",
    "\"preco_ultimo_negocio\",\n",
    "]"
   ]
  },
  {
   "cell_type": "code",
   "execution_count": null,
   "metadata": {},
   "outputs": [],
   "source": [
    "dataset = pd.DataFrame()"
   ]
  },
  {
   "cell_type": "code",
   "execution_count": null,
   "metadata": {},
   "outputs": [],
   "source": [
    "'''     Concatenate DataFrames\n",
    "year = 2022\n",
    "while year > 1985:\n",
    "    df = pd.read_fwf(f'{path}COTAHIST_A{year}.TXT',\n",
    "                                    encoding='ISO-8859-1',\n",
    "                                    header=0,\n",
    "                                    widths=widths,\n",
    "                                    skipfooter=1,\n",
    "                                    engine='python',\n",
    "                                    parse_dates=[1],\n",
    "                                    infer_datetime_format=True,\n",
    "                                    index_col=False)\n",
    "    year -= 1\n",
    "\n",
    "    #Definindo nomes das colunas\n",
    "    df.columns = col_names\n",
    "\n",
    "    #Corrigindo casas decimais\n",
    "    for col in decimal_config:\n",
    "        df[col]=df[col]/100\n",
    "\n",
    "    #Selecionando colunas\n",
    "    df = df[remains]\n",
    "    \n",
    "    #Mascara de empresas desejadas\n",
    "    mask_empresas = df.cod_negociacao.isin(codigo)\n",
    "\n",
    "    df = df[mask_empresas]\n",
    "\n",
    "    dataset = pd.concat([dataset, df], ignore_index=True)\n",
    "'''"
   ]
  },
  {
   "attachments": {},
   "cell_type": "markdown",
   "metadata": {},
   "source": [
    "## Export DF - Historical Series"
   ]
  },
  {
   "cell_type": "code",
   "execution_count": null,
   "metadata": {},
   "outputs": [],
   "source": [
    "dataset.to_csv(f'{path}dataset_IBRA.csv',\n",
    "                    encoding='ISO-8859-1',\n",
    "                    sep=';',\n",
    "                    decimal='.',\n",
    "                    index=False)"
   ]
  },
  {
   "cell_type": "code",
   "execution_count": null,
   "metadata": {},
   "outputs": [],
   "source": [
    "pd.read_csv(f'{path}dataset_IBRA.csv',\n",
    "                encoding='ISO-8859-1',\n",
    "                sep=';',\n",
    "                decimal='.',\n",
    "                index_col=False\n",
    "                )"
   ]
  },
  {
   "attachments": {},
   "cell_type": "markdown",
   "metadata": {},
   "source": [
    "# Gathering Data From Yahoo Finance\n",
    "\n",
    "### Get historical series of brazilian and american indexes\n",
    "### Get historical series of Gold, Bitcoin and Ethererum\n",
    "### Get historical series of american companies"
   ]
  },
  {
   "attachments": {},
   "cell_type": "markdown",
   "metadata": {},
   "source": [
    "## Yahoo Finance"
   ]
  },
  {
   "cell_type": "code",
   "execution_count": null,
   "metadata": {},
   "outputs": [],
   "source": [
    "# Set YFinance setting\n",
    "\n",
    "symbol_list_br = ['^BVSP','^IBX50']\n",
    "symbol_list_eua = ['^DJI','^IXIC','^GSPC','GC=F']\n",
    "symbol_list_crypto = ['BTC-USD', 'ETH-USD']\n",
    "\n",
    "name_dict={\n",
    "    '^BVSP':'Ibovespa',\n",
    "    '^IBX50':'IBrX50',\n",
    "    '^DJI':'Dow Jones',\n",
    "    '^IXIC':'NASDAQ',\n",
    "    '^GSPC':'S&P 500',\n",
    "    'GC=F':'Ouro ($)',\n",
    "    'BTC-USD':'Bitcoin ($)',\n",
    "    'ETH-USD':'Ethereum ($)'\n",
    "}\n",
    "\n",
    "col_names = ['date',\n",
    "\"open\",\n",
    "\"high\",\n",
    "\"low\",\n",
    "\"close\",\n",
    "'cod_yfinance']\n",
    "\n",
    "drop_col = ['Volume','Dividends','Stock Splits']\n",
    "\n",
    "start = '2000-01-01'\n",
    "start_br ='2004-11-03'"
   ]
  },
  {
   "cell_type": "code",
   "execution_count": null,
   "metadata": {},
   "outputs": [],
   "source": [
    "# Create empty indexes DataFrames\n",
    "'''\n",
    "df_br = pd.DataFrame()\n",
    "df_eua = pd.DataFrame()\n",
    "df_crypto = pd.DataFrame()\n",
    "'''"
   ]
  },
  {
   "cell_type": "code",
   "execution_count": null,
   "metadata": {},
   "outputs": [],
   "source": [
    "# Fill brazilian indexes historical series dataset\n",
    "'''\n",
    "for ativo in symbol_list_br:\n",
    "        chamada_api = yf.Ticker(ativo).history(period='max')\n",
    "        chamada_api['cod_yfinace'] = ativo\n",
    "        df_br = pd.concat([df_br, chamada_api])\n",
    "'''"
   ]
  },
  {
   "cell_type": "code",
   "execution_count": null,
   "metadata": {},
   "outputs": [],
   "source": [
    "# Tranform data from index to column 0\n",
    "'''\n",
    "df_br = df_br.drop(drop_col, axis = 1)\n",
    "df_br.reset_index(inplace=True)\n",
    "df_br['Date'] = df_br['Date'].dt.date\n",
    "df_br.columns = col_names\n",
    "df_br\n",
    "'''"
   ]
  },
  {
   "cell_type": "code",
   "execution_count": null,
   "metadata": {},
   "outputs": [],
   "source": [
    "# Put indexes names in the DF\n",
    "df_br['name'] = df_br['cod_yfinance'].map(name_dict)"
   ]
  },
  {
   "cell_type": "code",
   "execution_count": null,
   "metadata": {},
   "outputs": [],
   "source": [
    "# Reroder columns\n",
    "df_br = df_br[['date','name','open','high','low','close','cod_yfinance']]"
   ]
  },
  {
   "cell_type": "code",
   "execution_count": null,
   "metadata": {},
   "outputs": [],
   "source": [
    "# Save DataFrame\n",
    "df_br.to_csv(f'{path}index_br.csv',\n",
    "                    encoding='ISO-8859-1',\n",
    "                    sep=';',\n",
    "                    decimal='.',\n",
    "                    index=False)"
   ]
  },
  {
   "cell_type": "code",
   "execution_count": null,
   "metadata": {},
   "outputs": [],
   "source": [
    "# Read DataFrame\n",
    "index_br = pd.read_csv(f'{path}index_br.csv',\n",
    "                    sep = ';',\n",
    "                    decimal = '.',\n",
    "                    encoding='ISO-8859-1',\n",
    "                    index_col=False\n",
    ")"
   ]
  },
  {
   "cell_type": "code",
   "execution_count": null,
   "metadata": {},
   "outputs": [],
   "source": [
    "index_br"
   ]
  },
  {
   "cell_type": "code",
   "execution_count": null,
   "metadata": {},
   "outputs": [],
   "source": [
    "# Fill american indexes and gold historical series dataset\n",
    "'''\n",
    "for ativo in symbol_list_eua:\n",
    "        chamada_api = yf.Ticker(ativo).history(period='max')\n",
    "        chamada_api['cod_yfinance'] = ativo\n",
    "        df_eua = pd.concat([df_eua, chamada_api])\n",
    "'''"
   ]
  },
  {
   "cell_type": "code",
   "execution_count": null,
   "metadata": {},
   "outputs": [],
   "source": [
    "# Tranform data from index to column 0\n",
    "'''\n",
    "df_eua = df_eua.drop(drop_col, axis = 1)\n",
    "df_eua.reset_index(inplace=True)\n",
    "df_eua['Date'] = df_eua['Date'].dt.date\n",
    "df_eua.columns = col_names\n",
    "df_eua\n",
    "'''"
   ]
  },
  {
   "cell_type": "code",
   "execution_count": null,
   "metadata": {},
   "outputs": [],
   "source": [
    "# Put indexes names in the DF\n",
    "df_eua['name'] = df_eua['cod_yfinance'].map(name_dict)"
   ]
  },
  {
   "cell_type": "code",
   "execution_count": null,
   "metadata": {},
   "outputs": [],
   "source": [
    "# Reorder columns\n",
    "df_eua = df_eua[['date','name','open','high','low','close','cod_yfinance']]"
   ]
  },
  {
   "cell_type": "code",
   "execution_count": null,
   "metadata": {},
   "outputs": [],
   "source": [
    "# Save DataFrame\n",
    "df_eua.to_csv(f'{path}index_eua.csv',\n",
    "                    encoding='ISO-8859-1',\n",
    "                    sep=';',\n",
    "                    decimal='.',\n",
    "                    index=False)"
   ]
  },
  {
   "cell_type": "code",
   "execution_count": null,
   "metadata": {},
   "outputs": [],
   "source": [
    "# Read DataFrame\n",
    "index_eua = pd.read_csv(f'{path}index_eua.csv',\n",
    "                    sep = ';',\n",
    "                    decimal = '.',\n",
    "                    encoding='ISO-8859-1',\n",
    "                    index_col=False)"
   ]
  },
  {
   "cell_type": "code",
   "execution_count": null,
   "metadata": {},
   "outputs": [],
   "source": [
    "index_eua"
   ]
  },
  {
   "cell_type": "code",
   "execution_count": null,
   "metadata": {},
   "outputs": [],
   "source": [
    "# Fill cripto historical series dataset\n",
    "'''\n",
    "for ativo in symbol_list_crypto:\n",
    "        chamada_api = yf.Ticker(ativo).history(period='max')\n",
    "        chamada_api['cod_yfinace'] = ativo\n",
    "        df_crypto = pd.concat([df_crypto, chamada_api])\n",
    "'''"
   ]
  },
  {
   "cell_type": "code",
   "execution_count": null,
   "metadata": {},
   "outputs": [],
   "source": [
    "# Tranform data from index to column 0\n",
    "'''\n",
    "df_crypto = df_crypto.drop(drop_col, axis = 1)\n",
    "df_crypto.reset_index(inplace=True)\n",
    "df_crypto['Date'] = df_crypto['Date'].dt.date\n",
    "df_crypto.columns = col_names\n",
    "df_crypto\n",
    "'''"
   ]
  },
  {
   "cell_type": "code",
   "execution_count": null,
   "metadata": {},
   "outputs": [],
   "source": [
    "# Put indexes names in the DF\n",
    "df_crypto['name'] = df_crypto['cod_yfinance'].map(name_dict)"
   ]
  },
  {
   "cell_type": "code",
   "execution_count": null,
   "metadata": {},
   "outputs": [],
   "source": [
    "# Reorder columns\n",
    "df_crypto = df_crypto[['date','name','open','high','low','close','cod_yfinance']]"
   ]
  },
  {
   "cell_type": "code",
   "execution_count": null,
   "metadata": {},
   "outputs": [],
   "source": [
    "df_crypto.to_csv(f'{path}crypto.csv',\n",
    "                    encoding='ISO-8859-1',\n",
    "                    sep=';',\n",
    "                    decimal='.',\n",
    "                    index=False)"
   ]
  },
  {
   "cell_type": "code",
   "execution_count": null,
   "metadata": {},
   "outputs": [],
   "source": [
    "crypto = pd.read_csv(f'{path}crypto.csv',\n",
    "                    sep = ';',\n",
    "                    decimal = '.',\n",
    "                    encoding='ISO-8859-1',\n",
    "                    index_col=False)\n"
   ]
  },
  {
   "cell_type": "code",
   "execution_count": null,
   "metadata": {},
   "outputs": [],
   "source": [
    "crypto"
   ]
  },
  {
   "attachments": {},
   "cell_type": "markdown",
   "metadata": {},
   "source": [
    "# Gathering Data - American Companies\n",
    "\n",
    "### List of american companies and composition of indexes - S&P500, Dow Jones, Nasdaq"
   ]
  },
  {
   "cell_type": "markdown",
   "metadata": {},
   "source": [
    "## S&P500"
   ]
  },
  {
   "cell_type": "code",
   "execution_count": null,
   "metadata": {},
   "outputs": [],
   "source": [
    "url = 'https://en.wikipedia.org/wiki/List_of_S%26P_500_companies'\n",
    "\n",
    "data = pd.read_html(url)"
   ]
  },
  {
   "cell_type": "code",
   "execution_count": null,
   "metadata": {},
   "outputs": [],
   "source": [
    "data[0].head()"
   ]
  },
  {
   "cell_type": "code",
   "execution_count": null,
   "metadata": {},
   "outputs": [],
   "source": [
    "sp500 = data[0].iloc[:,[0,1,3,4]]"
   ]
  },
  {
   "cell_type": "code",
   "execution_count": null,
   "metadata": {},
   "outputs": [],
   "source": [
    "sp500.columns = ['ticker', 'name', 'sector', 'sub_industry']"
   ]
  },
  {
   "cell_type": "code",
   "execution_count": null,
   "metadata": {},
   "outputs": [],
   "source": [
    "sp500"
   ]
  },
  {
   "cell_type": "code",
   "execution_count": null,
   "metadata": {},
   "outputs": [],
   "source": [
    "sp500.to_csv(f'{path}SP500.csv',\n",
    "                    encoding='UTF-8',\n",
    "                    sep=';',\n",
    "                    decimal='.',\n",
    "                    index=False)"
   ]
  },
  {
   "cell_type": "code",
   "execution_count": null,
   "metadata": {},
   "outputs": [],
   "source": [
    "pd.read_csv(f'{path}SP500.csv',\n",
    "                    encoding='UTF-8',\n",
    "                    sep=';',\n",
    "                    decimal='.')"
   ]
  },
  {
   "attachments": {},
   "cell_type": "markdown",
   "metadata": {},
   "source": [
    "## Nasdaq"
   ]
  },
  {
   "cell_type": "code",
   "execution_count": null,
   "metadata": {},
   "outputs": [],
   "source": [
    "url = 'https://en.wikipedia.org/wiki/Nasdaq-100'\n",
    "\n",
    "data = pd.read_html(url)"
   ]
  },
  {
   "cell_type": "code",
   "execution_count": null,
   "metadata": {},
   "outputs": [],
   "source": [
    "data[4]\n",
    "nasdaq = data[4]\n",
    "nasdaq"
   ]
  },
  {
   "cell_type": "code",
   "execution_count": null,
   "metadata": {},
   "outputs": [],
   "source": [
    "nasdaq.columns = ['name','ticker', 'sector', 'sub_industry']"
   ]
  },
  {
   "cell_type": "code",
   "execution_count": null,
   "metadata": {},
   "outputs": [],
   "source": [
    "nasdaq.to_csv(f'{path}NASDAQ.csv',\n",
    "                    encoding='UTF-8',\n",
    "                    sep=';',\n",
    "                    decimal='.',\n",
    "                    index=False)"
   ]
  },
  {
   "cell_type": "code",
   "execution_count": null,
   "metadata": {},
   "outputs": [],
   "source": [
    "nasdaq = pd.read_csv(f'{path}NASDAQ.csv',\n",
    "                    encoding='UTF-8',\n",
    "                    sep=';',\n",
    "                    decimal='.')"
   ]
  },
  {
   "cell_type": "markdown",
   "metadata": {},
   "source": [
    "## Dow Jones"
   ]
  },
  {
   "cell_type": "code",
   "execution_count": null,
   "metadata": {},
   "outputs": [],
   "source": [
    "url = 'https://en.wikipedia.org/wiki/Dow_Jones_Industrial_Average'\n",
    "\n",
    "data = pd.read_html(url)"
   ]
  },
  {
   "cell_type": "code",
   "execution_count": null,
   "metadata": {},
   "outputs": [],
   "source": [
    "data[1]\n",
    "dow_jones = data[1].iloc[:,[0,2,3]]\n",
    "dow_jones"
   ]
  },
  {
   "cell_type": "code",
   "execution_count": null,
   "metadata": {},
   "outputs": [],
   "source": [
    "dow_jones.columns = ['name','ticker', 'sector']"
   ]
  },
  {
   "cell_type": "code",
   "execution_count": null,
   "metadata": {},
   "outputs": [],
   "source": [
    "dow_jones.to_csv(f'{path}DOW_JONES.csv',\n",
    "                    encoding='UTF-8',\n",
    "                    sep=';',\n",
    "                    decimal='.',\n",
    "                    index=False)"
   ]
  },
  {
   "cell_type": "code",
   "execution_count": null,
   "metadata": {},
   "outputs": [],
   "source": [
    "dow_jones = pd.read_csv(f'{path}DOW_JONES.csv',\n",
    "                    encoding='UTF-8',\n",
    "                    sep=';',\n",
    "                    decimal='.')"
   ]
  },
  {
   "attachments": {},
   "cell_type": "markdown",
   "metadata": {},
   "source": [
    "## Create DataFrame with all companies in american indexes"
   ]
  },
  {
   "cell_type": "code",
   "execution_count": null,
   "metadata": {},
   "outputs": [],
   "source": [
    "emp_sp500 = sp500['ticker']\n",
    "set_sp500 = set(emp_sp500)\n",
    "len(set_sp500)"
   ]
  },
  {
   "cell_type": "code",
   "execution_count": null,
   "metadata": {},
   "outputs": [],
   "source": [
    "emp_nasdaq = nasdaq['ticker']\n",
    "set_nasdaq = set(emp_nasdaq)\n",
    "len(set_nasdaq)"
   ]
  },
  {
   "cell_type": "code",
   "execution_count": null,
   "metadata": {},
   "outputs": [],
   "source": [
    "# Companies in Nasdaq that aren't in sp500\n",
    "print(len(set_nasdaq.difference(set_sp500)))\n",
    "print(set_nasdaq.difference(set_sp500))\n",
    "list_nasdaq = list(set_nasdaq.difference(set_sp500))\n",
    "list_nasdaq"
   ]
  },
  {
   "cell_type": "code",
   "execution_count": null,
   "metadata": {},
   "outputs": [],
   "source": [
    "# Create DF with all companies in both indexes\n",
    "sp500_concat = pd.concat([sp500,nasdaq.loc[nasdaq['ticker'].isin(list_nasdaq)]], axis=0, ignore_index=True)"
   ]
  },
  {
   "cell_type": "code",
   "execution_count": null,
   "metadata": {},
   "outputs": [],
   "source": [
    "sp500_concat"
   ]
  },
  {
   "cell_type": "code",
   "execution_count": null,
   "metadata": {},
   "outputs": [],
   "source": [
    "# Save DF\n",
    "sp500_concat.to_csv(f'{path}eua_all_companies.csv',\n",
    "                    encoding='UTF-8',\n",
    "                    sep=';',\n",
    "                    decimal='.',\n",
    "                    index=False)"
   ]
  },
  {
   "attachments": {},
   "cell_type": "markdown",
   "metadata": {},
   "source": [
    "# Gathering Data - Company's Sector and Industry\n",
    "\n",
    "### Get sector and sub-sector of all companies using WebScrapping on Yahoo Finance website"
   ]
  },
  {
   "cell_type": "code",
   "execution_count": null,
   "metadata": {},
   "outputs": [],
   "source": [
    "ibra = pd.read_csv(f'{path}IBRA.csv',\n",
    "                    encoding='ISO-8859-1',\n",
    "                    sep=';',\n",
    "                    decimal='.')\n",
    "\n",
    "ibra = ibra[['ticker','name','sector']]\n",
    "ibra[['sector','sub_industry']] = np.nan"
   ]
  },
  {
   "cell_type": "code",
   "execution_count": null,
   "metadata": {},
   "outputs": [],
   "source": [
    "ibra"
   ]
  },
  {
   "cell_type": "code",
   "execution_count": null,
   "metadata": {},
   "outputs": [],
   "source": [
    "eua = pd.read_csv(f'{path}eua_all_companies.csv',\n",
    "                    encoding='UTF-8',\n",
    "                    sep=';',\n",
    "                    decimal='.')"
   ]
  },
  {
   "cell_type": "code",
   "execution_count": null,
   "metadata": {},
   "outputs": [],
   "source": [
    "eua"
   ]
  },
  {
   "cell_type": "code",
   "execution_count": null,
   "metadata": {},
   "outputs": [],
   "source": [
    "eua.isnull().sum()"
   ]
  },
  {
   "cell_type": "code",
   "execution_count": null,
   "metadata": {},
   "outputs": [],
   "source": [
    "eua[eua['ticker'].str.contains(r'[^a-zA-Z0-9]')]"
   ]
  },
  {
   "cell_type": "code",
   "execution_count": null,
   "metadata": {},
   "outputs": [],
   "source": [
    "# Replace '.' in S&P500 ticker to '-', in order to get the right ticker for yfinance webscrapping\n",
    "eua['ticker'].replace(r'[^a-zA-Z0-9]', r'-', regex=True, inplace=True)"
   ]
  },
  {
   "cell_type": "code",
   "execution_count": null,
   "metadata": {},
   "outputs": [],
   "source": [
    "#Runs the webdriver\n",
    "driver = webdriver.Chrome(options=chromeOptions)"
   ]
  },
  {
   "cell_type": "code",
   "execution_count": null,
   "metadata": {},
   "outputs": [],
   "source": [
    "index = 0\n",
    "wait = 8\n",
    "\n",
    "for i in eua['ticker']:\n",
    "    # Get the Yfinance company's url\n",
    "    url = f'https://finance.yahoo.com/quote/{i}/profile?p={i}'\n",
    "    driver.get(url)\n",
    "    driver.implicitly_wait(wait)\n",
    "\n",
    "    # Get company's sector\n",
    "    try:\n",
    "        sector = driver.find_element(By.XPATH, '//*[@id=\"Col1-0-Profile-Proxy\"]/section/div[1]/div/div/p[2]/span[2]')\n",
    "        driver.implicitly_wait(wait)\n",
    "        eua.loc[index, 'sector'] = sector.text\n",
    "    except:\n",
    "        pass\n",
    "\n",
    "    # Get company's industry\n",
    "    try:\n",
    "        industry = driver.find_element(By.XPATH, '//*[@id=\"Col1-0-Profile-Proxy\"]/section/div[1]/div/div/p[2]/span[4]')\n",
    "        driver.implicitly_wait(wait)\n",
    "        eua.loc[index, 'sub_industry'] = industry.text\n",
    "    except:\n",
    "        pass\n",
    "\n",
    "    # Update index\n",
    "    index +=1    "
   ]
  },
  {
   "attachments": {},
   "cell_type": "markdown",
   "metadata": {},
   "source": [
    "### Checking if all companies in IBRA index have sector and industry"
   ]
  },
  {
   "cell_type": "code",
   "execution_count": null,
   "metadata": {},
   "outputs": [],
   "source": [
    "ibra[ibra['sector'].isna()]"
   ]
  },
  {
   "cell_type": "code",
   "execution_count": null,
   "metadata": {},
   "outputs": [],
   "source": [
    "ibra['sector'].unique()"
   ]
  },
  {
   "cell_type": "code",
   "execution_count": null,
   "metadata": {},
   "outputs": [],
   "source": [
    "ibra[ibra['sector'] == '']"
   ]
  },
  {
   "cell_type": "code",
   "execution_count": null,
   "metadata": {},
   "outputs": [],
   "source": [
    "ibra.loc[[149,151,200]]"
   ]
  },
  {
   "cell_type": "code",
   "execution_count": null,
   "metadata": {},
   "outputs": [],
   "source": [
    "ibra.loc[149,('sector','sub_industry')] = ['Healthcare', 'Drug Manufacturers—Specialty & Generic']\n",
    "ibra.loc[151,('sector','sub_industry')] = ['Healthcare', 'Drug Manufacturers—Specialty & Generic']\n",
    "ibra.loc[200,('sector','sub_industry')] = ['Utilities', 'Utilities—Independent Power Producers']"
   ]
  },
  {
   "cell_type": "code",
   "execution_count": null,
   "metadata": {},
   "outputs": [],
   "source": [
    "ibra.to_csv(f'{path}IBRA_sector.csv',\n",
    "                    encoding='UTF-8',\n",
    "                    sep=';',\n",
    "                    decimal='.',\n",
    "                    index=False)"
   ]
  },
  {
   "cell_type": "code",
   "execution_count": null,
   "metadata": {},
   "outputs": [],
   "source": [
    "ibra = ibra.rename({'sub_industry':'industry'}, axis=1)"
   ]
  },
  {
   "cell_type": "code",
   "execution_count": null,
   "metadata": {},
   "outputs": [],
   "source": [
    "ibra"
   ]
  },
  {
   "cell_type": "code",
   "execution_count": null,
   "metadata": {},
   "outputs": [],
   "source": [
    "cod_yfinance = [f'{i}.SA' for i in ibra['ticker']]"
   ]
  },
  {
   "cell_type": "code",
   "execution_count": null,
   "metadata": {},
   "outputs": [],
   "source": [
    "ibra['cod_yfinance'] = cod_yfinance"
   ]
  },
  {
   "cell_type": "code",
   "execution_count": null,
   "metadata": {},
   "outputs": [],
   "source": [
    "ibra['country'] = 'Brazil'"
   ]
  },
  {
   "cell_type": "code",
   "execution_count": null,
   "metadata": {},
   "outputs": [],
   "source": [
    "ibra"
   ]
  },
  {
   "attachments": {},
   "cell_type": "markdown",
   "metadata": {},
   "source": [
    "### Checking if all companies in eua DataFrame have sector and industry"
   ]
  },
  {
   "cell_type": "code",
   "execution_count": null,
   "metadata": {},
   "outputs": [],
   "source": [
    "eua.isnull().sum()"
   ]
  },
  {
   "cell_type": "code",
   "execution_count": null,
   "metadata": {},
   "outputs": [],
   "source": [
    "eua['sector'].unique()"
   ]
  },
  {
   "cell_type": "code",
   "execution_count": null,
   "metadata": {},
   "outputs": [],
   "source": [
    "# Save Dataframe\n",
    "eua.to_csv(f'{path}eua_all_companies.csv',\n",
    "                    encoding='UTF-8',\n",
    "                    sep=';',\n",
    "                    decimal='.',\n",
    "                    index=False)"
   ]
  },
  {
   "cell_type": "code",
   "execution_count": null,
   "metadata": {},
   "outputs": [],
   "source": [
    "eua = eua.rename({'sub_industry':'industry'}, axis = 1)"
   ]
  },
  {
   "cell_type": "code",
   "execution_count": null,
   "metadata": {},
   "outputs": [],
   "source": [
    "eua['cod_yfinance'] = eua['ticker']"
   ]
  },
  {
   "cell_type": "code",
   "execution_count": null,
   "metadata": {},
   "outputs": [],
   "source": [
    "eua['country'] = 'USA'"
   ]
  },
  {
   "cell_type": "code",
   "execution_count": null,
   "metadata": {},
   "outputs": [],
   "source": [
    "eua"
   ]
  },
  {
   "attachments": {},
   "cell_type": "markdown",
   "metadata": {},
   "source": [
    "# Updating IBRA dataset - Obsoleto - criar novo dataframe com series históricas retiradas do yfinace para todas as empresas\n",
    "\n",
    "### (dataset that contains brazilian companies's historical data)"
   ]
  },
  {
   "attachments": {},
   "cell_type": "markdown",
   "metadata": {},
   "source": [
    "# Create Datasets\n",
    "\n",
    "### Dataset that contains brazilian and american companies's characteristics\n",
    "### Dataset that contains brazilian and american companies's historical data\n",
    "### Dataset that contains brazilian and american indexes, gold, dolar (R$), bitcoin and ethereum  characteristics\n",
    "### Dataset that contains brazilian and american indexes, gold, dolar (R$), bitcoin and ethereum  historical data"
   ]
  },
  {
   "cell_type": "code",
   "execution_count": 5,
   "metadata": {},
   "outputs": [],
   "source": [
    "# Historical dataset is to big to upload to GitHub\n",
    "stock_path = r'C:\\Users\\Pedro\\OneDrive\\Desktop\\Ironhack\\05. Dados\\stock_project_datasets/'"
   ]
  },
  {
   "attachments": {},
   "cell_type": "markdown",
   "metadata": {},
   "source": [
    "## Dataset with all companies's characteristics"
   ]
  },
  {
   "cell_type": "code",
   "execution_count": null,
   "metadata": {},
   "outputs": [],
   "source": [
    "ibra.head()"
   ]
  },
  {
   "cell_type": "code",
   "execution_count": null,
   "metadata": {},
   "outputs": [],
   "source": [
    "eua.head()"
   ]
  },
  {
   "cell_type": "code",
   "execution_count": null,
   "metadata": {},
   "outputs": [],
   "source": [
    "all_companies = pd.concat([ibra, eua], axis=0, ignore_index=True)"
   ]
  },
  {
   "cell_type": "code",
   "execution_count": null,
   "metadata": {},
   "outputs": [],
   "source": [
    "all_companies.to_csv(f'{stock_path}all_companies.csv',\n",
    "                    encoding='UTF-8',\n",
    "                    sep=';',\n",
    "                    decimal='.',\n",
    "                    index=False)"
   ]
  },
  {
   "cell_type": "code",
   "execution_count": null,
   "metadata": {},
   "outputs": [],
   "source": [
    "all_companies = pd.read_csv(f'{stock_path}all_companies_rev4.csv',\n",
    "                    encoding='UTF-8',\n",
    "                    sep=';',\n",
    "                    decimal='.')"
   ]
  },
  {
   "cell_type": "code",
   "execution_count": null,
   "metadata": {},
   "outputs": [],
   "source": [
    "all_companies"
   ]
  },
  {
   "attachments": {},
   "cell_type": "markdown",
   "metadata": {},
   "source": [
    "## Dataset with indexes, gold, dolar (R$), bitcoin and ethereum  characteristics"
   ]
  },
  {
   "cell_type": "code",
   "execution_count": null,
   "metadata": {},
   "outputs": [],
   "source": [
    "index_ticker = [\n",
    "    'IBOV'\n",
    "    ,'IBRX50'\n",
    "    ,'NASDAQ'\n",
    "    ,'DOW JONES'\n",
    "    ,'SP500'\n",
    "    ,'GOLD'\n",
    "    ,'BTC'\n",
    "    ,'ETH'\n",
    "    ,'USD-BRL'\n",
    "]\n",
    "\n",
    "index_name = [\n",
    "    'Ibovespa'\n",
    "    ,'IBrX50'\n",
    "    ,'Nasdaq 100'\n",
    "    ,'Dow Jones Industrial Average'\n",
    "    ,'S&P 500'\n",
    "    ,'Gold (US$)'\n",
    "    ,'Bitcoin (US$)'\n",
    "    ,'Ethereum (US$)'\n",
    "    ,'Dolar (R$)'\n",
    "]\n",
    "\n",
    "index_sector = [\n",
    "    'Index'\n",
    "    ,'Index'\n",
    "    ,'Index'\n",
    "    ,'Index'\n",
    "    ,'Index'\n",
    "    ,'Gold'\n",
    "    ,'Crypto'\n",
    "    ,'Crypto'\n",
    "    ,'Currency'\n",
    "]\n",
    "\n",
    "index_industry = [\n",
    "    'Index'\n",
    "    ,'Index'\n",
    "    ,'Index'\n",
    "    ,'Index'\n",
    "    ,'Index'\n",
    "    ,'Gold'\n",
    "    ,'Crypto'\n",
    "    ,'Crypto'\n",
    "    ,'Currency'\n",
    "]\n",
    "\n",
    "index_cod = [\n",
    "    '^BVSP'\n",
    "    ,'^IBX50'\n",
    "    ,'^DJI'\n",
    "    ,'NQ=F'\n",
    "    ,'^GSPC'\n",
    "    ,'GC=F'\n",
    "    ,'BTC-USD'\n",
    "    ,'ETH-USD'\n",
    "    ,'BRL=X'\n",
    "]\n",
    "\n",
    "index_country = [\n",
    "    'Brazil'\n",
    "    ,'Brazil'\n",
    "    ,'USA'\n",
    "    ,'USA'\n",
    "    ,'USA'\n",
    "    ,'USA'\n",
    "    ,'USA'\n",
    "    ,'USA'\n",
    "    ,'Brazil'\n",
    "]\n",
    "\n",
    "index_type = [\n",
    "    'Index'\n",
    "    ,'Index'\n",
    "    ,'Index'\n",
    "    ,'Index'\n",
    "    ,'Index'\n",
    "    ,'Gold'\n",
    "    ,'Crypto'\n",
    "    ,'Crypto'\n",
    "    ,'Currency'\n",
    "]"
   ]
  },
  {
   "cell_type": "code",
   "execution_count": null,
   "metadata": {},
   "outputs": [],
   "source": [
    "df_index = pd.DataFrame()\n",
    "df_index['ticker'] = index_ticker\n",
    "df_index['name'] = index_name\n",
    "df_index['sector'] = index_sector\n",
    "df_index['industry'] = index_industry\n",
    "df_index['cod_yfinance'] = index_cod\n",
    "df_index['country'] = index_country\n",
    "df_index['type'] = index_type"
   ]
  },
  {
   "cell_type": "code",
   "execution_count": null,
   "metadata": {},
   "outputs": [],
   "source": [
    "df_index"
   ]
  },
  {
   "cell_type": "code",
   "execution_count": null,
   "metadata": {},
   "outputs": [],
   "source": [
    "df_index.to_csv(f'{stock_path}all_indexes.csv',\n",
    "                    encoding='UTF-8',\n",
    "                    sep=';',\n",
    "                    decimal='.',\n",
    "                    index=False)"
   ]
  },
  {
   "cell_type": "markdown",
   "metadata": {},
   "source": [
    "## Unificating characteristic datasets"
   ]
  },
  {
   "cell_type": "code",
   "execution_count": null,
   "metadata": {},
   "outputs": [],
   "source": [
    "df_index"
   ]
  },
  {
   "cell_type": "code",
   "execution_count": null,
   "metadata": {},
   "outputs": [],
   "source": [
    "all_companies"
   ]
  },
  {
   "cell_type": "code",
   "execution_count": null,
   "metadata": {},
   "outputs": [],
   "source": [
    "all_companies_and_index = pd.concat([all_companies, df_index], axis=0, ignore_index=True)"
   ]
  },
  {
   "cell_type": "code",
   "execution_count": null,
   "metadata": {},
   "outputs": [],
   "source": [
    "all_companies_and_index"
   ]
  },
  {
   "cell_type": "code",
   "execution_count": null,
   "metadata": {},
   "outputs": [],
   "source": [
    "all_companies_and_index.to_csv(f'{stock_path}all_companies_and_indexes.csv',\n",
    "                    encoding='UTF-8',\n",
    "                    sep=';',\n",
    "                    decimal='.',\n",
    "                    index=False)"
   ]
  },
  {
   "attachments": {},
   "cell_type": "markdown",
   "metadata": {},
   "source": [
    "## Dataset with all companies and indexes historical data"
   ]
  },
  {
   "cell_type": "code",
   "execution_count": null,
   "metadata": {},
   "outputs": [],
   "source": [
    "# Create empty DataFrame\n",
    "historical_data = pd.DataFrame()"
   ]
  },
  {
   "cell_type": "code",
   "execution_count": null,
   "metadata": {},
   "outputs": [],
   "source": [
    "# Creating DataFrame with historical data of all companies\n",
    "for ticker in all_companies_and_index['cod_yfinance']:\n",
    "    aux_df = pd.DataFrame()\n",
    "    aux_df = yf.Ticker(ticker).history(period='max')\n",
    "    aux_df['cod_yfinance'] = ticker\n",
    "\n",
    "    historical_data = pd.concat([historical_data, aux_df], axis=0)"
   ]
  },
  {
   "cell_type": "code",
   "execution_count": 16,
   "metadata": {},
   "outputs": [
    {
     "data": {
      "text/html": [
       "<div>\n",
       "<style scoped>\n",
       "    .dataframe tbody tr th:only-of-type {\n",
       "        vertical-align: middle;\n",
       "    }\n",
       "\n",
       "    .dataframe tbody tr th {\n",
       "        vertical-align: top;\n",
       "    }\n",
       "\n",
       "    .dataframe thead th {\n",
       "        text-align: right;\n",
       "    }\n",
       "</style>\n",
       "<table border=\"1\" class=\"dataframe\">\n",
       "  <thead>\n",
       "    <tr style=\"text-align: right;\">\n",
       "      <th></th>\n",
       "      <th>Date</th>\n",
       "      <th>Open</th>\n",
       "      <th>High</th>\n",
       "      <th>Low</th>\n",
       "      <th>Close</th>\n",
       "      <th>Volume</th>\n",
       "      <th>Dividends</th>\n",
       "      <th>Stock Splits</th>\n",
       "      <th>cod_yfinance</th>\n",
       "    </tr>\n",
       "  </thead>\n",
       "  <tbody>\n",
       "    <tr>\n",
       "      <th>0</th>\n",
       "      <td>1980-03-17</td>\n",
       "      <td>0.0000</td>\n",
       "      <td>0.426070</td>\n",
       "      <td>0.420489</td>\n",
       "      <td>0.420489</td>\n",
       "      <td>43200.0</td>\n",
       "      <td>0.0</td>\n",
       "      <td>0.0</td>\n",
       "      <td>IPG</td>\n",
       "    </tr>\n",
       "    <tr>\n",
       "      <th>1</th>\n",
       "      <td>1980-03-18</td>\n",
       "      <td>0.0000</td>\n",
       "      <td>0.416768</td>\n",
       "      <td>0.416768</td>\n",
       "      <td>0.416768</td>\n",
       "      <td>327600.0</td>\n",
       "      <td>0.0</td>\n",
       "      <td>0.0</td>\n",
       "      <td>IPG</td>\n",
       "    </tr>\n",
       "    <tr>\n",
       "      <th>2</th>\n",
       "      <td>1980-03-19</td>\n",
       "      <td>0.0000</td>\n",
       "      <td>0.416768</td>\n",
       "      <td>0.416768</td>\n",
       "      <td>0.416768</td>\n",
       "      <td>115200.0</td>\n",
       "      <td>0.0</td>\n",
       "      <td>0.0</td>\n",
       "      <td>IPG</td>\n",
       "    </tr>\n",
       "    <tr>\n",
       "      <th>3</th>\n",
       "      <td>1980-03-20</td>\n",
       "      <td>0.0000</td>\n",
       "      <td>0.420489</td>\n",
       "      <td>0.420489</td>\n",
       "      <td>0.420489</td>\n",
       "      <td>28800.0</td>\n",
       "      <td>0.0</td>\n",
       "      <td>0.0</td>\n",
       "      <td>IPG</td>\n",
       "    </tr>\n",
       "    <tr>\n",
       "      <th>4</th>\n",
       "      <td>1980-03-21</td>\n",
       "      <td>0.0000</td>\n",
       "      <td>0.420489</td>\n",
       "      <td>0.420489</td>\n",
       "      <td>0.420489</td>\n",
       "      <td>554400.0</td>\n",
       "      <td>0.0</td>\n",
       "      <td>0.0</td>\n",
       "      <td>IPG</td>\n",
       "    </tr>\n",
       "    <tr>\n",
       "      <th>...</th>\n",
       "      <td>...</td>\n",
       "      <td>...</td>\n",
       "      <td>...</td>\n",
       "      <td>...</td>\n",
       "      <td>...</td>\n",
       "      <td>...</td>\n",
       "      <td>...</td>\n",
       "      <td>...</td>\n",
       "      <td>...</td>\n",
       "    </tr>\n",
       "    <tr>\n",
       "      <th>4913755</th>\n",
       "      <td>2022-12-06</td>\n",
       "      <td>5.2800</td>\n",
       "      <td>5.280600</td>\n",
       "      <td>5.219792</td>\n",
       "      <td>5.280000</td>\n",
       "      <td>0.0</td>\n",
       "      <td>0.0</td>\n",
       "      <td>0.0</td>\n",
       "      <td>BRL=X</td>\n",
       "    </tr>\n",
       "    <tr>\n",
       "      <th>4913756</th>\n",
       "      <td>2022-12-07</td>\n",
       "      <td>5.2340</td>\n",
       "      <td>5.270356</td>\n",
       "      <td>5.210300</td>\n",
       "      <td>5.234000</td>\n",
       "      <td>0.0</td>\n",
       "      <td>0.0</td>\n",
       "      <td>0.0</td>\n",
       "      <td>BRL=X</td>\n",
       "    </tr>\n",
       "    <tr>\n",
       "      <th>4913757</th>\n",
       "      <td>2022-12-08</td>\n",
       "      <td>5.2040</td>\n",
       "      <td>5.248300</td>\n",
       "      <td>5.193944</td>\n",
       "      <td>5.204000</td>\n",
       "      <td>0.0</td>\n",
       "      <td>0.0</td>\n",
       "      <td>0.0</td>\n",
       "      <td>BRL=X</td>\n",
       "    </tr>\n",
       "    <tr>\n",
       "      <th>4913758</th>\n",
       "      <td>2022-12-09</td>\n",
       "      <td>5.2243</td>\n",
       "      <td>5.279800</td>\n",
       "      <td>5.214606</td>\n",
       "      <td>5.224300</td>\n",
       "      <td>0.0</td>\n",
       "      <td>0.0</td>\n",
       "      <td>0.0</td>\n",
       "      <td>BRL=X</td>\n",
       "    </tr>\n",
       "    <tr>\n",
       "      <th>4913759</th>\n",
       "      <td>2022-12-12</td>\n",
       "      <td>5.2390</td>\n",
       "      <td>5.350900</td>\n",
       "      <td>5.231100</td>\n",
       "      <td>5.342700</td>\n",
       "      <td>0.0</td>\n",
       "      <td>0.0</td>\n",
       "      <td>0.0</td>\n",
       "      <td>BRL=X</td>\n",
       "    </tr>\n",
       "  </tbody>\n",
       "</table>\n",
       "<p>4913760 rows × 9 columns</p>\n",
       "</div>"
      ],
      "text/plain": [
       "               Date    Open      High       Low     Close    Volume  \\\n",
       "0        1980-03-17  0.0000  0.426070  0.420489  0.420489   43200.0   \n",
       "1        1980-03-18  0.0000  0.416768  0.416768  0.416768  327600.0   \n",
       "2        1980-03-19  0.0000  0.416768  0.416768  0.416768  115200.0   \n",
       "3        1980-03-20  0.0000  0.420489  0.420489  0.420489   28800.0   \n",
       "4        1980-03-21  0.0000  0.420489  0.420489  0.420489  554400.0   \n",
       "...             ...     ...       ...       ...       ...       ...   \n",
       "4913755  2022-12-06  5.2800  5.280600  5.219792  5.280000       0.0   \n",
       "4913756  2022-12-07  5.2340  5.270356  5.210300  5.234000       0.0   \n",
       "4913757  2022-12-08  5.2040  5.248300  5.193944  5.204000       0.0   \n",
       "4913758  2022-12-09  5.2243  5.279800  5.214606  5.224300       0.0   \n",
       "4913759  2022-12-12  5.2390  5.350900  5.231100  5.342700       0.0   \n",
       "\n",
       "         Dividends  Stock Splits cod_yfinance  \n",
       "0              0.0           0.0          IPG  \n",
       "1              0.0           0.0          IPG  \n",
       "2              0.0           0.0          IPG  \n",
       "3              0.0           0.0          IPG  \n",
       "4              0.0           0.0          IPG  \n",
       "...            ...           ...          ...  \n",
       "4913755        0.0           0.0        BRL=X  \n",
       "4913756        0.0           0.0        BRL=X  \n",
       "4913757        0.0           0.0        BRL=X  \n",
       "4913758        0.0           0.0        BRL=X  \n",
       "4913759        0.0           0.0        BRL=X  \n",
       "\n",
       "[4913760 rows x 9 columns]"
      ]
     },
     "execution_count": 16,
     "metadata": {},
     "output_type": "execute_result"
    }
   ],
   "source": [
    "historical_data"
   ]
  },
  {
   "cell_type": "code",
   "execution_count": null,
   "metadata": {},
   "outputs": [],
   "source": [
    "# Check if got all companies historical data\n",
    "len(historical_data['cod_yfinance'].unique())"
   ]
  },
  {
   "cell_type": "code",
   "execution_count": 32,
   "metadata": {},
   "outputs": [
    {
     "data": {
      "text/html": [
       "<div>\n",
       "<style scoped>\n",
       "    .dataframe tbody tr th:only-of-type {\n",
       "        vertical-align: middle;\n",
       "    }\n",
       "\n",
       "    .dataframe tbody tr th {\n",
       "        vertical-align: top;\n",
       "    }\n",
       "\n",
       "    .dataframe thead th {\n",
       "        text-align: right;\n",
       "    }\n",
       "</style>\n",
       "<table border=\"1\" class=\"dataframe\">\n",
       "  <thead>\n",
       "    <tr style=\"text-align: right;\">\n",
       "      <th></th>\n",
       "      <th>Date</th>\n",
       "      <th>Open</th>\n",
       "      <th>High</th>\n",
       "      <th>Low</th>\n",
       "      <th>Close</th>\n",
       "      <th>Volume</th>\n",
       "      <th>Dividends</th>\n",
       "      <th>Stock Splits</th>\n",
       "      <th>cod_yfinance</th>\n",
       "    </tr>\n",
       "  </thead>\n",
       "  <tbody>\n",
       "    <tr>\n",
       "      <th>0</th>\n",
       "      <td>1980-03-17</td>\n",
       "      <td>0.0000</td>\n",
       "      <td>0.426070</td>\n",
       "      <td>0.420489</td>\n",
       "      <td>0.420489</td>\n",
       "      <td>43200.0</td>\n",
       "      <td>0.0</td>\n",
       "      <td>0.0</td>\n",
       "      <td>IPG</td>\n",
       "    </tr>\n",
       "    <tr>\n",
       "      <th>1</th>\n",
       "      <td>1980-03-18</td>\n",
       "      <td>0.0000</td>\n",
       "      <td>0.416768</td>\n",
       "      <td>0.416768</td>\n",
       "      <td>0.416768</td>\n",
       "      <td>327600.0</td>\n",
       "      <td>0.0</td>\n",
       "      <td>0.0</td>\n",
       "      <td>IPG</td>\n",
       "    </tr>\n",
       "    <tr>\n",
       "      <th>2</th>\n",
       "      <td>1980-03-19</td>\n",
       "      <td>0.0000</td>\n",
       "      <td>0.416768</td>\n",
       "      <td>0.416768</td>\n",
       "      <td>0.416768</td>\n",
       "      <td>115200.0</td>\n",
       "      <td>0.0</td>\n",
       "      <td>0.0</td>\n",
       "      <td>IPG</td>\n",
       "    </tr>\n",
       "    <tr>\n",
       "      <th>3</th>\n",
       "      <td>1980-03-20</td>\n",
       "      <td>0.0000</td>\n",
       "      <td>0.420489</td>\n",
       "      <td>0.420489</td>\n",
       "      <td>0.420489</td>\n",
       "      <td>28800.0</td>\n",
       "      <td>0.0</td>\n",
       "      <td>0.0</td>\n",
       "      <td>IPG</td>\n",
       "    </tr>\n",
       "    <tr>\n",
       "      <th>4</th>\n",
       "      <td>1980-03-21</td>\n",
       "      <td>0.0000</td>\n",
       "      <td>0.420489</td>\n",
       "      <td>0.420489</td>\n",
       "      <td>0.420489</td>\n",
       "      <td>554400.0</td>\n",
       "      <td>0.0</td>\n",
       "      <td>0.0</td>\n",
       "      <td>IPG</td>\n",
       "    </tr>\n",
       "    <tr>\n",
       "      <th>...</th>\n",
       "      <td>...</td>\n",
       "      <td>...</td>\n",
       "      <td>...</td>\n",
       "      <td>...</td>\n",
       "      <td>...</td>\n",
       "      <td>...</td>\n",
       "      <td>...</td>\n",
       "      <td>...</td>\n",
       "      <td>...</td>\n",
       "    </tr>\n",
       "    <tr>\n",
       "      <th>4913755</th>\n",
       "      <td>2022-12-06</td>\n",
       "      <td>5.2800</td>\n",
       "      <td>5.280600</td>\n",
       "      <td>5.219792</td>\n",
       "      <td>5.280000</td>\n",
       "      <td>0.0</td>\n",
       "      <td>0.0</td>\n",
       "      <td>0.0</td>\n",
       "      <td>BRL=X</td>\n",
       "    </tr>\n",
       "    <tr>\n",
       "      <th>4913756</th>\n",
       "      <td>2022-12-07</td>\n",
       "      <td>5.2340</td>\n",
       "      <td>5.270356</td>\n",
       "      <td>5.210300</td>\n",
       "      <td>5.234000</td>\n",
       "      <td>0.0</td>\n",
       "      <td>0.0</td>\n",
       "      <td>0.0</td>\n",
       "      <td>BRL=X</td>\n",
       "    </tr>\n",
       "    <tr>\n",
       "      <th>4913757</th>\n",
       "      <td>2022-12-08</td>\n",
       "      <td>5.2040</td>\n",
       "      <td>5.248300</td>\n",
       "      <td>5.193944</td>\n",
       "      <td>5.204000</td>\n",
       "      <td>0.0</td>\n",
       "      <td>0.0</td>\n",
       "      <td>0.0</td>\n",
       "      <td>BRL=X</td>\n",
       "    </tr>\n",
       "    <tr>\n",
       "      <th>4913758</th>\n",
       "      <td>2022-12-09</td>\n",
       "      <td>5.2243</td>\n",
       "      <td>5.279800</td>\n",
       "      <td>5.214606</td>\n",
       "      <td>5.224300</td>\n",
       "      <td>0.0</td>\n",
       "      <td>0.0</td>\n",
       "      <td>0.0</td>\n",
       "      <td>BRL=X</td>\n",
       "    </tr>\n",
       "    <tr>\n",
       "      <th>4913759</th>\n",
       "      <td>2022-12-12</td>\n",
       "      <td>5.2390</td>\n",
       "      <td>5.350900</td>\n",
       "      <td>5.231100</td>\n",
       "      <td>5.342700</td>\n",
       "      <td>0.0</td>\n",
       "      <td>0.0</td>\n",
       "      <td>0.0</td>\n",
       "      <td>BRL=X</td>\n",
       "    </tr>\n",
       "  </tbody>\n",
       "</table>\n",
       "<p>4913760 rows × 9 columns</p>\n",
       "</div>"
      ],
      "text/plain": [
       "               Date    Open      High       Low     Close    Volume  \\\n",
       "0        1980-03-17  0.0000  0.426070  0.420489  0.420489   43200.0   \n",
       "1        1980-03-18  0.0000  0.416768  0.416768  0.416768  327600.0   \n",
       "2        1980-03-19  0.0000  0.416768  0.416768  0.416768  115200.0   \n",
       "3        1980-03-20  0.0000  0.420489  0.420489  0.420489   28800.0   \n",
       "4        1980-03-21  0.0000  0.420489  0.420489  0.420489  554400.0   \n",
       "...             ...     ...       ...       ...       ...       ...   \n",
       "4913755  2022-12-06  5.2800  5.280600  5.219792  5.280000       0.0   \n",
       "4913756  2022-12-07  5.2340  5.270356  5.210300  5.234000       0.0   \n",
       "4913757  2022-12-08  5.2040  5.248300  5.193944  5.204000       0.0   \n",
       "4913758  2022-12-09  5.2243  5.279800  5.214606  5.224300       0.0   \n",
       "4913759  2022-12-12  5.2390  5.350900  5.231100  5.342700       0.0   \n",
       "\n",
       "         Dividends  Stock Splits cod_yfinance  \n",
       "0              0.0           0.0          IPG  \n",
       "1              0.0           0.0          IPG  \n",
       "2              0.0           0.0          IPG  \n",
       "3              0.0           0.0          IPG  \n",
       "4              0.0           0.0          IPG  \n",
       "...            ...           ...          ...  \n",
       "4913755        0.0           0.0        BRL=X  \n",
       "4913756        0.0           0.0        BRL=X  \n",
       "4913757        0.0           0.0        BRL=X  \n",
       "4913758        0.0           0.0        BRL=X  \n",
       "4913759        0.0           0.0        BRL=X  \n",
       "\n",
       "[4913760 rows x 9 columns]"
      ]
     },
     "execution_count": 32,
     "metadata": {},
     "output_type": "execute_result"
    }
   ],
   "source": [
    "historical_data"
   ]
  },
  {
   "cell_type": "code",
   "execution_count": 33,
   "metadata": {},
   "outputs": [
    {
     "name": "stdout",
     "output_type": "stream",
     "text": [
      "<class 'pandas.core.frame.DataFrame'>\n",
      "RangeIndex: 4913760 entries, 0 to 4913759\n",
      "Data columns (total 9 columns):\n",
      " #   Column        Dtype  \n",
      "---  ------        -----  \n",
      " 0   Date          object \n",
      " 1   Open          float64\n",
      " 2   High          float64\n",
      " 3   Low           float64\n",
      " 4   Close         float64\n",
      " 5   Volume        float64\n",
      " 6   Dividends     float64\n",
      " 7   Stock Splits  float64\n",
      " 8   cod_yfinance  object \n",
      "dtypes: float64(7), object(2)\n",
      "memory usage: 337.4+ MB\n"
     ]
    }
   ],
   "source": [
    "historical_data.info()"
   ]
  },
  {
   "cell_type": "code",
   "execution_count": 39,
   "metadata": {},
   "outputs": [],
   "source": [
    "# Drop 2022-12-12\n",
    "historical_data = historical_data.drop(historical_data[historical_data['Date'] == datetime.date(2022,12,12)].index, axis=0)"
   ]
  },
  {
   "cell_type": "code",
   "execution_count": 41,
   "metadata": {},
   "outputs": [
    {
     "data": {
      "text/html": [
       "<div>\n",
       "<style scoped>\n",
       "    .dataframe tbody tr th:only-of-type {\n",
       "        vertical-align: middle;\n",
       "    }\n",
       "\n",
       "    .dataframe tbody tr th {\n",
       "        vertical-align: top;\n",
       "    }\n",
       "\n",
       "    .dataframe thead th {\n",
       "        text-align: right;\n",
       "    }\n",
       "</style>\n",
       "<table border=\"1\" class=\"dataframe\">\n",
       "  <thead>\n",
       "    <tr style=\"text-align: right;\">\n",
       "      <th></th>\n",
       "      <th>Date</th>\n",
       "      <th>Open</th>\n",
       "      <th>High</th>\n",
       "      <th>Low</th>\n",
       "      <th>Close</th>\n",
       "      <th>Volume</th>\n",
       "      <th>Dividends</th>\n",
       "      <th>Stock Splits</th>\n",
       "      <th>cod_yfinance</th>\n",
       "    </tr>\n",
       "  </thead>\n",
       "  <tbody>\n",
       "    <tr>\n",
       "      <th>10776</th>\n",
       "      <td>2022-12-09</td>\n",
       "      <td>32.000000</td>\n",
       "      <td>32.419998</td>\n",
       "      <td>31.840000</td>\n",
       "      <td>32.070000</td>\n",
       "      <td>1.766400e+06</td>\n",
       "      <td>0.0</td>\n",
       "      <td>0.0</td>\n",
       "      <td>IPG</td>\n",
       "    </tr>\n",
       "    <tr>\n",
       "      <th>21554</th>\n",
       "      <td>2022-12-09</td>\n",
       "      <td>75.519997</td>\n",
       "      <td>76.410004</td>\n",
       "      <td>75.099998</td>\n",
       "      <td>75.650002</td>\n",
       "      <td>1.160300e+06</td>\n",
       "      <td>0.0</td>\n",
       "      <td>0.0</td>\n",
       "      <td>OMC</td>\n",
       "    </tr>\n",
       "    <tr>\n",
       "      <th>27319</th>\n",
       "      <td>2022-12-09</td>\n",
       "      <td>13.900000</td>\n",
       "      <td>13.900000</td>\n",
       "      <td>13.490000</td>\n",
       "      <td>13.590000</td>\n",
       "      <td>3.683000e+05</td>\n",
       "      <td>0.0</td>\n",
       "      <td>0.0</td>\n",
       "      <td>TASA4.SA</td>\n",
       "    </tr>\n",
       "    <tr>\n",
       "      <th>33084</th>\n",
       "      <td>2022-12-09</td>\n",
       "      <td>13.310000</td>\n",
       "      <td>13.410000</td>\n",
       "      <td>13.090000</td>\n",
       "      <td>13.110000</td>\n",
       "      <td>4.267300e+06</td>\n",
       "      <td>0.0</td>\n",
       "      <td>0.0</td>\n",
       "      <td>EMBR3.SA</td>\n",
       "    </tr>\n",
       "    <tr>\n",
       "      <th>48427</th>\n",
       "      <td>2022-12-09</td>\n",
       "      <td>180.750000</td>\n",
       "      <td>183.889999</td>\n",
       "      <td>179.250000</td>\n",
       "      <td>179.539993</td>\n",
       "      <td>6.348800e+06</td>\n",
       "      <td>0.0</td>\n",
       "      <td>0.0</td>\n",
       "      <td>BA</td>\n",
       "    </tr>\n",
       "    <tr>\n",
       "      <th>...</th>\n",
       "      <td>...</td>\n",
       "      <td>...</td>\n",
       "      <td>...</td>\n",
       "      <td>...</td>\n",
       "      <td>...</td>\n",
       "      <td>...</td>\n",
       "      <td>...</td>\n",
       "      <td>...</td>\n",
       "      <td>...</td>\n",
       "    </tr>\n",
       "    <tr>\n",
       "      <th>4898778</th>\n",
       "      <td>2022-12-09</td>\n",
       "      <td>3954.169922</td>\n",
       "      <td>3977.020020</td>\n",
       "      <td>3933.040039</td>\n",
       "      <td>3934.379883</td>\n",
       "      <td>3.888260e+09</td>\n",
       "      <td>0.0</td>\n",
       "      <td>0.0</td>\n",
       "      <td>^GSPC</td>\n",
       "    </tr>\n",
       "    <tr>\n",
       "      <th>4904370</th>\n",
       "      <td>2022-12-09</td>\n",
       "      <td>1794.900024</td>\n",
       "      <td>1804.300049</td>\n",
       "      <td>1791.099976</td>\n",
       "      <td>1798.099976</td>\n",
       "      <td>7.130000e+02</td>\n",
       "      <td>0.0</td>\n",
       "      <td>0.0</td>\n",
       "      <td>GC=F</td>\n",
       "    </tr>\n",
       "    <tr>\n",
       "      <th>4907377</th>\n",
       "      <td>2022-12-09</td>\n",
       "      <td>17232.148438</td>\n",
       "      <td>17280.546875</td>\n",
       "      <td>17100.835938</td>\n",
       "      <td>17133.152344</td>\n",
       "      <td>2.032843e+10</td>\n",
       "      <td>0.0</td>\n",
       "      <td>0.0</td>\n",
       "      <td>BTC-USD</td>\n",
       "    </tr>\n",
       "    <tr>\n",
       "      <th>4909237</th>\n",
       "      <td>2022-12-09</td>\n",
       "      <td>1281.077271</td>\n",
       "      <td>1290.055420</td>\n",
       "      <td>1260.818726</td>\n",
       "      <td>1264.284790</td>\n",
       "      <td>5.706184e+09</td>\n",
       "      <td>0.0</td>\n",
       "      <td>0.0</td>\n",
       "      <td>ETH-USD</td>\n",
       "    </tr>\n",
       "    <tr>\n",
       "      <th>4913758</th>\n",
       "      <td>2022-12-09</td>\n",
       "      <td>5.224300</td>\n",
       "      <td>5.279800</td>\n",
       "      <td>5.214606</td>\n",
       "      <td>5.224300</td>\n",
       "      <td>0.000000e+00</td>\n",
       "      <td>0.0</td>\n",
       "      <td>0.0</td>\n",
       "      <td>BRL=X</td>\n",
       "    </tr>\n",
       "  </tbody>\n",
       "</table>\n",
       "<p>735 rows × 9 columns</p>\n",
       "</div>"
      ],
      "text/plain": [
       "               Date          Open          High           Low         Close  \\\n",
       "10776    2022-12-09     32.000000     32.419998     31.840000     32.070000   \n",
       "21554    2022-12-09     75.519997     76.410004     75.099998     75.650002   \n",
       "27319    2022-12-09     13.900000     13.900000     13.490000     13.590000   \n",
       "33084    2022-12-09     13.310000     13.410000     13.090000     13.110000   \n",
       "48427    2022-12-09    180.750000    183.889999    179.250000    179.539993   \n",
       "...             ...           ...           ...           ...           ...   \n",
       "4898778  2022-12-09   3954.169922   3977.020020   3933.040039   3934.379883   \n",
       "4904370  2022-12-09   1794.900024   1804.300049   1791.099976   1798.099976   \n",
       "4907377  2022-12-09  17232.148438  17280.546875  17100.835938  17133.152344   \n",
       "4909237  2022-12-09   1281.077271   1290.055420   1260.818726   1264.284790   \n",
       "4913758  2022-12-09      5.224300      5.279800      5.214606      5.224300   \n",
       "\n",
       "               Volume  Dividends  Stock Splits cod_yfinance  \n",
       "10776    1.766400e+06        0.0           0.0          IPG  \n",
       "21554    1.160300e+06        0.0           0.0          OMC  \n",
       "27319    3.683000e+05        0.0           0.0     TASA4.SA  \n",
       "33084    4.267300e+06        0.0           0.0     EMBR3.SA  \n",
       "48427    6.348800e+06        0.0           0.0           BA  \n",
       "...               ...        ...           ...          ...  \n",
       "4898778  3.888260e+09        0.0           0.0        ^GSPC  \n",
       "4904370  7.130000e+02        0.0           0.0         GC=F  \n",
       "4907377  2.032843e+10        0.0           0.0      BTC-USD  \n",
       "4909237  5.706184e+09        0.0           0.0      ETH-USD  \n",
       "4913758  0.000000e+00        0.0           0.0        BRL=X  \n",
       "\n",
       "[735 rows x 9 columns]"
      ]
     },
     "execution_count": 41,
     "metadata": {},
     "output_type": "execute_result"
    }
   ],
   "source": [
    "historical_data[historical_data['Date'] == datetime.date(2022,12,9)]"
   ]
  },
  {
   "cell_type": "code",
   "execution_count": 53,
   "metadata": {},
   "outputs": [],
   "source": [
    "# Save DataFrame\n",
    "historical_data.to_csv(f'{stock_path}historical_data_complete_rev5.csv',\n",
    "                    encoding='UTF-8',\n",
    "                    sep=';',\n",
    "                    decimal='.',\n",
    "                    index=False)"
   ]
  },
  {
   "cell_type": "code",
   "execution_count": 26,
   "metadata": {},
   "outputs": [],
   "source": [
    "# Load DataFrame\n",
    "historical_data = pd.read_csv(f'{stock_path}historical_data_complete.csv',\n",
    "                    encoding='UTF-8',\n",
    "                    sep=';',\n",
    "                    decimal='.')"
   ]
  },
  {
   "cell_type": "code",
   "execution_count": null,
   "metadata": {},
   "outputs": [],
   "source": [
    "#Transform index to column Date\n",
    "historical_data.reset_index(inplace=True)"
   ]
  },
  {
   "cell_type": "code",
   "execution_count": 29,
   "metadata": {},
   "outputs": [],
   "source": [
    "# Transform date to datetime\n",
    "historical_data['Date'] = pd.to_datetime(historical_data['Date'], utc=True) "
   ]
  },
  {
   "cell_type": "code",
   "execution_count": 30,
   "metadata": {},
   "outputs": [],
   "source": [
    "# Transform datetime to YYYY-MM-DD\n",
    "historical_data['Date'] = historical_data['Date'].dt.date"
   ]
  },
  {
   "cell_type": "code",
   "execution_count": 18,
   "metadata": {},
   "outputs": [
    {
     "data": {
      "text/plain": [
       "735"
      ]
     },
     "execution_count": 18,
     "metadata": {},
     "output_type": "execute_result"
    }
   ],
   "source": [
    "len(historical_data['cod_yfinance'].unique())"
   ]
  },
  {
   "cell_type": "markdown",
   "metadata": {},
   "source": [
    "### Rounding values"
   ]
  },
  {
   "cell_type": "code",
   "execution_count": 52,
   "metadata": {},
   "outputs": [
    {
     "data": {
      "text/html": [
       "<div>\n",
       "<style scoped>\n",
       "    .dataframe tbody tr th:only-of-type {\n",
       "        vertical-align: middle;\n",
       "    }\n",
       "\n",
       "    .dataframe tbody tr th {\n",
       "        vertical-align: top;\n",
       "    }\n",
       "\n",
       "    .dataframe thead th {\n",
       "        text-align: right;\n",
       "    }\n",
       "</style>\n",
       "<table border=\"1\" class=\"dataframe\">\n",
       "  <thead>\n",
       "    <tr style=\"text-align: right;\">\n",
       "      <th></th>\n",
       "      <th>Date</th>\n",
       "      <th>Open</th>\n",
       "      <th>High</th>\n",
       "      <th>Low</th>\n",
       "      <th>Close</th>\n",
       "      <th>Volume</th>\n",
       "      <th>Dividends</th>\n",
       "      <th>Stock Splits</th>\n",
       "      <th>cod_yfinance</th>\n",
       "    </tr>\n",
       "  </thead>\n",
       "  <tbody>\n",
       "    <tr>\n",
       "      <th>0</th>\n",
       "      <td>1980-03-17</td>\n",
       "      <td>0.000</td>\n",
       "      <td>0.426</td>\n",
       "      <td>0.420</td>\n",
       "      <td>0.420</td>\n",
       "      <td>43200.0</td>\n",
       "      <td>0.0</td>\n",
       "      <td>0.0</td>\n",
       "      <td>IPG</td>\n",
       "    </tr>\n",
       "    <tr>\n",
       "      <th>1</th>\n",
       "      <td>1980-03-18</td>\n",
       "      <td>0.000</td>\n",
       "      <td>0.417</td>\n",
       "      <td>0.417</td>\n",
       "      <td>0.417</td>\n",
       "      <td>327600.0</td>\n",
       "      <td>0.0</td>\n",
       "      <td>0.0</td>\n",
       "      <td>IPG</td>\n",
       "    </tr>\n",
       "    <tr>\n",
       "      <th>2</th>\n",
       "      <td>1980-03-19</td>\n",
       "      <td>0.000</td>\n",
       "      <td>0.417</td>\n",
       "      <td>0.417</td>\n",
       "      <td>0.417</td>\n",
       "      <td>115200.0</td>\n",
       "      <td>0.0</td>\n",
       "      <td>0.0</td>\n",
       "      <td>IPG</td>\n",
       "    </tr>\n",
       "    <tr>\n",
       "      <th>3</th>\n",
       "      <td>1980-03-20</td>\n",
       "      <td>0.000</td>\n",
       "      <td>0.420</td>\n",
       "      <td>0.420</td>\n",
       "      <td>0.420</td>\n",
       "      <td>28800.0</td>\n",
       "      <td>0.0</td>\n",
       "      <td>0.0</td>\n",
       "      <td>IPG</td>\n",
       "    </tr>\n",
       "    <tr>\n",
       "      <th>4</th>\n",
       "      <td>1980-03-21</td>\n",
       "      <td>0.000</td>\n",
       "      <td>0.420</td>\n",
       "      <td>0.420</td>\n",
       "      <td>0.420</td>\n",
       "      <td>554400.0</td>\n",
       "      <td>0.0</td>\n",
       "      <td>0.0</td>\n",
       "      <td>IPG</td>\n",
       "    </tr>\n",
       "    <tr>\n",
       "      <th>...</th>\n",
       "      <td>...</td>\n",
       "      <td>...</td>\n",
       "      <td>...</td>\n",
       "      <td>...</td>\n",
       "      <td>...</td>\n",
       "      <td>...</td>\n",
       "      <td>...</td>\n",
       "      <td>...</td>\n",
       "      <td>...</td>\n",
       "    </tr>\n",
       "    <tr>\n",
       "      <th>4913754</th>\n",
       "      <td>2022-12-05</td>\n",
       "      <td>5.218</td>\n",
       "      <td>5.264</td>\n",
       "      <td>5.214</td>\n",
       "      <td>5.218</td>\n",
       "      <td>0.0</td>\n",
       "      <td>0.0</td>\n",
       "      <td>0.0</td>\n",
       "      <td>BRL=X</td>\n",
       "    </tr>\n",
       "    <tr>\n",
       "      <th>4913755</th>\n",
       "      <td>2022-12-06</td>\n",
       "      <td>5.280</td>\n",
       "      <td>5.281</td>\n",
       "      <td>5.220</td>\n",
       "      <td>5.280</td>\n",
       "      <td>0.0</td>\n",
       "      <td>0.0</td>\n",
       "      <td>0.0</td>\n",
       "      <td>BRL=X</td>\n",
       "    </tr>\n",
       "    <tr>\n",
       "      <th>4913756</th>\n",
       "      <td>2022-12-07</td>\n",
       "      <td>5.234</td>\n",
       "      <td>5.270</td>\n",
       "      <td>5.210</td>\n",
       "      <td>5.234</td>\n",
       "      <td>0.0</td>\n",
       "      <td>0.0</td>\n",
       "      <td>0.0</td>\n",
       "      <td>BRL=X</td>\n",
       "    </tr>\n",
       "    <tr>\n",
       "      <th>4913757</th>\n",
       "      <td>2022-12-08</td>\n",
       "      <td>5.204</td>\n",
       "      <td>5.248</td>\n",
       "      <td>5.194</td>\n",
       "      <td>5.204</td>\n",
       "      <td>0.0</td>\n",
       "      <td>0.0</td>\n",
       "      <td>0.0</td>\n",
       "      <td>BRL=X</td>\n",
       "    </tr>\n",
       "    <tr>\n",
       "      <th>4913758</th>\n",
       "      <td>2022-12-09</td>\n",
       "      <td>5.224</td>\n",
       "      <td>5.280</td>\n",
       "      <td>5.215</td>\n",
       "      <td>5.224</td>\n",
       "      <td>0.0</td>\n",
       "      <td>0.0</td>\n",
       "      <td>0.0</td>\n",
       "      <td>BRL=X</td>\n",
       "    </tr>\n",
       "  </tbody>\n",
       "</table>\n",
       "<p>4913049 rows × 9 columns</p>\n",
       "</div>"
      ],
      "text/plain": [
       "               Date   Open   High    Low  Close    Volume  Dividends  \\\n",
       "0        1980-03-17  0.000  0.426  0.420  0.420   43200.0        0.0   \n",
       "1        1980-03-18  0.000  0.417  0.417  0.417  327600.0        0.0   \n",
       "2        1980-03-19  0.000  0.417  0.417  0.417  115200.0        0.0   \n",
       "3        1980-03-20  0.000  0.420  0.420  0.420   28800.0        0.0   \n",
       "4        1980-03-21  0.000  0.420  0.420  0.420  554400.0        0.0   \n",
       "...             ...    ...    ...    ...    ...       ...        ...   \n",
       "4913754  2022-12-05  5.218  5.264  5.214  5.218       0.0        0.0   \n",
       "4913755  2022-12-06  5.280  5.281  5.220  5.280       0.0        0.0   \n",
       "4913756  2022-12-07  5.234  5.270  5.210  5.234       0.0        0.0   \n",
       "4913757  2022-12-08  5.204  5.248  5.194  5.204       0.0        0.0   \n",
       "4913758  2022-12-09  5.224  5.280  5.215  5.224       0.0        0.0   \n",
       "\n",
       "         Stock Splits cod_yfinance  \n",
       "0                 0.0          IPG  \n",
       "1                 0.0          IPG  \n",
       "2                 0.0          IPG  \n",
       "3                 0.0          IPG  \n",
       "4                 0.0          IPG  \n",
       "...               ...          ...  \n",
       "4913754           0.0        BRL=X  \n",
       "4913755           0.0        BRL=X  \n",
       "4913756           0.0        BRL=X  \n",
       "4913757           0.0        BRL=X  \n",
       "4913758           0.0        BRL=X  \n",
       "\n",
       "[4913049 rows x 9 columns]"
      ]
     },
     "execution_count": 52,
     "metadata": {},
     "output_type": "execute_result"
    }
   ],
   "source": [
    "historical_data"
   ]
  },
  {
   "cell_type": "code",
   "execution_count": 51,
   "metadata": {},
   "outputs": [],
   "source": [
    "historical_data['Open'] = historical_data['Open'].round(3)\n",
    "historical_data['High'] = historical_data['High'].round(3)\n",
    "historical_data['Low'] = historical_data['Low'].round(3)\n",
    "historical_data['Close'] = historical_data['Close'].round(3)\n",
    "historical_data['Dividends'] = historical_data['Dividends'].round(3)"
   ]
  },
  {
   "attachments": {},
   "cell_type": "markdown",
   "metadata": {},
   "source": [
    "## Dataset with indexes, gold, dolar (R$), bitcoin and ethereum historical data - Obsolete"
   ]
  },
  {
   "cell_type": "code",
   "execution_count": null,
   "metadata": {},
   "outputs": [],
   "source": [
    "# Create empty DataFrame\n",
    "indexes_historical_data = pd.DataFrame()"
   ]
  },
  {
   "cell_type": "code",
   "execution_count": null,
   "metadata": {},
   "outputs": [],
   "source": [
    "# Creating DataFrame with historical data of all companies\n",
    "for ticker in df_index['cod_yfinance']:\n",
    "    aux_df = pd.DataFrame()\n",
    "    aux_df = yf.Ticker(ticker).history(start='1927-12-30', end='2022-12-10')\n",
    "    aux_df['cod_yfinance'] = ticker\n",
    "\n",
    "    indexes_historical_data = pd.concat([indexes_historical_data, aux_df], axis=0)\n"
   ]
  },
  {
   "cell_type": "code",
   "execution_count": null,
   "metadata": {},
   "outputs": [],
   "source": [
    "indexes_historical_data"
   ]
  },
  {
   "cell_type": "code",
   "execution_count": null,
   "metadata": {},
   "outputs": [],
   "source": [
    "indexes_historical_data.to_csv(f'{stock_path}indexes_historical_data.csv',\n",
    "                    encoding='UTF-8',\n",
    "                    sep=';',\n",
    "                    decimal='.',\n",
    "                    index=False)"
   ]
  },
  {
   "cell_type": "markdown",
   "metadata": {},
   "source": [
    "## Testing yfinance historical data"
   ]
  },
  {
   "cell_type": "code",
   "execution_count": null,
   "metadata": {},
   "outputs": [],
   "source": [
    "today = datetime.datetime.now()\n",
    "today = today.strftime(\"%Y-%m-%d\")"
   ]
  },
  {
   "cell_type": "code",
   "execution_count": null,
   "metadata": {},
   "outputs": [],
   "source": [
    "teste = datetime.datetime.now()"
   ]
  },
  {
   "cell_type": "code",
   "execution_count": null,
   "metadata": {},
   "outputs": [],
   "source": [
    "# Testinf yfinance historical data\n",
    "test_df = pd.DataFrame()\n",
    "\n",
    "for ticker in df_index['cod_yfinance']:\n",
    "    aux_df = pd.DataFrame()\n",
    "    aux_df = yf.Ticker(ticker).history(start='2022-12-08', end=today)\n",
    "    aux_df['cod_yfinance'] = ticker\n",
    "\n",
    "    test_df = pd.concat([test_df, aux_df], axis=0)"
   ]
  },
  {
   "cell_type": "code",
   "execution_count": null,
   "metadata": {},
   "outputs": [],
   "source": [
    "test_df"
   ]
  },
  {
   "cell_type": "code",
   "execution_count": null,
   "metadata": {},
   "outputs": [],
   "source": [
    "test_df.reset_index(inplace=True)"
   ]
  },
  {
   "cell_type": "code",
   "execution_count": null,
   "metadata": {},
   "outputs": [],
   "source": [
    "test_df.info()"
   ]
  },
  {
   "cell_type": "code",
   "execution_count": null,
   "metadata": {},
   "outputs": [],
   "source": [
    "# Transform date to datetime\n",
    "test_df['Date'] = pd.to_datetime(test_df['Date'], utc=True) "
   ]
  },
  {
   "cell_type": "code",
   "execution_count": null,
   "metadata": {},
   "outputs": [],
   "source": [
    "# Transform datetime to YYYY-MM-DD\n",
    "test_df['Date'] = test_df['Date'].dt.date"
   ]
  },
  {
   "cell_type": "code",
   "execution_count": null,
   "metadata": {},
   "outputs": [],
   "source": [
    "test_df"
   ]
  },
  {
   "cell_type": "markdown",
   "metadata": {},
   "source": [
    "# Working on companies sector and industry"
   ]
  },
  {
   "cell_type": "code",
   "execution_count": 60,
   "metadata": {},
   "outputs": [],
   "source": [
    "all_companies = pd.read_csv(f'{stock_path}all_companies_and_indexes.csv',\n",
    "                    encoding='UTF-8',\n",
    "                    sep=';',\n",
    "                    decimal='.')"
   ]
  },
  {
   "cell_type": "code",
   "execution_count": 61,
   "metadata": {},
   "outputs": [
    {
     "data": {
      "text/plain": [
       "Industrials               104\n",
       "Consumer Cyclical          98\n",
       "Financial Services         93\n",
       "Technology                 93\n",
       "Healthcare                 81\n",
       "Consumer Defensive         54\n",
       "Utilities                  54\n",
       "Real Estate                47\n",
       "Basic Materials            37\n",
       "Communication Services     33\n",
       "Energy                     32\n",
       "Index                       5\n",
       "Crypto                      2\n",
       "Gold                        1\n",
       "Currency                    1\n",
       "Name: sector, dtype: int64"
      ]
     },
     "execution_count": 61,
     "metadata": {},
     "output_type": "execute_result"
    }
   ],
   "source": [
    "all_companies['sector'].value_counts()"
   ]
  },
  {
   "cell_type": "code",
   "execution_count": 62,
   "metadata": {},
   "outputs": [
    {
     "data": {
      "text/plain": [
       "Utilities - Regulated Electric      30\n",
       "Banks - Regional                    25\n",
       "Specialty Industrial Machinery      21\n",
       "Software - Application              19\n",
       "Software - Infrastructure           18\n",
       "                                    ..\n",
       "REIT - Diversified                   1\n",
       "Lumber & Wood Production             1\n",
       "Other Industrial Metals & Mining     1\n",
       "Security & Protection Services       1\n",
       "Currency                             1\n",
       "Name: industry, Length: 128, dtype: int64"
      ]
     },
     "execution_count": 62,
     "metadata": {},
     "output_type": "execute_result"
    }
   ],
   "source": [
    "all_companies['industry'].value_counts()"
   ]
  },
  {
   "cell_type": "code",
   "execution_count": null,
   "metadata": {},
   "outputs": [],
   "source": [
    "all_companies['industry'] = all_companies['industry'].str.replace(\"—\",\" - \")"
   ]
  },
  {
   "cell_type": "code",
   "execution_count": 64,
   "metadata": {},
   "outputs": [
    {
     "data": {
      "text/html": [
       "<div>\n",
       "<style scoped>\n",
       "    .dataframe tbody tr th:only-of-type {\n",
       "        vertical-align: middle;\n",
       "    }\n",
       "\n",
       "    .dataframe tbody tr th {\n",
       "        vertical-align: top;\n",
       "    }\n",
       "\n",
       "    .dataframe thead th {\n",
       "        text-align: right;\n",
       "    }\n",
       "</style>\n",
       "<table border=\"1\" class=\"dataframe\">\n",
       "  <thead>\n",
       "    <tr style=\"text-align: right;\">\n",
       "      <th></th>\n",
       "      <th>ticker</th>\n",
       "      <th>name</th>\n",
       "      <th>sector</th>\n",
       "      <th>industry</th>\n",
       "      <th>cod_yfinance</th>\n",
       "      <th>country</th>\n",
       "      <th>type</th>\n",
       "    </tr>\n",
       "  </thead>\n",
       "  <tbody>\n",
       "    <tr>\n",
       "      <th>59</th>\n",
       "      <td>BAC</td>\n",
       "      <td>Bank of America</td>\n",
       "      <td>Financial Services</td>\n",
       "      <td>Banks - Diversified</td>\n",
       "      <td>BAC</td>\n",
       "      <td>USA</td>\n",
       "      <td>Company</td>\n",
       "    </tr>\n",
       "    <tr>\n",
       "      <th>60</th>\n",
       "      <td>C</td>\n",
       "      <td>Citigroup</td>\n",
       "      <td>Financial Services</td>\n",
       "      <td>Banks - Diversified</td>\n",
       "      <td>C</td>\n",
       "      <td>USA</td>\n",
       "      <td>Company</td>\n",
       "    </tr>\n",
       "    <tr>\n",
       "      <th>61</th>\n",
       "      <td>JPM</td>\n",
       "      <td>JPMorgan Chase</td>\n",
       "      <td>Financial Services</td>\n",
       "      <td>Banks - Diversified</td>\n",
       "      <td>JPM</td>\n",
       "      <td>USA</td>\n",
       "      <td>Company</td>\n",
       "    </tr>\n",
       "    <tr>\n",
       "      <th>62</th>\n",
       "      <td>WFC</td>\n",
       "      <td>Wells Fargo</td>\n",
       "      <td>Financial Services</td>\n",
       "      <td>Banks - Diversified</td>\n",
       "      <td>WFC</td>\n",
       "      <td>USA</td>\n",
       "      <td>Company</td>\n",
       "    </tr>\n",
       "    <tr>\n",
       "      <th>63</th>\n",
       "      <td>ABCB4</td>\n",
       "      <td>ABC BRASIL</td>\n",
       "      <td>Financial Services</td>\n",
       "      <td>Banks - Regional</td>\n",
       "      <td>ABCB4.SA</td>\n",
       "      <td>Brazil</td>\n",
       "      <td>Company</td>\n",
       "    </tr>\n",
       "    <tr>\n",
       "      <th>...</th>\n",
       "      <td>...</td>\n",
       "      <td>...</td>\n",
       "      <td>...</td>\n",
       "      <td>...</td>\n",
       "      <td>...</td>\n",
       "      <td>...</td>\n",
       "      <td>...</td>\n",
       "    </tr>\n",
       "    <tr>\n",
       "      <th>717</th>\n",
       "      <td>ENGI11</td>\n",
       "      <td>ENERGISA</td>\n",
       "      <td>Utilities</td>\n",
       "      <td>Utilities - Renewable</td>\n",
       "      <td>ENGI11.SA</td>\n",
       "      <td>Brazil</td>\n",
       "      <td>Company</td>\n",
       "    </tr>\n",
       "    <tr>\n",
       "      <th>718</th>\n",
       "      <td>LIGT3</td>\n",
       "      <td>LIGHT S/A</td>\n",
       "      <td>Utilities</td>\n",
       "      <td>Utilities - Renewable</td>\n",
       "      <td>LIGT3.SA</td>\n",
       "      <td>Brazil</td>\n",
       "      <td>Company</td>\n",
       "    </tr>\n",
       "    <tr>\n",
       "      <th>719</th>\n",
       "      <td>MEGA3</td>\n",
       "      <td>OMEGAENERGIA</td>\n",
       "      <td>Utilities</td>\n",
       "      <td>Utilities - Renewable</td>\n",
       "      <td>MEGA3.SA</td>\n",
       "      <td>Brazil</td>\n",
       "      <td>Company</td>\n",
       "    </tr>\n",
       "    <tr>\n",
       "      <th>720</th>\n",
       "      <td>CEG</td>\n",
       "      <td>Constellation Energy</td>\n",
       "      <td>Utilities</td>\n",
       "      <td>Utilities - Renewable</td>\n",
       "      <td>CEG</td>\n",
       "      <td>USA</td>\n",
       "      <td>Company</td>\n",
       "    </tr>\n",
       "    <tr>\n",
       "      <th>725</th>\n",
       "      <td>VTRS</td>\n",
       "      <td>Viatris</td>\n",
       "      <td>Healthcare</td>\n",
       "      <td>Drug Manufacturers - Specialty &amp; Generic</td>\n",
       "      <td>VTRS</td>\n",
       "      <td>USA</td>\n",
       "      <td>Company</td>\n",
       "    </tr>\n",
       "  </tbody>\n",
       "</table>\n",
       "<p>207 rows × 7 columns</p>\n",
       "</div>"
      ],
      "text/plain": [
       "     ticker                  name              sector  \\\n",
       "59      BAC       Bank of America  Financial Services   \n",
       "60        C             Citigroup  Financial Services   \n",
       "61      JPM        JPMorgan Chase  Financial Services   \n",
       "62      WFC           Wells Fargo  Financial Services   \n",
       "63    ABCB4            ABC BRASIL  Financial Services   \n",
       "..      ...                   ...                 ...   \n",
       "717  ENGI11              ENERGISA           Utilities   \n",
       "718   LIGT3             LIGHT S/A           Utilities   \n",
       "719   MEGA3          OMEGAENERGIA           Utilities   \n",
       "720     CEG  Constellation Energy           Utilities   \n",
       "725    VTRS               Viatris          Healthcare   \n",
       "\n",
       "                                     industry cod_yfinance country     type  \n",
       "59                        Banks - Diversified          BAC     USA  Company  \n",
       "60                        Banks - Diversified            C     USA  Company  \n",
       "61                        Banks - Diversified          JPM     USA  Company  \n",
       "62                        Banks - Diversified          WFC     USA  Company  \n",
       "63                           Banks - Regional     ABCB4.SA  Brazil  Company  \n",
       "..                                        ...          ...     ...      ...  \n",
       "717                     Utilities - Renewable    ENGI11.SA  Brazil  Company  \n",
       "718                     Utilities - Renewable     LIGT3.SA  Brazil  Company  \n",
       "719                     Utilities - Renewable     MEGA3.SA  Brazil  Company  \n",
       "720                     Utilities - Renewable          CEG     USA  Company  \n",
       "725  Drug Manufacturers - Specialty & Generic         VTRS     USA  Company  \n",
       "\n",
       "[207 rows x 7 columns]"
      ]
     },
     "execution_count": 64,
     "metadata": {},
     "output_type": "execute_result"
    }
   ],
   "source": [
    "all_companies[all_companies['industry'].str.contains('-')]"
   ]
  },
  {
   "cell_type": "code",
   "execution_count": null,
   "metadata": {},
   "outputs": [],
   "source": [
    "agf = ['QUAL3'\n",
    ",'VVBR3'\n",
    ",'AESB3'\n",
    ",'WIZS3'\n",
    ",'BRAP3'\n",
    ",'BRSR6'\n",
    ",'BRKM5'\n",
    ",'BRAP4'\n",
    ",'BRKM3'\n",
    ",'BRSR3'\n",
    ",'CGAS5'\n",
    ",'TRPL4'\n",
    ",'VIVT3'\n",
    ",'TAEE11'\n",
    ",'TAEE4'\n",
    ",'TAEE3'\n",
    ",'CGAS3'\n",
    ",'ITSA4'\n",
    ",'CSMG3'\n",
    ",'ENAT3'\n",
    ",'ITSA3'\n",
    ",'SANB11'\n",
    ",'SANB3'\n",
    ",'SANB4'\n",
    ",'GRND3'\n",
    ",'BRSR5'\n",
    ",'TRPL3'\n",
    ",'SAPR4'\n",
    ",'SAPR3'\n",
    ",'BBSE3'\n",
    ",'CMIG4'\n",
    ",'ALUP11'\n",
    ",'CLSC3'\n",
    ",'CMIG4'\n",
    ",'ELET3'\n",
    ",'BBAS3'\n",
    ",'BBDC4'\n",
    ",'ITUB4'\n",
    ",'AMBP3'\n",
    ",'CSAN3'\n",
    ",'CSAN4'\n",
    ",'OPCT3'\n",
    ",'SBSP3'\n",
    ",'SAPR11'\n",
    ",'VERZ34'\n",
    ",'OIBR4'\n",
    ",'TIMS3'\n",
    ",'VIVT4'\n",
    ",'TELB4'\n",
    ",'TELB3'\n",
    ",'ATTB34'\n",
    "]\n"
   ]
  },
  {
   "cell_type": "code",
   "execution_count": null,
   "metadata": {},
   "outputs": [],
   "source": [
    "all_companies[all_companies['ticker'].isin(agf)]"
   ]
  },
  {
   "cell_type": "code",
   "execution_count": null,
   "metadata": {},
   "outputs": [],
   "source": [
    "all_companies.loc[all_companies['name'].isin(companies)]"
   ]
  },
  {
   "cell_type": "code",
   "execution_count": null,
   "metadata": {},
   "outputs": [],
   "source": [
    "all_companies.loc[(all_companies['name'].isin(companies)) | all_companies['ticker'].isin(agf)].shape"
   ]
  },
  {
   "cell_type": "code",
   "execution_count": 83,
   "metadata": {},
   "outputs": [],
   "source": [
    "# Perennial Industry\n",
    "perennial=[\n",
    "'Utilities - Diversified'\n",
    ",'Utilities - Independent Power Producers'\n",
    ",'Utilities - Regulated Electric'\n",
    ",'Utilities - Regulated Gas'\n",
    ",'Utilities - Regulated Water'\n",
    ",'Utilities - Renewable'\n",
    ",'Banks - Diversified'\n",
    ",'Banks - Regional'\n",
    ",'Insurance - Diversified'\n",
    ",'Insurance - Life'\n",
    ",'Insurance - Property & Casualty'\n",
    ",'Insurance - Reinsurance'\n",
    ",'Insurance - Specialty'\n",
    ",'Insurance Brokers'\n",
    ",'Healthcare Plans'\n",
    ",'Telecom Services'\n",
    ",'Waste Management'\n",
    ",'Oil & Gas E&P'\n",
    ",'Oil & Gas Equipment & Services'\n",
    ",'Oil & Gas Integrated'\n",
    ",'Oil & Gas Midstream'\n",
    ",'Oil & Gas Refining & Marketing']"
   ]
  },
  {
   "cell_type": "code",
   "execution_count": 84,
   "metadata": {},
   "outputs": [],
   "source": [
    "# Perennial subsector\n",
    "dict_subsector = {\n",
    "'Utilities - Diversified' : 'Utilities - Electricity'\n",
    ",'Utilities - Independent Power Producers' : 'Utilities - Electricity'\n",
    ",'Utilities - Regulated Electric' : 'Utilities - Electricity'\n",
    ",'Utilities - Regulated Gas' :\t'Utilities - Gas'\n",
    ",'Utilities - Regulated Water' : 'Sanitation'\n",
    ",'Utilities - Renewable' : 'Utilities - Electricity'\n",
    ",'Banks - Diversified' : 'Banks'\n",
    ",'Banks - Regional' : 'Banks'\n",
    ",'Insurance - Diversified': 'Insurance'\n",
    ",'Insurance - Life' : 'Insurance'\n",
    ",'Insurance - Property & Casualty' : 'Insurance'\n",
    ",'Insurance - Reinsurance' : 'Insurance'\n",
    ",'Insurance - Specialty' : 'Insurance'\n",
    ",'Insurance Brokers' : 'Insurance'\n",
    ",'Healthcare Plans' : 'Health Insurance'\n",
    ",'Telecom Services' : 'Telecom'\n",
    ",'Waste Management' : 'Sanitation'\n",
    ",'Oil & Gas E&P' : 'Oil & Gas'\n",
    ",'Oil & Gas Equipment & Services' : 'Oil & Gas'\n",
    ",'Oil & Gas Integrated' : 'Oil & Gas'\n",
    ",'Oil & Gas Midstream' : 'Oil & Gas'\n",
    ",'Oil & Gas Refining & Marketing' : 'Oil & Gas'\n",
    "}"
   ]
  },
  {
   "cell_type": "code",
   "execution_count": 82,
   "metadata": {},
   "outputs": [
    {
     "data": {
      "text/html": [
       "<div>\n",
       "<style scoped>\n",
       "    .dataframe tbody tr th:only-of-type {\n",
       "        vertical-align: middle;\n",
       "    }\n",
       "\n",
       "    .dataframe tbody tr th {\n",
       "        vertical-align: top;\n",
       "    }\n",
       "\n",
       "    .dataframe thead th {\n",
       "        text-align: right;\n",
       "    }\n",
       "</style>\n",
       "<table border=\"1\" class=\"dataframe\">\n",
       "  <thead>\n",
       "    <tr style=\"text-align: right;\">\n",
       "      <th></th>\n",
       "      <th>ticker</th>\n",
       "      <th>name</th>\n",
       "      <th>sector</th>\n",
       "      <th>industry</th>\n",
       "      <th>cod_yfinance</th>\n",
       "      <th>country</th>\n",
       "      <th>type</th>\n",
       "      <th>perennial_subsector</th>\n",
       "      <th>perennial</th>\n",
       "    </tr>\n",
       "  </thead>\n",
       "  <tbody>\n",
       "    <tr>\n",
       "      <th>0</th>\n",
       "      <td>IPG</td>\n",
       "      <td>The Interpublic Group of Companies</td>\n",
       "      <td>Communication Services</td>\n",
       "      <td>Advertising Agencies</td>\n",
       "      <td>IPG</td>\n",
       "      <td>USA</td>\n",
       "      <td>Company</td>\n",
       "      <td>NaN</td>\n",
       "      <td>NaN</td>\n",
       "    </tr>\n",
       "    <tr>\n",
       "      <th>1</th>\n",
       "      <td>OMC</td>\n",
       "      <td>Omnicom Group</td>\n",
       "      <td>Communication Services</td>\n",
       "      <td>Advertising Agencies</td>\n",
       "      <td>OMC</td>\n",
       "      <td>USA</td>\n",
       "      <td>Company</td>\n",
       "      <td>NaN</td>\n",
       "      <td>NaN</td>\n",
       "    </tr>\n",
       "    <tr>\n",
       "      <th>2</th>\n",
       "      <td>TASA4</td>\n",
       "      <td>TAURUS ARMAS</td>\n",
       "      <td>Industrials</td>\n",
       "      <td>Aerospace &amp; Defense</td>\n",
       "      <td>TASA4.SA</td>\n",
       "      <td>Brazil</td>\n",
       "      <td>Company</td>\n",
       "      <td>NaN</td>\n",
       "      <td>NaN</td>\n",
       "    </tr>\n",
       "    <tr>\n",
       "      <th>3</th>\n",
       "      <td>EMBR3</td>\n",
       "      <td>EMBRAER</td>\n",
       "      <td>Industrials</td>\n",
       "      <td>Aerospace &amp; Defense</td>\n",
       "      <td>EMBR3.SA</td>\n",
       "      <td>Brazil</td>\n",
       "      <td>Company</td>\n",
       "      <td>NaN</td>\n",
       "      <td>NaN</td>\n",
       "    </tr>\n",
       "    <tr>\n",
       "      <th>4</th>\n",
       "      <td>BA</td>\n",
       "      <td>Boeing</td>\n",
       "      <td>Industrials</td>\n",
       "      <td>Aerospace &amp; Defense</td>\n",
       "      <td>BA</td>\n",
       "      <td>USA</td>\n",
       "      <td>Company</td>\n",
       "      <td>NaN</td>\n",
       "      <td>NaN</td>\n",
       "    </tr>\n",
       "    <tr>\n",
       "      <th>...</th>\n",
       "      <td>...</td>\n",
       "      <td>...</td>\n",
       "      <td>...</td>\n",
       "      <td>...</td>\n",
       "      <td>...</td>\n",
       "      <td>...</td>\n",
       "      <td>...</td>\n",
       "      <td>...</td>\n",
       "      <td>...</td>\n",
       "    </tr>\n",
       "    <tr>\n",
       "      <th>730</th>\n",
       "      <td>SP500</td>\n",
       "      <td>S&amp;P 500</td>\n",
       "      <td>Index</td>\n",
       "      <td>Index</td>\n",
       "      <td>^GSPC</td>\n",
       "      <td>USA</td>\n",
       "      <td>Index</td>\n",
       "      <td>NaN</td>\n",
       "      <td>NaN</td>\n",
       "    </tr>\n",
       "    <tr>\n",
       "      <th>731</th>\n",
       "      <td>GOLD</td>\n",
       "      <td>Gold (US$)</td>\n",
       "      <td>Gold</td>\n",
       "      <td>Gold</td>\n",
       "      <td>GC=F</td>\n",
       "      <td>USA</td>\n",
       "      <td>Gold</td>\n",
       "      <td>NaN</td>\n",
       "      <td>NaN</td>\n",
       "    </tr>\n",
       "    <tr>\n",
       "      <th>732</th>\n",
       "      <td>BTC</td>\n",
       "      <td>Bitcoin (US$)</td>\n",
       "      <td>Crypto</td>\n",
       "      <td>Crypto</td>\n",
       "      <td>BTC-USD</td>\n",
       "      <td>USA</td>\n",
       "      <td>Crypto</td>\n",
       "      <td>NaN</td>\n",
       "      <td>NaN</td>\n",
       "    </tr>\n",
       "    <tr>\n",
       "      <th>733</th>\n",
       "      <td>ETH</td>\n",
       "      <td>Ethereum (US$)</td>\n",
       "      <td>Crypto</td>\n",
       "      <td>Crypto</td>\n",
       "      <td>ETH-USD</td>\n",
       "      <td>USA</td>\n",
       "      <td>Crypto</td>\n",
       "      <td>NaN</td>\n",
       "      <td>NaN</td>\n",
       "    </tr>\n",
       "    <tr>\n",
       "      <th>734</th>\n",
       "      <td>USD-BRL</td>\n",
       "      <td>Dolar (R$)</td>\n",
       "      <td>Currency</td>\n",
       "      <td>Currency</td>\n",
       "      <td>BRL=X</td>\n",
       "      <td>Brazil</td>\n",
       "      <td>Currency</td>\n",
       "      <td>NaN</td>\n",
       "      <td>NaN</td>\n",
       "    </tr>\n",
       "  </tbody>\n",
       "</table>\n",
       "<p>735 rows × 9 columns</p>\n",
       "</div>"
      ],
      "text/plain": [
       "      ticker                                name                  sector  \\\n",
       "0        IPG  The Interpublic Group of Companies  Communication Services   \n",
       "1        OMC                       Omnicom Group  Communication Services   \n",
       "2      TASA4                        TAURUS ARMAS             Industrials   \n",
       "3      EMBR3                             EMBRAER             Industrials   \n",
       "4         BA                              Boeing             Industrials   \n",
       "..       ...                                 ...                     ...   \n",
       "730    SP500                             S&P 500                   Index   \n",
       "731     GOLD                          Gold (US$)                    Gold   \n",
       "732      BTC                       Bitcoin (US$)                  Crypto   \n",
       "733      ETH                      Ethereum (US$)                  Crypto   \n",
       "734  USD-BRL                          Dolar (R$)                Currency   \n",
       "\n",
       "                 industry cod_yfinance country      type  perennial_subsector  \\\n",
       "0    Advertising Agencies          IPG     USA   Company                  NaN   \n",
       "1    Advertising Agencies          OMC     USA   Company                  NaN   \n",
       "2     Aerospace & Defense     TASA4.SA  Brazil   Company                  NaN   \n",
       "3     Aerospace & Defense     EMBR3.SA  Brazil   Company                  NaN   \n",
       "4     Aerospace & Defense           BA     USA   Company                  NaN   \n",
       "..                    ...          ...     ...       ...                  ...   \n",
       "730                 Index        ^GSPC     USA     Index                  NaN   \n",
       "731                  Gold         GC=F     USA      Gold                  NaN   \n",
       "732                Crypto      BTC-USD     USA    Crypto                  NaN   \n",
       "733                Crypto      ETH-USD     USA    Crypto                  NaN   \n",
       "734              Currency        BRL=X  Brazil  Currency                  NaN   \n",
       "\n",
       "     perennial  \n",
       "0          NaN  \n",
       "1          NaN  \n",
       "2          NaN  \n",
       "3          NaN  \n",
       "4          NaN  \n",
       "..         ...  \n",
       "730        NaN  \n",
       "731        NaN  \n",
       "732        NaN  \n",
       "733        NaN  \n",
       "734        NaN  \n",
       "\n",
       "[735 rows x 9 columns]"
      ]
     },
     "execution_count": 82,
     "metadata": {},
     "output_type": "execute_result"
    }
   ],
   "source": [
    "all_companies"
   ]
  },
  {
   "cell_type": "code",
   "execution_count": 94,
   "metadata": {},
   "outputs": [],
   "source": [
    "mask_perennial = all_companies['industry'].isin(perennial)"
   ]
  },
  {
   "cell_type": "code",
   "execution_count": 91,
   "metadata": {},
   "outputs": [],
   "source": [
    "# Indetify if the company is in a perennial sector\n",
    "all_companies.loc[mask_perennial, 'perennial'] = 'Yes'\n",
    "all_companies.loc[~mask_perennial, 'perennial'] = 'No'"
   ]
  },
  {
   "cell_type": "code",
   "execution_count": 109,
   "metadata": {},
   "outputs": [
    {
     "name": "stderr",
     "output_type": "stream",
     "text": [
      "c:\\Users\\Pedro\\anaconda3\\lib\\site-packages\\pandas\\core\\indexing.py:2115: FutureWarning: In a future version, the Index constructor will not infer numeric dtypes when passed object-dtype sequences (matching Series behavior)\n",
      "  new_ix = Index(new_ix)\n"
     ]
    }
   ],
   "source": [
    "# Create a subsector for perennial companies\n",
    "all_companies.loc[mask_perennial, 'perennial_subsector'] =  all_companies.loc[mask_perennial, 'industry'].map(dict_subsector)"
   ]
  },
  {
   "cell_type": "code",
   "execution_count": 110,
   "metadata": {},
   "outputs": [],
   "source": [
    "# If the company is not perennial, subsector = industry\n",
    "all_companies.loc[~mask_perennial, 'perennial_subsector'] = all_companies.loc[~mask_perennial, 'industry']"
   ]
  },
  {
   "cell_type": "code",
   "execution_count": 112,
   "metadata": {},
   "outputs": [
    {
     "data": {
      "text/plain": [
       "ticker                 0\n",
       "name                   0\n",
       "sector                 0\n",
       "industry               0\n",
       "cod_yfinance           0\n",
       "country                0\n",
       "type                   0\n",
       "perennial_subsector    0\n",
       "perennial              0\n",
       "dtype: int64"
      ]
     },
     "execution_count": 112,
     "metadata": {},
     "output_type": "execute_result"
    }
   ],
   "source": [
    "all_companies.isnull().sum()"
   ]
  },
  {
   "cell_type": "code",
   "execution_count": 121,
   "metadata": {},
   "outputs": [],
   "source": [
    "# Save modified DataFrame\n",
    "all_companies_rev1.to_csv(f'{stock_path}all_companies_and_indexes_rev2.csv',\n",
    "                    encoding='UTF-8',\n",
    "                    sep=';',\n",
    "                    decimal='.',\n",
    "                    index=False)"
   ]
  },
  {
   "cell_type": "code",
   "execution_count": 122,
   "metadata": {},
   "outputs": [],
   "source": [
    "all_companies_rev2 = pd.read_csv(f'{stock_path}all_companies_and_indexes_rev1.csv',\n",
    "                    encoding='UTF-8',\n",
    "                    sep=';',\n",
    "                    decimal='.')"
   ]
  },
  {
   "cell_type": "code",
   "execution_count": 123,
   "metadata": {},
   "outputs": [
    {
     "data": {
      "text/html": [
       "<div>\n",
       "<style scoped>\n",
       "    .dataframe tbody tr th:only-of-type {\n",
       "        vertical-align: middle;\n",
       "    }\n",
       "\n",
       "    .dataframe tbody tr th {\n",
       "        vertical-align: top;\n",
       "    }\n",
       "\n",
       "    .dataframe thead th {\n",
       "        text-align: right;\n",
       "    }\n",
       "</style>\n",
       "<table border=\"1\" class=\"dataframe\">\n",
       "  <thead>\n",
       "    <tr style=\"text-align: right;\">\n",
       "      <th></th>\n",
       "      <th>ticker</th>\n",
       "      <th>name</th>\n",
       "      <th>sector</th>\n",
       "      <th>industry</th>\n",
       "      <th>cod_yfinance</th>\n",
       "      <th>country</th>\n",
       "      <th>type</th>\n",
       "      <th>perennial_subsector</th>\n",
       "      <th>perennial</th>\n",
       "    </tr>\n",
       "  </thead>\n",
       "  <tbody>\n",
       "    <tr>\n",
       "      <th>0</th>\n",
       "      <td>IPG</td>\n",
       "      <td>The Interpublic Group of Companies</td>\n",
       "      <td>Communication Services</td>\n",
       "      <td>Advertising Agencies</td>\n",
       "      <td>IPG</td>\n",
       "      <td>USA</td>\n",
       "      <td>Company</td>\n",
       "      <td>Advertising Agencies</td>\n",
       "      <td>No</td>\n",
       "    </tr>\n",
       "    <tr>\n",
       "      <th>1</th>\n",
       "      <td>OMC</td>\n",
       "      <td>Omnicom Group</td>\n",
       "      <td>Communication Services</td>\n",
       "      <td>Advertising Agencies</td>\n",
       "      <td>OMC</td>\n",
       "      <td>USA</td>\n",
       "      <td>Company</td>\n",
       "      <td>Advertising Agencies</td>\n",
       "      <td>No</td>\n",
       "    </tr>\n",
       "    <tr>\n",
       "      <th>2</th>\n",
       "      <td>TASA4</td>\n",
       "      <td>TAURUS ARMAS</td>\n",
       "      <td>Industrials</td>\n",
       "      <td>Aerospace &amp; Defense</td>\n",
       "      <td>TASA4.SA</td>\n",
       "      <td>Brazil</td>\n",
       "      <td>Company</td>\n",
       "      <td>Aerospace &amp; Defense</td>\n",
       "      <td>No</td>\n",
       "    </tr>\n",
       "    <tr>\n",
       "      <th>3</th>\n",
       "      <td>EMBR3</td>\n",
       "      <td>EMBRAER</td>\n",
       "      <td>Industrials</td>\n",
       "      <td>Aerospace &amp; Defense</td>\n",
       "      <td>EMBR3.SA</td>\n",
       "      <td>Brazil</td>\n",
       "      <td>Company</td>\n",
       "      <td>Aerospace &amp; Defense</td>\n",
       "      <td>No</td>\n",
       "    </tr>\n",
       "    <tr>\n",
       "      <th>4</th>\n",
       "      <td>BA</td>\n",
       "      <td>Boeing</td>\n",
       "      <td>Industrials</td>\n",
       "      <td>Aerospace &amp; Defense</td>\n",
       "      <td>BA</td>\n",
       "      <td>USA</td>\n",
       "      <td>Company</td>\n",
       "      <td>Aerospace &amp; Defense</td>\n",
       "      <td>No</td>\n",
       "    </tr>\n",
       "    <tr>\n",
       "      <th>...</th>\n",
       "      <td>...</td>\n",
       "      <td>...</td>\n",
       "      <td>...</td>\n",
       "      <td>...</td>\n",
       "      <td>...</td>\n",
       "      <td>...</td>\n",
       "      <td>...</td>\n",
       "      <td>...</td>\n",
       "      <td>...</td>\n",
       "    </tr>\n",
       "    <tr>\n",
       "      <th>730</th>\n",
       "      <td>SP500</td>\n",
       "      <td>S&amp;P 500</td>\n",
       "      <td>Index</td>\n",
       "      <td>Index</td>\n",
       "      <td>^GSPC</td>\n",
       "      <td>USA</td>\n",
       "      <td>Index</td>\n",
       "      <td>Index</td>\n",
       "      <td>No</td>\n",
       "    </tr>\n",
       "    <tr>\n",
       "      <th>731</th>\n",
       "      <td>GOLD</td>\n",
       "      <td>Gold (US$)</td>\n",
       "      <td>Gold</td>\n",
       "      <td>Gold</td>\n",
       "      <td>GC=F</td>\n",
       "      <td>USA</td>\n",
       "      <td>Gold</td>\n",
       "      <td>Gold</td>\n",
       "      <td>No</td>\n",
       "    </tr>\n",
       "    <tr>\n",
       "      <th>732</th>\n",
       "      <td>BTC</td>\n",
       "      <td>Bitcoin (US$)</td>\n",
       "      <td>Crypto</td>\n",
       "      <td>Crypto</td>\n",
       "      <td>BTC-USD</td>\n",
       "      <td>USA</td>\n",
       "      <td>Crypto</td>\n",
       "      <td>Crypto</td>\n",
       "      <td>No</td>\n",
       "    </tr>\n",
       "    <tr>\n",
       "      <th>733</th>\n",
       "      <td>ETH</td>\n",
       "      <td>Ethereum (US$)</td>\n",
       "      <td>Crypto</td>\n",
       "      <td>Crypto</td>\n",
       "      <td>ETH-USD</td>\n",
       "      <td>USA</td>\n",
       "      <td>Crypto</td>\n",
       "      <td>Crypto</td>\n",
       "      <td>No</td>\n",
       "    </tr>\n",
       "    <tr>\n",
       "      <th>734</th>\n",
       "      <td>USD-BRL</td>\n",
       "      <td>Dolar (R$)</td>\n",
       "      <td>Currency</td>\n",
       "      <td>Currency</td>\n",
       "      <td>BRL=X</td>\n",
       "      <td>Brazil</td>\n",
       "      <td>Currency</td>\n",
       "      <td>Currency</td>\n",
       "      <td>No</td>\n",
       "    </tr>\n",
       "  </tbody>\n",
       "</table>\n",
       "<p>735 rows × 9 columns</p>\n",
       "</div>"
      ],
      "text/plain": [
       "      ticker                                name                  sector  \\\n",
       "0        IPG  The Interpublic Group of Companies  Communication Services   \n",
       "1        OMC                       Omnicom Group  Communication Services   \n",
       "2      TASA4                        TAURUS ARMAS             Industrials   \n",
       "3      EMBR3                             EMBRAER             Industrials   \n",
       "4         BA                              Boeing             Industrials   \n",
       "..       ...                                 ...                     ...   \n",
       "730    SP500                             S&P 500                   Index   \n",
       "731     GOLD                          Gold (US$)                    Gold   \n",
       "732      BTC                       Bitcoin (US$)                  Crypto   \n",
       "733      ETH                      Ethereum (US$)                  Crypto   \n",
       "734  USD-BRL                          Dolar (R$)                Currency   \n",
       "\n",
       "                 industry cod_yfinance country      type  \\\n",
       "0    Advertising Agencies          IPG     USA   Company   \n",
       "1    Advertising Agencies          OMC     USA   Company   \n",
       "2     Aerospace & Defense     TASA4.SA  Brazil   Company   \n",
       "3     Aerospace & Defense     EMBR3.SA  Brazil   Company   \n",
       "4     Aerospace & Defense           BA     USA   Company   \n",
       "..                    ...          ...     ...       ...   \n",
       "730                 Index        ^GSPC     USA     Index   \n",
       "731                  Gold         GC=F     USA      Gold   \n",
       "732                Crypto      BTC-USD     USA    Crypto   \n",
       "733                Crypto      ETH-USD     USA    Crypto   \n",
       "734              Currency        BRL=X  Brazil  Currency   \n",
       "\n",
       "      perennial_subsector perennial  \n",
       "0    Advertising Agencies        No  \n",
       "1    Advertising Agencies        No  \n",
       "2     Aerospace & Defense        No  \n",
       "3     Aerospace & Defense        No  \n",
       "4     Aerospace & Defense        No  \n",
       "..                    ...       ...  \n",
       "730                 Index        No  \n",
       "731                  Gold        No  \n",
       "732                Crypto        No  \n",
       "733                Crypto        No  \n",
       "734              Currency        No  \n",
       "\n",
       "[735 rows x 9 columns]"
      ]
     },
     "execution_count": 123,
     "metadata": {},
     "output_type": "execute_result"
    }
   ],
   "source": [
    "all_companies_rev2"
   ]
  },
  {
   "cell_type": "code",
   "execution_count": 119,
   "metadata": {},
   "outputs": [],
   "source": [
    "all_companies_rev1 = all_companies_rev1[['cod_yfinance', 'ticker', 'name', 'sector', 'industry', 'perennial_subsector', 'perennial', 'country', 'type']]"
   ]
  },
  {
   "cell_type": "code",
   "execution_count": 120,
   "metadata": {},
   "outputs": [
    {
     "data": {
      "text/html": [
       "<div>\n",
       "<style scoped>\n",
       "    .dataframe tbody tr th:only-of-type {\n",
       "        vertical-align: middle;\n",
       "    }\n",
       "\n",
       "    .dataframe tbody tr th {\n",
       "        vertical-align: top;\n",
       "    }\n",
       "\n",
       "    .dataframe thead th {\n",
       "        text-align: right;\n",
       "    }\n",
       "</style>\n",
       "<table border=\"1\" class=\"dataframe\">\n",
       "  <thead>\n",
       "    <tr style=\"text-align: right;\">\n",
       "      <th></th>\n",
       "      <th>cod_yfinance</th>\n",
       "      <th>ticker</th>\n",
       "      <th>name</th>\n",
       "      <th>sector</th>\n",
       "      <th>industry</th>\n",
       "      <th>perennial_subsector</th>\n",
       "      <th>perennial</th>\n",
       "      <th>country</th>\n",
       "      <th>type</th>\n",
       "    </tr>\n",
       "  </thead>\n",
       "  <tbody>\n",
       "    <tr>\n",
       "      <th>0</th>\n",
       "      <td>IPG</td>\n",
       "      <td>IPG</td>\n",
       "      <td>The Interpublic Group of Companies</td>\n",
       "      <td>Communication Services</td>\n",
       "      <td>Advertising Agencies</td>\n",
       "      <td>Advertising Agencies</td>\n",
       "      <td>No</td>\n",
       "      <td>USA</td>\n",
       "      <td>Company</td>\n",
       "    </tr>\n",
       "    <tr>\n",
       "      <th>1</th>\n",
       "      <td>OMC</td>\n",
       "      <td>OMC</td>\n",
       "      <td>Omnicom Group</td>\n",
       "      <td>Communication Services</td>\n",
       "      <td>Advertising Agencies</td>\n",
       "      <td>Advertising Agencies</td>\n",
       "      <td>No</td>\n",
       "      <td>USA</td>\n",
       "      <td>Company</td>\n",
       "    </tr>\n",
       "    <tr>\n",
       "      <th>2</th>\n",
       "      <td>TASA4.SA</td>\n",
       "      <td>TASA4</td>\n",
       "      <td>TAURUS ARMAS</td>\n",
       "      <td>Industrials</td>\n",
       "      <td>Aerospace &amp; Defense</td>\n",
       "      <td>Aerospace &amp; Defense</td>\n",
       "      <td>No</td>\n",
       "      <td>Brazil</td>\n",
       "      <td>Company</td>\n",
       "    </tr>\n",
       "    <tr>\n",
       "      <th>3</th>\n",
       "      <td>EMBR3.SA</td>\n",
       "      <td>EMBR3</td>\n",
       "      <td>EMBRAER</td>\n",
       "      <td>Industrials</td>\n",
       "      <td>Aerospace &amp; Defense</td>\n",
       "      <td>Aerospace &amp; Defense</td>\n",
       "      <td>No</td>\n",
       "      <td>Brazil</td>\n",
       "      <td>Company</td>\n",
       "    </tr>\n",
       "    <tr>\n",
       "      <th>4</th>\n",
       "      <td>BA</td>\n",
       "      <td>BA</td>\n",
       "      <td>Boeing</td>\n",
       "      <td>Industrials</td>\n",
       "      <td>Aerospace &amp; Defense</td>\n",
       "      <td>Aerospace &amp; Defense</td>\n",
       "      <td>No</td>\n",
       "      <td>USA</td>\n",
       "      <td>Company</td>\n",
       "    </tr>\n",
       "    <tr>\n",
       "      <th>...</th>\n",
       "      <td>...</td>\n",
       "      <td>...</td>\n",
       "      <td>...</td>\n",
       "      <td>...</td>\n",
       "      <td>...</td>\n",
       "      <td>...</td>\n",
       "      <td>...</td>\n",
       "      <td>...</td>\n",
       "      <td>...</td>\n",
       "    </tr>\n",
       "    <tr>\n",
       "      <th>730</th>\n",
       "      <td>^GSPC</td>\n",
       "      <td>SP500</td>\n",
       "      <td>S&amp;P 500</td>\n",
       "      <td>Index</td>\n",
       "      <td>Index</td>\n",
       "      <td>Index</td>\n",
       "      <td>No</td>\n",
       "      <td>USA</td>\n",
       "      <td>Index</td>\n",
       "    </tr>\n",
       "    <tr>\n",
       "      <th>731</th>\n",
       "      <td>GC=F</td>\n",
       "      <td>GOLD</td>\n",
       "      <td>Gold (US$)</td>\n",
       "      <td>Gold</td>\n",
       "      <td>Gold</td>\n",
       "      <td>Gold</td>\n",
       "      <td>No</td>\n",
       "      <td>USA</td>\n",
       "      <td>Gold</td>\n",
       "    </tr>\n",
       "    <tr>\n",
       "      <th>732</th>\n",
       "      <td>BTC-USD</td>\n",
       "      <td>BTC</td>\n",
       "      <td>Bitcoin (US$)</td>\n",
       "      <td>Crypto</td>\n",
       "      <td>Crypto</td>\n",
       "      <td>Crypto</td>\n",
       "      <td>No</td>\n",
       "      <td>USA</td>\n",
       "      <td>Crypto</td>\n",
       "    </tr>\n",
       "    <tr>\n",
       "      <th>733</th>\n",
       "      <td>ETH-USD</td>\n",
       "      <td>ETH</td>\n",
       "      <td>Ethereum (US$)</td>\n",
       "      <td>Crypto</td>\n",
       "      <td>Crypto</td>\n",
       "      <td>Crypto</td>\n",
       "      <td>No</td>\n",
       "      <td>USA</td>\n",
       "      <td>Crypto</td>\n",
       "    </tr>\n",
       "    <tr>\n",
       "      <th>734</th>\n",
       "      <td>BRL=X</td>\n",
       "      <td>USD-BRL</td>\n",
       "      <td>Dolar (R$)</td>\n",
       "      <td>Currency</td>\n",
       "      <td>Currency</td>\n",
       "      <td>Currency</td>\n",
       "      <td>No</td>\n",
       "      <td>Brazil</td>\n",
       "      <td>Currency</td>\n",
       "    </tr>\n",
       "  </tbody>\n",
       "</table>\n",
       "<p>735 rows × 9 columns</p>\n",
       "</div>"
      ],
      "text/plain": [
       "    cod_yfinance   ticker                                name  \\\n",
       "0            IPG      IPG  The Interpublic Group of Companies   \n",
       "1            OMC      OMC                       Omnicom Group   \n",
       "2       TASA4.SA    TASA4                        TAURUS ARMAS   \n",
       "3       EMBR3.SA    EMBR3                             EMBRAER   \n",
       "4             BA       BA                              Boeing   \n",
       "..           ...      ...                                 ...   \n",
       "730        ^GSPC    SP500                             S&P 500   \n",
       "731         GC=F     GOLD                          Gold (US$)   \n",
       "732      BTC-USD      BTC                       Bitcoin (US$)   \n",
       "733      ETH-USD      ETH                      Ethereum (US$)   \n",
       "734        BRL=X  USD-BRL                          Dolar (R$)   \n",
       "\n",
       "                     sector              industry   perennial_subsector  \\\n",
       "0    Communication Services  Advertising Agencies  Advertising Agencies   \n",
       "1    Communication Services  Advertising Agencies  Advertising Agencies   \n",
       "2               Industrials   Aerospace & Defense   Aerospace & Defense   \n",
       "3               Industrials   Aerospace & Defense   Aerospace & Defense   \n",
       "4               Industrials   Aerospace & Defense   Aerospace & Defense   \n",
       "..                      ...                   ...                   ...   \n",
       "730                   Index                 Index                 Index   \n",
       "731                    Gold                  Gold                  Gold   \n",
       "732                  Crypto                Crypto                Crypto   \n",
       "733                  Crypto                Crypto                Crypto   \n",
       "734                Currency              Currency              Currency   \n",
       "\n",
       "    perennial country      type  \n",
       "0          No     USA   Company  \n",
       "1          No     USA   Company  \n",
       "2          No  Brazil   Company  \n",
       "3          No  Brazil   Company  \n",
       "4          No     USA   Company  \n",
       "..        ...     ...       ...  \n",
       "730        No     USA     Index  \n",
       "731        No     USA      Gold  \n",
       "732        No     USA    Crypto  \n",
       "733        No     USA    Crypto  \n",
       "734        No  Brazil  Currency  \n",
       "\n",
       "[735 rows x 9 columns]"
      ]
     },
     "execution_count": 120,
     "metadata": {},
     "output_type": "execute_result"
    }
   ],
   "source": [
    "all_companies_rev1"
   ]
  },
  {
   "attachments": {},
   "cell_type": "markdown",
   "metadata": {},
   "source": [
    "## Get companies in AGF ranking using Selenium"
   ]
  },
  {
   "cell_type": "code",
   "execution_count": null,
   "metadata": {},
   "outputs": [],
   "source": [
    "#Runs the webdriver\n",
    "driver = webdriver.Chrome(options=chromeOptions)"
   ]
  },
  {
   "cell_type": "code",
   "execution_count": null,
   "metadata": {},
   "outputs": [],
   "source": [
    "driver.implicitly_wait(wait)"
   ]
  },
  {
   "cell_type": "code",
   "execution_count": null,
   "metadata": {},
   "outputs": [],
   "source": [
    "company_name = driver.find_elements(By.CSS_SELECTOR, '.text-secondary')"
   ]
  },
  {
   "cell_type": "code",
   "execution_count": null,
   "metadata": {},
   "outputs": [],
   "source": [
    "companies = [i.text for i in company_name]"
   ]
  },
  {
   "cell_type": "code",
   "execution_count": 65,
   "metadata": {},
   "outputs": [
    {
     "ename": "NameError",
     "evalue": "name 'companies' is not defined",
     "output_type": "error",
     "traceback": [
      "\u001b[1;31m---------------------------------------------------------------------------\u001b[0m",
      "\u001b[1;31mNameError\u001b[0m                                 Traceback (most recent call last)",
      "\u001b[1;32mc:\\Users\\Pedro\\OneDrive\\Desktop\\Ironhack\\04. GitHub\\stocks_project\\testes.ipynb Célula: 228\u001b[0m in \u001b[0;36m<cell line: 1>\u001b[1;34m()\u001b[0m\n\u001b[1;32m----> <a href='vscode-notebook-cell:/c%3A/Users/Pedro/OneDrive/Desktop/Ironhack/04.%20GitHub/stocks_project/testes.ipynb#Y465sZmlsZQ%3D%3D?line=0'>1</a>\u001b[0m companies\n",
      "\u001b[1;31mNameError\u001b[0m: name 'companies' is not defined"
     ]
    }
   ],
   "source": [
    "companies"
   ]
  },
  {
   "cell_type": "code",
   "execution_count": null,
   "metadata": {},
   "outputs": [],
   "source": [
    "# Get AGF companies ticker - not working\n",
    "br_ticker = driver.find_elements(By.XPATH, '//*[contains(concat( \" \", @class, \" \" ), concat( \" \", \"text-muted\", \" \" ))]')"
   ]
  },
  {
   "cell_type": "code",
   "execution_count": null,
   "metadata": {},
   "outputs": [],
   "source": [
    "all_companies.to_csv(f'{stock_path}all_companies_rev2.csv',\n",
    "                    encoding='UTF-8',\n",
    "                    sep=';',\n",
    "                    decimal='.',\n",
    "                    index=False)"
   ]
  },
  {
   "attachments": {},
   "cell_type": "markdown",
   "metadata": {},
   "source": [
    "# Create SQL Database"
   ]
  },
  {
   "cell_type": "code",
   "execution_count": null,
   "metadata": {},
   "outputs": [],
   "source": [
    "load_dotenv(r'C:\\Users\\Pedro\\OneDrive\\Desktop\\Ironhack\\04. GitHub\\stocks_project/password.env'"
   ]
  },
  {
   "cell_type": "code",
   "execution_count": null,
   "metadata": {},
   "outputs": [],
   "source": [
    "user = \"root\"\n",
    "password = \"password\"\n",
    "url_banco = \"localhost\"\n",
    "nome_db = \"bank\"\n",
    "conn_str = f\"mysql+pymysql://{user}:{password}@{url_banco}/{nome_db}\""
   ]
  },
  {
   "cell_type": "code",
   "execution_count": 124,
   "metadata": {},
   "outputs": [],
   "source": [
    "all_companies = pd.read_csv(f'{stock_path}all_companies_and_indexes_rev1.csv',\n",
    "                    encoding='UTF-8',\n",
    "                    sep=';',\n",
    "                    decimal='.')"
   ]
  },
  {
   "cell_type": "code",
   "execution_count": 127,
   "metadata": {},
   "outputs": [],
   "source": [
    "historical_data = pd.read_csv(f'{stock_path}historical_data_complete_rev5.csv',\n",
    "                    encoding='UTF-8',\n",
    "                    sep=';',\n",
    "                    decimal='.')"
   ]
  },
  {
   "cell_type": "code",
   "execution_count": 130,
   "metadata": {},
   "outputs": [
    {
     "data": {
      "text/html": [
       "<div>\n",
       "<style scoped>\n",
       "    .dataframe tbody tr th:only-of-type {\n",
       "        vertical-align: middle;\n",
       "    }\n",
       "\n",
       "    .dataframe tbody tr th {\n",
       "        vertical-align: top;\n",
       "    }\n",
       "\n",
       "    .dataframe thead th {\n",
       "        text-align: right;\n",
       "    }\n",
       "</style>\n",
       "<table border=\"1\" class=\"dataframe\">\n",
       "  <thead>\n",
       "    <tr style=\"text-align: right;\">\n",
       "      <th></th>\n",
       "      <th>Date</th>\n",
       "      <th>Open</th>\n",
       "      <th>High</th>\n",
       "      <th>Low</th>\n",
       "      <th>Close</th>\n",
       "      <th>Volume</th>\n",
       "      <th>Dividends</th>\n",
       "      <th>Stock Splits</th>\n",
       "      <th>cod_yfinance</th>\n",
       "    </tr>\n",
       "  </thead>\n",
       "  <tbody>\n",
       "    <tr>\n",
       "      <th>0</th>\n",
       "      <td>1980-03-17</td>\n",
       "      <td>0.000</td>\n",
       "      <td>0.426</td>\n",
       "      <td>0.420</td>\n",
       "      <td>0.420</td>\n",
       "      <td>43200.0</td>\n",
       "      <td>0.0</td>\n",
       "      <td>0.0</td>\n",
       "      <td>IPG</td>\n",
       "    </tr>\n",
       "    <tr>\n",
       "      <th>1</th>\n",
       "      <td>1980-03-18</td>\n",
       "      <td>0.000</td>\n",
       "      <td>0.417</td>\n",
       "      <td>0.417</td>\n",
       "      <td>0.417</td>\n",
       "      <td>327600.0</td>\n",
       "      <td>0.0</td>\n",
       "      <td>0.0</td>\n",
       "      <td>IPG</td>\n",
       "    </tr>\n",
       "    <tr>\n",
       "      <th>2</th>\n",
       "      <td>1980-03-19</td>\n",
       "      <td>0.000</td>\n",
       "      <td>0.417</td>\n",
       "      <td>0.417</td>\n",
       "      <td>0.417</td>\n",
       "      <td>115200.0</td>\n",
       "      <td>0.0</td>\n",
       "      <td>0.0</td>\n",
       "      <td>IPG</td>\n",
       "    </tr>\n",
       "    <tr>\n",
       "      <th>3</th>\n",
       "      <td>1980-03-20</td>\n",
       "      <td>0.000</td>\n",
       "      <td>0.420</td>\n",
       "      <td>0.420</td>\n",
       "      <td>0.420</td>\n",
       "      <td>28800.0</td>\n",
       "      <td>0.0</td>\n",
       "      <td>0.0</td>\n",
       "      <td>IPG</td>\n",
       "    </tr>\n",
       "    <tr>\n",
       "      <th>4</th>\n",
       "      <td>1980-03-21</td>\n",
       "      <td>0.000</td>\n",
       "      <td>0.420</td>\n",
       "      <td>0.420</td>\n",
       "      <td>0.420</td>\n",
       "      <td>554400.0</td>\n",
       "      <td>0.0</td>\n",
       "      <td>0.0</td>\n",
       "      <td>IPG</td>\n",
       "    </tr>\n",
       "    <tr>\n",
       "      <th>...</th>\n",
       "      <td>...</td>\n",
       "      <td>...</td>\n",
       "      <td>...</td>\n",
       "      <td>...</td>\n",
       "      <td>...</td>\n",
       "      <td>...</td>\n",
       "      <td>...</td>\n",
       "      <td>...</td>\n",
       "      <td>...</td>\n",
       "    </tr>\n",
       "    <tr>\n",
       "      <th>4913044</th>\n",
       "      <td>2022-12-05</td>\n",
       "      <td>5.218</td>\n",
       "      <td>5.264</td>\n",
       "      <td>5.214</td>\n",
       "      <td>5.218</td>\n",
       "      <td>0.0</td>\n",
       "      <td>0.0</td>\n",
       "      <td>0.0</td>\n",
       "      <td>BRL=X</td>\n",
       "    </tr>\n",
       "    <tr>\n",
       "      <th>4913045</th>\n",
       "      <td>2022-12-06</td>\n",
       "      <td>5.280</td>\n",
       "      <td>5.281</td>\n",
       "      <td>5.220</td>\n",
       "      <td>5.280</td>\n",
       "      <td>0.0</td>\n",
       "      <td>0.0</td>\n",
       "      <td>0.0</td>\n",
       "      <td>BRL=X</td>\n",
       "    </tr>\n",
       "    <tr>\n",
       "      <th>4913046</th>\n",
       "      <td>2022-12-07</td>\n",
       "      <td>5.234</td>\n",
       "      <td>5.270</td>\n",
       "      <td>5.210</td>\n",
       "      <td>5.234</td>\n",
       "      <td>0.0</td>\n",
       "      <td>0.0</td>\n",
       "      <td>0.0</td>\n",
       "      <td>BRL=X</td>\n",
       "    </tr>\n",
       "    <tr>\n",
       "      <th>4913047</th>\n",
       "      <td>2022-12-08</td>\n",
       "      <td>5.204</td>\n",
       "      <td>5.248</td>\n",
       "      <td>5.194</td>\n",
       "      <td>5.204</td>\n",
       "      <td>0.0</td>\n",
       "      <td>0.0</td>\n",
       "      <td>0.0</td>\n",
       "      <td>BRL=X</td>\n",
       "    </tr>\n",
       "    <tr>\n",
       "      <th>4913048</th>\n",
       "      <td>2022-12-09</td>\n",
       "      <td>5.224</td>\n",
       "      <td>5.280</td>\n",
       "      <td>5.215</td>\n",
       "      <td>5.224</td>\n",
       "      <td>0.0</td>\n",
       "      <td>0.0</td>\n",
       "      <td>0.0</td>\n",
       "      <td>BRL=X</td>\n",
       "    </tr>\n",
       "  </tbody>\n",
       "</table>\n",
       "<p>4913049 rows × 9 columns</p>\n",
       "</div>"
      ],
      "text/plain": [
       "               Date   Open   High    Low  Close    Volume  Dividends  \\\n",
       "0        1980-03-17  0.000  0.426  0.420  0.420   43200.0        0.0   \n",
       "1        1980-03-18  0.000  0.417  0.417  0.417  327600.0        0.0   \n",
       "2        1980-03-19  0.000  0.417  0.417  0.417  115200.0        0.0   \n",
       "3        1980-03-20  0.000  0.420  0.420  0.420   28800.0        0.0   \n",
       "4        1980-03-21  0.000  0.420  0.420  0.420  554400.0        0.0   \n",
       "...             ...    ...    ...    ...    ...       ...        ...   \n",
       "4913044  2022-12-05  5.218  5.264  5.214  5.218       0.0        0.0   \n",
       "4913045  2022-12-06  5.280  5.281  5.220  5.280       0.0        0.0   \n",
       "4913046  2022-12-07  5.234  5.270  5.210  5.234       0.0        0.0   \n",
       "4913047  2022-12-08  5.204  5.248  5.194  5.204       0.0        0.0   \n",
       "4913048  2022-12-09  5.224  5.280  5.215  5.224       0.0        0.0   \n",
       "\n",
       "         Stock Splits cod_yfinance  \n",
       "0                 0.0          IPG  \n",
       "1                 0.0          IPG  \n",
       "2                 0.0          IPG  \n",
       "3                 0.0          IPG  \n",
       "4                 0.0          IPG  \n",
       "...               ...          ...  \n",
       "4913044           0.0        BRL=X  \n",
       "4913045           0.0        BRL=X  \n",
       "4913046           0.0        BRL=X  \n",
       "4913047           0.0        BRL=X  \n",
       "4913048           0.0        BRL=X  \n",
       "\n",
       "[4913049 rows x 9 columns]"
      ]
     },
     "execution_count": 130,
     "metadata": {},
     "output_type": "execute_result"
    }
   ],
   "source": [
    "historical_data"
   ]
  },
  {
   "cell_type": "code",
   "execution_count": 125,
   "metadata": {},
   "outputs": [
    {
     "data": {
      "text/html": [
       "<div>\n",
       "<style scoped>\n",
       "    .dataframe tbody tr th:only-of-type {\n",
       "        vertical-align: middle;\n",
       "    }\n",
       "\n",
       "    .dataframe tbody tr th {\n",
       "        vertical-align: top;\n",
       "    }\n",
       "\n",
       "    .dataframe thead th {\n",
       "        text-align: right;\n",
       "    }\n",
       "</style>\n",
       "<table border=\"1\" class=\"dataframe\">\n",
       "  <thead>\n",
       "    <tr style=\"text-align: right;\">\n",
       "      <th></th>\n",
       "      <th>ticker</th>\n",
       "      <th>name</th>\n",
       "      <th>sector</th>\n",
       "      <th>industry</th>\n",
       "      <th>cod_yfinance</th>\n",
       "      <th>country</th>\n",
       "      <th>type</th>\n",
       "      <th>perennial_subsector</th>\n",
       "      <th>perennial</th>\n",
       "    </tr>\n",
       "  </thead>\n",
       "  <tbody>\n",
       "    <tr>\n",
       "      <th>0</th>\n",
       "      <td>IPG</td>\n",
       "      <td>The Interpublic Group of Companies</td>\n",
       "      <td>Communication Services</td>\n",
       "      <td>Advertising Agencies</td>\n",
       "      <td>IPG</td>\n",
       "      <td>USA</td>\n",
       "      <td>Company</td>\n",
       "      <td>Advertising Agencies</td>\n",
       "      <td>No</td>\n",
       "    </tr>\n",
       "    <tr>\n",
       "      <th>1</th>\n",
       "      <td>OMC</td>\n",
       "      <td>Omnicom Group</td>\n",
       "      <td>Communication Services</td>\n",
       "      <td>Advertising Agencies</td>\n",
       "      <td>OMC</td>\n",
       "      <td>USA</td>\n",
       "      <td>Company</td>\n",
       "      <td>Advertising Agencies</td>\n",
       "      <td>No</td>\n",
       "    </tr>\n",
       "    <tr>\n",
       "      <th>2</th>\n",
       "      <td>TASA4</td>\n",
       "      <td>TAURUS ARMAS</td>\n",
       "      <td>Industrials</td>\n",
       "      <td>Aerospace &amp; Defense</td>\n",
       "      <td>TASA4.SA</td>\n",
       "      <td>Brazil</td>\n",
       "      <td>Company</td>\n",
       "      <td>Aerospace &amp; Defense</td>\n",
       "      <td>No</td>\n",
       "    </tr>\n",
       "    <tr>\n",
       "      <th>3</th>\n",
       "      <td>EMBR3</td>\n",
       "      <td>EMBRAER</td>\n",
       "      <td>Industrials</td>\n",
       "      <td>Aerospace &amp; Defense</td>\n",
       "      <td>EMBR3.SA</td>\n",
       "      <td>Brazil</td>\n",
       "      <td>Company</td>\n",
       "      <td>Aerospace &amp; Defense</td>\n",
       "      <td>No</td>\n",
       "    </tr>\n",
       "    <tr>\n",
       "      <th>4</th>\n",
       "      <td>BA</td>\n",
       "      <td>Boeing</td>\n",
       "      <td>Industrials</td>\n",
       "      <td>Aerospace &amp; Defense</td>\n",
       "      <td>BA</td>\n",
       "      <td>USA</td>\n",
       "      <td>Company</td>\n",
       "      <td>Aerospace &amp; Defense</td>\n",
       "      <td>No</td>\n",
       "    </tr>\n",
       "    <tr>\n",
       "      <th>...</th>\n",
       "      <td>...</td>\n",
       "      <td>...</td>\n",
       "      <td>...</td>\n",
       "      <td>...</td>\n",
       "      <td>...</td>\n",
       "      <td>...</td>\n",
       "      <td>...</td>\n",
       "      <td>...</td>\n",
       "      <td>...</td>\n",
       "    </tr>\n",
       "    <tr>\n",
       "      <th>730</th>\n",
       "      <td>SP500</td>\n",
       "      <td>S&amp;P 500</td>\n",
       "      <td>Index</td>\n",
       "      <td>Index</td>\n",
       "      <td>^GSPC</td>\n",
       "      <td>USA</td>\n",
       "      <td>Index</td>\n",
       "      <td>Index</td>\n",
       "      <td>No</td>\n",
       "    </tr>\n",
       "    <tr>\n",
       "      <th>731</th>\n",
       "      <td>GOLD</td>\n",
       "      <td>Gold (US$)</td>\n",
       "      <td>Gold</td>\n",
       "      <td>Gold</td>\n",
       "      <td>GC=F</td>\n",
       "      <td>USA</td>\n",
       "      <td>Gold</td>\n",
       "      <td>Gold</td>\n",
       "      <td>No</td>\n",
       "    </tr>\n",
       "    <tr>\n",
       "      <th>732</th>\n",
       "      <td>BTC</td>\n",
       "      <td>Bitcoin (US$)</td>\n",
       "      <td>Crypto</td>\n",
       "      <td>Crypto</td>\n",
       "      <td>BTC-USD</td>\n",
       "      <td>USA</td>\n",
       "      <td>Crypto</td>\n",
       "      <td>Crypto</td>\n",
       "      <td>No</td>\n",
       "    </tr>\n",
       "    <tr>\n",
       "      <th>733</th>\n",
       "      <td>ETH</td>\n",
       "      <td>Ethereum (US$)</td>\n",
       "      <td>Crypto</td>\n",
       "      <td>Crypto</td>\n",
       "      <td>ETH-USD</td>\n",
       "      <td>USA</td>\n",
       "      <td>Crypto</td>\n",
       "      <td>Crypto</td>\n",
       "      <td>No</td>\n",
       "    </tr>\n",
       "    <tr>\n",
       "      <th>734</th>\n",
       "      <td>USD-BRL</td>\n",
       "      <td>Dolar (R$)</td>\n",
       "      <td>Currency</td>\n",
       "      <td>Currency</td>\n",
       "      <td>BRL=X</td>\n",
       "      <td>Brazil</td>\n",
       "      <td>Currency</td>\n",
       "      <td>Currency</td>\n",
       "      <td>No</td>\n",
       "    </tr>\n",
       "  </tbody>\n",
       "</table>\n",
       "<p>735 rows × 9 columns</p>\n",
       "</div>"
      ],
      "text/plain": [
       "      ticker                                name                  sector  \\\n",
       "0        IPG  The Interpublic Group of Companies  Communication Services   \n",
       "1        OMC                       Omnicom Group  Communication Services   \n",
       "2      TASA4                        TAURUS ARMAS             Industrials   \n",
       "3      EMBR3                             EMBRAER             Industrials   \n",
       "4         BA                              Boeing             Industrials   \n",
       "..       ...                                 ...                     ...   \n",
       "730    SP500                             S&P 500                   Index   \n",
       "731     GOLD                          Gold (US$)                    Gold   \n",
       "732      BTC                       Bitcoin (US$)                  Crypto   \n",
       "733      ETH                      Ethereum (US$)                  Crypto   \n",
       "734  USD-BRL                          Dolar (R$)                Currency   \n",
       "\n",
       "                 industry cod_yfinance country      type  \\\n",
       "0    Advertising Agencies          IPG     USA   Company   \n",
       "1    Advertising Agencies          OMC     USA   Company   \n",
       "2     Aerospace & Defense     TASA4.SA  Brazil   Company   \n",
       "3     Aerospace & Defense     EMBR3.SA  Brazil   Company   \n",
       "4     Aerospace & Defense           BA     USA   Company   \n",
       "..                    ...          ...     ...       ...   \n",
       "730                 Index        ^GSPC     USA     Index   \n",
       "731                  Gold         GC=F     USA      Gold   \n",
       "732                Crypto      BTC-USD     USA    Crypto   \n",
       "733                Crypto      ETH-USD     USA    Crypto   \n",
       "734              Currency        BRL=X  Brazil  Currency   \n",
       "\n",
       "      perennial_subsector perennial  \n",
       "0    Advertising Agencies        No  \n",
       "1    Advertising Agencies        No  \n",
       "2     Aerospace & Defense        No  \n",
       "3     Aerospace & Defense        No  \n",
       "4     Aerospace & Defense        No  \n",
       "..                    ...       ...  \n",
       "730                 Index        No  \n",
       "731                  Gold        No  \n",
       "732                Crypto        No  \n",
       "733                Crypto        No  \n",
       "734              Currency        No  \n",
       "\n",
       "[735 rows x 9 columns]"
      ]
     },
     "execution_count": 125,
     "metadata": {},
     "output_type": "execute_result"
    }
   ],
   "source": [
    "all_companies"
   ]
  },
  {
   "cell_type": "code",
   "execution_count": null,
   "metadata": {},
   "outputs": [],
   "source": []
  },
  {
   "cell_type": "code",
   "execution_count": null,
   "metadata": {},
   "outputs": [],
   "source": [
    "pd.concat"
   ]
  }
 ],
 "metadata": {
  "kernelspec": {
   "display_name": "base",
   "language": "python",
   "name": "python3"
  },
  "language_info": {
   "codemirror_mode": {
    "name": "ipython",
    "version": 3
   },
   "file_extension": ".py",
   "mimetype": "text/x-python",
   "name": "python",
   "nbconvert_exporter": "python",
   "pygments_lexer": "ipython3",
   "version": "3.9.12"
  },
  "orig_nbformat": 4,
  "vscode": {
   "interpreter": {
    "hash": "2d90c038637108ac29aff4d22cdf99e3e2599f922ccc5532827d676edf9e0ab0"
   }
  }
 },
 "nbformat": 4,
 "nbformat_minor": 2
}
