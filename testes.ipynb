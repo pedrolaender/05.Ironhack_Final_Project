{
 "cells": [
  {
   "cell_type": "code",
   "execution_count": null,
   "metadata": {},
   "outputs": [],
   "source": [
    "#!pip install pandas_datareader"
   ]
  },
  {
   "cell_type": "code",
   "execution_count": null,
   "metadata": {},
   "outputs": [],
   "source": [
    "#!pip install yfinance"
   ]
  },
  {
   "cell_type": "code",
   "execution_count": null,
   "metadata": {},
   "outputs": [],
   "source": [
    "#!pip install html5lib"
   ]
  },
  {
   "cell_type": "code",
   "execution_count": 10,
   "metadata": {},
   "outputs": [],
   "source": [
    "import pandas as pd\n",
    "import numpy as np\n",
    "import requests\n",
    "from bs4 import BeautifulSoup\n",
    "from unidecode import unidecode\n",
    "import re\n",
    "import os\n",
    "import yfinance as yf\n",
    "from time import sleep\n",
    "import glob"
   ]
  },
  {
   "cell_type": "markdown",
   "metadata": {},
   "source": [
    "## Selenium"
   ]
  },
  {
   "cell_type": "markdown",
   "metadata": {},
   "source": [
    "### Configurando WebDriver"
   ]
  },
  {
   "cell_type": "code",
   "execution_count": 11,
   "metadata": {},
   "outputs": [],
   "source": [
    "from selenium import webdriver\n",
    "from selenium.webdriver.common.by import By\n",
    "from selenium.webdriver.common.keys import Keys\n",
    "from selenium.webdriver.common.action_chains import ActionChains"
   ]
  },
  {
   "cell_type": "markdown",
   "metadata": {},
   "source": [
    "### Configurando pasta de download"
   ]
  },
  {
   "cell_type": "code",
   "execution_count": 12,
   "metadata": {},
   "outputs": [],
   "source": [
    "chromeOptions = webdriver.ChromeOptions()\n",
    "download_path = r'C:\\Users\\Pedro\\OneDrive\\Desktop\\Ironhack\\04. GitHub\\data_visualization\\data'\n",
    "prefs = {\"download.default_directory\" : download_path}\n",
    "chromeOptions.add_experimental_option(\"prefs\",prefs)"
   ]
  },
  {
   "cell_type": "code",
   "execution_count": 13,
   "metadata": {},
   "outputs": [],
   "source": [
    "driver = webdriver.Chrome(options=chromeOptions)"
   ]
  },
  {
   "cell_type": "code",
   "execution_count": 17,
   "metadata": {},
   "outputs": [],
   "source": []
  },
  {
   "cell_type": "code",
   "execution_count": 3,
   "metadata": {},
   "outputs": [],
   "source": [
    "os.listdir()\n",
    "os.chdir('data')"
   ]
  },
  {
   "cell_type": "code",
   "execution_count": 4,
   "metadata": {},
   "outputs": [
    {
     "data": {
      "text/plain": [
       "['IBOVDia_21-11-22 (1).csv',\n",
       " 'IBOVDia_21-11-22.csv',\n",
       " 'ibov_empresas.csv',\n",
       " 'ibov_setor.csv',\n",
       " 'ibrx100_setor.csv',\n",
       " 'ibrx_empresas.csv']"
      ]
     },
     "execution_count": 4,
     "metadata": {},
     "output_type": "execute_result"
    }
   ],
   "source": [
    "os.listdir()"
   ]
  },
  {
   "cell_type": "code",
   "execution_count": 21,
   "metadata": {},
   "outputs": [],
   "source": [
    "arquivo = !ls -1t *.csv"
   ]
  },
  {
   "cell_type": "code",
   "execution_count": 12,
   "metadata": {},
   "outputs": [],
   "source": [
    "indice = 'ibov'"
   ]
  },
  {
   "cell_type": "code",
   "execution_count": 13,
   "metadata": {},
   "outputs": [],
   "source": [
    "url = f'https://sistemaswebb3-listados.b3.com.br/indexPage/day/{indice.upper()}?language=pt-br'"
   ]
  },
  {
   "cell_type": "code",
   "execution_count": 14,
   "metadata": {},
   "outputs": [],
   "source": [
    "driver.get(url)"
   ]
  },
  {
   "cell_type": "code",
   "execution_count": 15,
   "metadata": {},
   "outputs": [],
   "source": [
    "driver.find_element(By.ID, 'segment').send_keys(\"Setor de Atuação\")"
   ]
  },
  {
   "cell_type": "code",
   "execution_count": 16,
   "metadata": {},
   "outputs": [],
   "source": [
    "driver.find_element(By.LINK_TEXT, 'Download').click()"
   ]
  },
  {
   "cell_type": "code",
   "execution_count": null,
   "metadata": {},
   "outputs": [],
   "source": [
    "driver.close()"
   ]
  },
  {
   "cell_type": "code",
   "execution_count": 41,
   "metadata": {},
   "outputs": [
    {
     "name": "stdout",
     "output_type": "stream",
     "text": [
      "['IBOVDia_21-11-22 (1).csv', 'IBOVDia_21-11-22.csv', 'ibov_empresas.csv', 'ibov_setor.csv', 'ibrx100_setor.csv', 'ibrx_empresas.csv']\n",
      "['IBOVDia_21-11-22 (1).csv', 'IBOVDia_21-11-22.csv', 'ibrx100_setor.csv', 'ibrx_empresas.csv', 'ibov_setor.csv', 'ibov_empresas.csv']\n"
     ]
    }
   ],
   "source": [
    "os.getcwd()\n",
    "files = list(glob.glob('*csv'))\n",
    "print(files)\n",
    "\n",
    "files.sort(key=lambda x: os.path.getmtime(x), reverse=True)\n",
    "\n",
    "print(files)"
   ]
  },
  {
   "cell_type": "code",
   "execution_count": 19,
   "metadata": {},
   "outputs": [],
   "source": [
    "def get_index_stocks(index, wait=5):\n",
    "    '''\n",
    "        Recieves the Index name, download a file that contains the index stocks, and return the name of the downloaded file\n",
    "    '''\n",
    "\n",
    "\n",
    "    #Chrome WebDriver opens the index webside\n",
    "    url = f'https://sistemaswebb3-listados.b3.com.br/indexPage/day/{index.upper()}?language=pt-br'\n",
    "    driver.get(url)\n",
    "    driver.implicitly_wait(wait)\n",
    "\n",
    "    driver.find_element(By.ID, 'segment').send_keys(\"Setor de Atuação\")\n",
    "    driver.implicitly_wait(wait)\n",
    "    driver.find_element(By.LINK_TEXT, 'Download').click()\n",
    "    driver.implicitly_wait(wait)\n",
    "\n",
    "    #set the directory\n",
    "    os.chdir(r'C:\\Users\\Pedro\\OneDrive\\Desktop\\Ironhack\\04. GitHub\\data_visualization\\data')\n",
    "\n",
    "    #get the files from the selectec directory and sort them by modification date\n",
    "    files = files = list(glob.glob('*csv'))\n",
    "    sleep(wait)\n",
    "    files.sort(key=lambda x: os.path.getmtime(x), reverse=True)\n",
    "\n",
    "    return files[0]"
   ]
  },
  {
   "cell_type": "code",
   "execution_count": 25,
   "metadata": {},
   "outputs": [
    {
     "name": "stderr",
     "output_type": "stream",
     "text": [
      "C:\\Users\\Pedro\\AppData\\Local\\Temp\\ipykernel_13644\\1526234721.py:5: ParserWarning: Falling back to the 'python' engine because the 'c' engine does not support skipfooter; you can avoid this warning by specifying engine='python'.\n",
      "  DataFrame = pd.read_csv(file,\n"
     ]
    },
    {
     "data": {
      "text/html": [
       "<div>\n",
       "<style scoped>\n",
       "    .dataframe tbody tr th:only-of-type {\n",
       "        vertical-align: middle;\n",
       "    }\n",
       "\n",
       "    .dataframe tbody tr th {\n",
       "        vertical-align: top;\n",
       "    }\n",
       "\n",
       "    .dataframe thead th {\n",
       "        text-align: right;\n",
       "    }\n",
       "</style>\n",
       "<table border=\"1\" class=\"dataframe\">\n",
       "  <thead>\n",
       "    <tr style=\"text-align: right;\">\n",
       "      <th></th>\n",
       "      <th>setor</th>\n",
       "      <th>codigo</th>\n",
       "      <th>acao</th>\n",
       "      <th>tipo</th>\n",
       "      <th>qtde_teorica</th>\n",
       "      <th>part_%</th>\n",
       "      <th>part_%acum</th>\n",
       "    </tr>\n",
       "  </thead>\n",
       "  <tbody>\n",
       "    <tr>\n",
       "      <th>0</th>\n",
       "      <td>Bens Indls / Máqs e Equips</td>\n",
       "      <td>WEGE3</td>\n",
       "      <td>WEG</td>\n",
       "      <td>ON      NM</td>\n",
       "      <td>1481593024</td>\n",
       "      <td>2.840</td>\n",
       "      <td>2.840</td>\n",
       "    </tr>\n",
       "    <tr>\n",
       "      <th>1</th>\n",
       "      <td>Bens Indls / Mat Transporte</td>\n",
       "      <td>EMBR3</td>\n",
       "      <td>EMBRAER</td>\n",
       "      <td>ON      NM</td>\n",
       "      <td>734632205</td>\n",
       "      <td>0.509</td>\n",
       "      <td>0.509</td>\n",
       "    </tr>\n",
       "    <tr>\n",
       "      <th>2</th>\n",
       "      <td>Bens Indls/Transporte</td>\n",
       "      <td>AZUL4</td>\n",
       "      <td>AZUL</td>\n",
       "      <td>PN      N2</td>\n",
       "      <td>327646296</td>\n",
       "      <td>0.209</td>\n",
       "      <td>2.119</td>\n",
       "    </tr>\n",
       "    <tr>\n",
       "      <th>3</th>\n",
       "      <td>Bens Indls/Transporte</td>\n",
       "      <td>CCRO3</td>\n",
       "      <td>CCR SA</td>\n",
       "      <td>ON      NM</td>\n",
       "      <td>1115681435</td>\n",
       "      <td>0.617</td>\n",
       "      <td>2.119</td>\n",
       "    </tr>\n",
       "    <tr>\n",
       "      <th>4</th>\n",
       "      <td>Bens Indls/Transporte</td>\n",
       "      <td>ECOR3</td>\n",
       "      <td>ECORODOVIAS</td>\n",
       "      <td>ON      NM</td>\n",
       "      <td>333657615</td>\n",
       "      <td>0.073</td>\n",
       "      <td>2.119</td>\n",
       "    </tr>\n",
       "    <tr>\n",
       "      <th>...</th>\n",
       "      <td>...</td>\n",
       "      <td>...</td>\n",
       "      <td>...</td>\n",
       "      <td>...</td>\n",
       "      <td>...</td>\n",
       "      <td>...</td>\n",
       "      <td>...</td>\n",
       "    </tr>\n",
       "    <tr>\n",
       "      <th>87</th>\n",
       "      <td>Utilidade Públ / Energ Elétrica</td>\n",
       "      <td>ENGI11</td>\n",
       "      <td>ENERGISA</td>\n",
       "      <td>UNT     N2</td>\n",
       "      <td>248477689</td>\n",
       "      <td>0.540</td>\n",
       "      <td>9.471</td>\n",
       "    </tr>\n",
       "    <tr>\n",
       "      <th>88</th>\n",
       "      <td>Utilidade Públ / Energ Elétrica</td>\n",
       "      <td>ENEV3</td>\n",
       "      <td>ENEVA</td>\n",
       "      <td>ON      NM</td>\n",
       "      <td>1561135009</td>\n",
       "      <td>0.972</td>\n",
       "      <td>9.471</td>\n",
       "    </tr>\n",
       "    <tr>\n",
       "      <th>89</th>\n",
       "      <td>Utilidade Públ / Energ Elétrica</td>\n",
       "      <td>EGIE3</td>\n",
       "      <td>ENGIE BRASIL</td>\n",
       "      <td>ON      NM</td>\n",
       "      <td>255208461</td>\n",
       "      <td>0.494</td>\n",
       "      <td>9.471</td>\n",
       "    </tr>\n",
       "    <tr>\n",
       "      <th>90</th>\n",
       "      <td>Utilidade Públ / Energ Elétrica</td>\n",
       "      <td>EQTL3</td>\n",
       "      <td>EQUATORIAL</td>\n",
       "      <td>ON      NM</td>\n",
       "      <td>1100513485</td>\n",
       "      <td>1.478</td>\n",
       "      <td>9.471</td>\n",
       "    </tr>\n",
       "    <tr>\n",
       "      <th>91</th>\n",
       "      <td>Utilidade Públ / Energ Elétrica</td>\n",
       "      <td>TAEE11</td>\n",
       "      <td>TAESA</td>\n",
       "      <td>UNT EDJ N2</td>\n",
       "      <td>218568234</td>\n",
       "      <td>0.395</td>\n",
       "      <td>9.471</td>\n",
       "    </tr>\n",
       "  </tbody>\n",
       "</table>\n",
       "<p>92 rows × 7 columns</p>\n",
       "</div>"
      ],
      "text/plain": [
       "                              setor  codigo          acao        tipo  \\\n",
       "0        Bens Indls / Máqs e Equips   WEGE3           WEG  ON      NM   \n",
       "1       Bens Indls / Mat Transporte   EMBR3       EMBRAER  ON      NM   \n",
       "2             Bens Indls/Transporte   AZUL4          AZUL  PN      N2   \n",
       "3             Bens Indls/Transporte   CCRO3        CCR SA  ON      NM   \n",
       "4             Bens Indls/Transporte   ECOR3   ECORODOVIAS  ON      NM   \n",
       "..                              ...     ...           ...         ...   \n",
       "87  Utilidade Públ / Energ Elétrica  ENGI11      ENERGISA  UNT     N2   \n",
       "88  Utilidade Públ / Energ Elétrica   ENEV3         ENEVA  ON      NM   \n",
       "89  Utilidade Públ / Energ Elétrica   EGIE3  ENGIE BRASIL  ON      NM   \n",
       "90  Utilidade Públ / Energ Elétrica   EQTL3    EQUATORIAL  ON      NM   \n",
       "91  Utilidade Públ / Energ Elétrica  TAEE11         TAESA  UNT EDJ N2   \n",
       "\n",
       "    qtde_teorica  part_%  part_%acum  \n",
       "0     1481593024   2.840       2.840  \n",
       "1      734632205   0.509       0.509  \n",
       "2      327646296   0.209       2.119  \n",
       "3     1115681435   0.617       2.119  \n",
       "4      333657615   0.073       2.119  \n",
       "..           ...     ...         ...  \n",
       "87     248477689   0.540       9.471  \n",
       "88    1561135009   0.972       9.471  \n",
       "89     255208461   0.494       9.471  \n",
       "90    1100513485   1.478       9.471  \n",
       "91     218568234   0.395       9.471  \n",
       "\n",
       "[92 rows x 7 columns]"
      ]
     },
     "execution_count": 25,
     "metadata": {},
     "output_type": "execute_result"
    }
   ],
   "source": [
    "index = 'ibov'\n",
    "\n",
    "create_df(get_index_stocks(index))"
   ]
  },
  {
   "cell_type": "code",
   "execution_count": null,
   "metadata": {},
   "outputs": [],
   "source": []
  },
  {
   "cell_type": "markdown",
   "metadata": {},
   "source": [
    "## Download Index file (.csv)"
   ]
  },
  {
   "cell_type": "code",
   "execution_count": null,
   "metadata": {},
   "outputs": [],
   "source": [
    "def get_index_stocks(index, wait=5):\n",
    "    '''\n",
    "        Recieves the Index name, download a file that contains the index stocks, and return the name of the downloaded file\n",
    "    '''\n",
    "\n",
    "\n",
    "    #Chrome WebDriver opens the index webside\n",
    "    url = f'https://sistemaswebb3-listados.b3.com.br/indexPage/day/{index.upper()}?language=pt-br'\n",
    "    driver.get(url)\n",
    "    driver.implicitly_wait(wait)\n",
    "\n",
    "    driver.find_element(By.ID, 'segment').send_keys(\"Setor de Atuação\")\n",
    "    driver.implicitly_wait(wait)\n",
    "    driver.find_element(By.LINK_TEXT, 'Download').click()\n",
    "    driver.implicitly_wait(wait)\n",
    "\n",
    "    #set the directory\n",
    "    os.chdir(r'C:\\Users\\Pedro\\OneDrive\\Desktop\\Ironhack\\04. GitHub\\data_visualization\\data')\n",
    "\n",
    "    #get the files from the selectec directory and sort them by modification date\n",
    "    files = files = list(glob.glob('*csv'))\n",
    "    sleep(wait)\n",
    "    files.sort(key=lambda x: os.path.getmtime(x), reverse=True)\n",
    "\n",
    "    return files[0]"
   ]
  },
  {
   "cell_type": "markdown",
   "metadata": {},
   "source": [
    "## Get the Index DataFrame"
   ]
  },
  {
   "cell_type": "code",
   "execution_count": 24,
   "metadata": {},
   "outputs": [],
   "source": [
    "def create_df(file):\n",
    "    '''Essa é uma função que recebe o nome do índice da Bolsa de Valores e retorna um DataFrame com todas as empresas e seus respectivos setores'''\n",
    "\n",
    "    #criando DataFrame\n",
    "    DataFrame = pd.read_csv(file, \n",
    "                                encoding='ISO-8859-1',\n",
    "                                header=1,\n",
    "                                sep=';',\n",
    "                                decimal=',',\n",
    "                                thousands='.',\n",
    "                                skipfooter=2,\n",
    "                                index_col=False)\n",
    "    \n",
    "    #normalizando colunas\n",
    "    DataFrame.columns = [re.sub('[\\.()]', '', re.sub(' ', '_', unidecode(columns.lower()))) for columns in DataFrame.columns]\n",
    "\n",
    "    return DataFrame"
   ]
  },
  {
   "cell_type": "markdown",
   "metadata": {},
   "source": [
    "## Criando DataFrame com empresas da Ibovespa"
   ]
  },
  {
   "cell_type": "code",
   "execution_count": null,
   "metadata": {},
   "outputs": [],
   "source": [
    "ibov = create_df('ibov')\n",
    "ibov"
   ]
  },
  {
   "cell_type": "code",
   "execution_count": null,
   "metadata": {},
   "outputs": [],
   "source": [
    "ibov = pd.read_csv('data/ibov_setor.csv', \n",
    "                                encoding='ISO-8859-1',\n",
    "                                header=1,\n",
    "                                sep=';',\n",
    "                                decimal=',',\n",
    "                                thousands='.',\n",
    "                                skipfooter=2,\n",
    "                                index_col=False)"
   ]
  },
  {
   "cell_type": "markdown",
   "metadata": {},
   "source": [
    "## Criando DataFrame com empresas do IBRX100"
   ]
  },
  {
   "cell_type": "code",
   "execution_count": null,
   "metadata": {},
   "outputs": [],
   "source": [
    "ibrx = create_df('ibrx100')"
   ]
  },
  {
   "cell_type": "markdown",
   "metadata": {},
   "source": [
    "## Verificando empresas que divergem nos dois índices"
   ]
  },
  {
   "cell_type": "code",
   "execution_count": null,
   "metadata": {},
   "outputs": [],
   "source": [
    "emp_ibrx = ibrx['codigo']\n",
    "set_ibrx = set(emp_ibrx)\n",
    "len(set_ibrx)"
   ]
  },
  {
   "cell_type": "code",
   "execution_count": null,
   "metadata": {},
   "outputs": [],
   "source": [
    "emp_ibov = ibov['codigo']\n",
    "set_ibov = set(emp_ibov)\n",
    "len(set_ibov)"
   ]
  },
  {
   "cell_type": "code",
   "execution_count": null,
   "metadata": {},
   "outputs": [],
   "source": [
    "print(len(set_ibov.difference(set_ibrx)))\n",
    "print(set_ibov.difference(set_ibrx))"
   ]
  },
  {
   "cell_type": "code",
   "execution_count": null,
   "metadata": {},
   "outputs": [],
   "source": [
    "print(len(set_ibrx.difference(set_ibov)))\n",
    "print(set_ibrx.difference(set_ibov))"
   ]
  },
  {
   "cell_type": "markdown",
   "metadata": {},
   "source": [
    "## Criando DataFrame unindo os dois índices"
   ]
  },
  {
   "cell_type": "code",
   "execution_count": null,
   "metadata": {},
   "outputs": [],
   "source": [
    "df_empresas = pd.concat([ibrx, ibov]).drop_duplicates(subset='codigo', ignore_index=True).drop(['qtde_teorica',r'part_%',r'part_%acum'], axis=1)"
   ]
  },
  {
   "cell_type": "markdown",
   "metadata": {},
   "source": [
    "## Criando lista com o código dos pricipais ativos"
   ]
  },
  {
   "cell_type": "code",
   "execution_count": null,
   "metadata": {},
   "outputs": [],
   "source": [
    "codigo = df_empresas['codigo']"
   ]
  },
  {
   "cell_type": "markdown",
   "metadata": {},
   "source": [
    "### Criando lista com o codigo das ações do Yahoo Finance"
   ]
  },
  {
   "cell_type": "code",
   "execution_count": null,
   "metadata": {},
   "outputs": [],
   "source": [
    "codigo_yfinance = list(codigo+'.SA')\n",
    "codigo_yfinance"
   ]
  },
  {
   "cell_type": "markdown",
   "metadata": {},
   "source": [
    "## Yahoo Finance"
   ]
  },
  {
   "cell_type": "code",
   "execution_count": null,
   "metadata": {},
   "outputs": [],
   "source": []
  },
  {
   "cell_type": "code",
   "execution_count": null,
   "metadata": {},
   "outputs": [],
   "source": [
    "yf.Ticker('VALE3.SA').history('18y')"
   ]
  },
  {
   "cell_type": "code",
   "execution_count": null,
   "metadata": {},
   "outputs": [],
   "source": []
  }
 ],
 "metadata": {
  "kernelspec": {
   "display_name": "Python 3.9.12 ('base')",
   "language": "python",
   "name": "python3"
  },
  "language_info": {
   "codemirror_mode": {
    "name": "ipython",
    "version": 3
   },
   "file_extension": ".py",
   "mimetype": "text/x-python",
   "name": "python",
   "nbconvert_exporter": "python",
   "pygments_lexer": "ipython3",
   "version": "3.9.12"
  },
  "orig_nbformat": 4,
  "vscode": {
   "interpreter": {
    "hash": "2d90c038637108ac29aff4d22cdf99e3e2599f922ccc5532827d676edf9e0ab0"
   }
  }
 },
 "nbformat": 4,
 "nbformat_minor": 2
}
