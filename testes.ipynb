{
 "cells": [
  {
   "cell_type": "code",
   "execution_count": null,
   "metadata": {},
   "outputs": [],
   "source": [
    "#!pip install pandas_datareader"
   ]
  },
  {
   "cell_type": "code",
   "execution_count": null,
   "metadata": {},
   "outputs": [],
   "source": [
    "#!pip install yfinance"
   ]
  },
  {
   "cell_type": "code",
   "execution_count": null,
   "metadata": {},
   "outputs": [],
   "source": [
    "#!pip install html5lib"
   ]
  },
  {
   "cell_type": "code",
   "execution_count": null,
   "metadata": {},
   "outputs": [],
   "source": [
    "import pandas as pd\n",
    "import numpy as np\n",
    "import requests\n",
    "from bs4 import BeautifulSoup\n",
    "from unidecode import unidecode\n",
    "import re\n",
    "import os\n",
    "import yfinance as yf\n",
    "from time import sleep\n",
    "import glob"
   ]
  },
  {
   "cell_type": "markdown",
   "metadata": {},
   "source": [
    "## Selenium"
   ]
  },
  {
   "cell_type": "markdown",
   "metadata": {},
   "source": [
    "### Configurando WebDriver"
   ]
  },
  {
   "cell_type": "code",
   "execution_count": null,
   "metadata": {},
   "outputs": [],
   "source": [
    "from selenium import webdriver\n",
    "from selenium.webdriver.common.by import By\n",
    "from selenium.webdriver.common.keys import Keys\n",
    "from selenium.webdriver.common.action_chains import ActionChains"
   ]
  },
  {
   "cell_type": "markdown",
   "metadata": {},
   "source": [
    "### Configurando pasta de download"
   ]
  },
  {
   "cell_type": "code",
   "execution_count": null,
   "metadata": {},
   "outputs": [],
   "source": [
    "chromeOptions = webdriver.ChromeOptions()\n",
    "download_path = r'C:\\Users\\Pedro\\OneDrive\\Desktop\\Ironhack\\04. GitHub\\data_visualization\\data'\n",
    "prefs = {\"download.default_directory\" : download_path}\n",
    "chromeOptions.add_experimental_option(\"prefs\",prefs)"
   ]
  },
  {
   "cell_type": "code",
   "execution_count": null,
   "metadata": {},
   "outputs": [],
   "source": [
    "driver = webdriver.Chrome(options=chromeOptions)"
   ]
  },
  {
   "cell_type": "markdown",
   "metadata": {},
   "source": [
    "## Index's list"
   ]
  },
  {
   "cell_type": "markdown",
   "metadata": {},
   "source": [
    "IBOV: Índice Bovespa - É o principal indicador de desempenho das ações negociadas na B3 e reúne as empresas mais importantes do mercado de capitais brasileiro\n",
    "\n",
    "IBXX: Índice IBrX 100 - 100 ativos de maior negociabilidade e representatividade do mercado de ações brasileiro.\n",
    "\n",
    "IBXL: Índice IBrX 50 - 50 ativos de maior negociabilidade e representatividade do mercado de ações brasileiro.\n",
    "\n",
    "IBRA: Índice Brasil Amplo - O objetivo do IBrA é ser o indicador do desempenho médio das cotações de todos os ativos negociados no mercado a vista (lote-padrão) da B3 que atendam a critérios mínimos de liquidez e presença em pregão, de forma a oferecer uma visão ampla do mercado acionário.\n",
    "\n",
    "IFNC: Índice Financeiro - ativos de maior negociabilidade e representatividade dos setores de intermediários financeiros, serviços financeiros diversos, previdência e seguros.\n",
    "\n",
    "ICON: Índice de Consumo - ativos de maior negociabilidade e representatividade dos setores de consumo cíclico, consumo não cíclico e saúde.\n",
    "\n",
    "IEEX: Índice de Energia Elétrica - ativos de maior negociabilidade e representatividade do setor de energia elétrica.\n",
    "\n",
    "IFIX: Índice de Fundos Imobiliários - Fundos imobiliários negociados nos mercados de bolsa e de balcão organizado da B3.\n",
    "\n",
    "IFIL: Índice de Fundos Imobiliários de Alta Liquidez - Fundos imobiliários mais líquidos negociados nos mercados de bolsa e de balcão organizado da B3.\n",
    "\n",
    "IMAT: Índice de Materiais Básicos - ativos de maior negociabilidade e representatividade do setor de materiais básicos.\n",
    "\n",
    "IDIV: Índice Dividendos - ativos que se destacaram em termos de remuneração dos investidores, sob a forma de dividendos e juros sobre o capital próprio.\n",
    "\n",
    "INDX: Índice do Setor Industrial - ativos de maior negociabilidade e representatividade dos setores da atividade industrial compreendidos por materiais básicos, bens industriais, consumo cíclico, consumo não cíclico, tecnologia da informação e saúde.\n",
    "\n",
    "IMOB: Índice Imobiliário - ativos de maior negociabilidade e representatividade dos setores da atividade imobiliária compreendidos por exploração de imóveis e construção civil.\n",
    "\n",
    "MLCX: Índice MidLarge Cap - ativos de uma carteira composta pelas empresas de maior capitalização.\n",
    "\n",
    "SMLL: Índice Small Cap - empresas de menor capitalização.\n",
    "\n",
    "UTIL: Índice Utilidade Pública - ativos de maior negociabilidade e representatividade do setor de utilidade pública (energia elétrica, água e saneamento e gás).\n",
    "\n",
    "IVBX: Índice Valor empresas bem conceituadas pelos investidores."
   ]
  },
  {
   "cell_type": "markdown",
   "metadata": {},
   "source": [
    "## Download Index file (.csv)"
   ]
  },
  {
   "cell_type": "code",
   "execution_count": null,
   "metadata": {},
   "outputs": [],
   "source": [
    "def get_index_stocks(index, wait=6):\n",
    "    '''\n",
    "        Recieves the Index name, download a file that contains the index tickers, and return the name of the downloaded file\n",
    "    '''\n",
    "\n",
    "    #Chrome WebDriver opens the index webside\n",
    "    url = f'https://sistemaswebb3-listados.b3.com.br/indexPage/day/{index.upper()}?language=pt-br'\n",
    "    driver.get(url)\n",
    "    driver.implicitly_wait(wait)\n",
    "\n",
    "    driver.find_element(By.ID, 'segment').send_keys(\"Setor de Atuação\")\n",
    "    driver.implicitly_wait(wait)\n",
    "    driver.find_element(By.LINK_TEXT, 'Download').click()\n",
    "    driver.implicitly_wait(wait)\n",
    "\n",
    "    #set the directory\n",
    "    os.chdir(r'C:\\Users\\Pedro\\OneDrive\\Desktop\\Ironhack\\04. GitHub\\data_visualization\\data')\n",
    "    sleep(wait)\n",
    "    #get the files from the selectec directory and sort them by modification date\n",
    "    files = files = list(glob.glob('*csv'))\n",
    "    files.sort(key=lambda x: os.path.getmtime(x), reverse=True)\n",
    "\n",
    "    return files[0]"
   ]
  },
  {
   "cell_type": "markdown",
   "metadata": {},
   "source": [
    "## Get the Index DataFrame"
   ]
  },
  {
   "cell_type": "code",
   "execution_count": null,
   "metadata": {},
   "outputs": [],
   "source": [
    "def create_df(file):\n",
    "    '''\n",
    "        This function receives the name of the Stock Exchange index and returns a DataFrame with all companies and their respective sectors\n",
    "    '''\n",
    "\n",
    "    #Creating DataFrame\n",
    "    DataFrame = pd.read_csv(file, \n",
    "                                encoding='ISO-8859-1',\n",
    "                                header=1,                   #Uses line 1 as header\n",
    "                                sep=';',                    \n",
    "                                decimal=',',\n",
    "                                thousands='.',\n",
    "                                skipfooter=2,               #Removes last 2 lines\n",
    "                                engine='python',\n",
    "                                index_col=False)            #Does not make first column as index\n",
    "    \n",
    "    #Normalizing columns\n",
    "    DataFrame.columns = [re.sub('[\\.()]', '', re.sub(' ', '_', unidecode(columns.lower()))) for columns in DataFrame.columns]\n",
    "\n",
    "    return DataFrame"
   ]
  },
  {
   "cell_type": "markdown",
   "metadata": {},
   "source": [
    "## Creating DataFrames"
   ]
  },
  {
   "cell_type": "code",
   "execution_count": null,
   "metadata": {},
   "outputs": [],
   "source": [
    "col_names = [\n",
    "    'sector',\n",
    "    'ticker',\n",
    "    'name',\n",
    "    'type',\n",
    "    'amount',\n",
    "    'percentage',\n",
    "    'percentage_acum'\n",
    "]"
   ]
  },
  {
   "cell_type": "markdown",
   "metadata": {},
   "source": [
    "### Ibovespa"
   ]
  },
  {
   "cell_type": "code",
   "execution_count": null,
   "metadata": {},
   "outputs": [],
   "source": [
    "ibov = create_df(get_index_stocks('ibov'))\n",
    "len(ibov)"
   ]
  },
  {
   "cell_type": "code",
   "execution_count": null,
   "metadata": {},
   "outputs": [],
   "source": [
    "ibov.columns = col_names"
   ]
  },
  {
   "cell_type": "code",
   "execution_count": null,
   "metadata": {},
   "outputs": [],
   "source": [
    "path = r'C:\\Users\\Pedro\\OneDrive\\Desktop\\Ironhack\\04. GitHub\\data_visualization\\data/'\n",
    "\n",
    "ibov.to_csv(f'{path}IBOV.csv',\n",
    "                    encoding='ISO-8859-1',\n",
    "                    sep=';',\n",
    "                    decimal='.',\n",
    "                    index=False)"
   ]
  },
  {
   "cell_type": "markdown",
   "metadata": {},
   "source": [
    "### IBrX100"
   ]
  },
  {
   "cell_type": "code",
   "execution_count": null,
   "metadata": {},
   "outputs": [],
   "source": [
    "ibrx = create_df(get_index_stocks('ibxx'))\n",
    "len(ibrx)"
   ]
  },
  {
   "cell_type": "code",
   "execution_count": null,
   "metadata": {},
   "outputs": [],
   "source": [
    "ibrx.columns = col_names"
   ]
  },
  {
   "cell_type": "code",
   "execution_count": null,
   "metadata": {},
   "outputs": [],
   "source": [
    "path = r'C:\\Users\\Pedro\\OneDrive\\Desktop\\Ironhack\\04. GitHub\\data_visualization\\data/'\n",
    "\n",
    "ibrx.to_csv(f'{path}IBRX100.csv',\n",
    "                    encoding='ISO-8859-1',\n",
    "                    sep=';',\n",
    "                    decimal='.',\n",
    "                    index=False)"
   ]
  },
  {
   "cell_type": "markdown",
   "metadata": {},
   "source": [
    "### IBrX50"
   ]
  },
  {
   "cell_type": "code",
   "execution_count": null,
   "metadata": {},
   "outputs": [],
   "source": [
    "ibrx50 = create_df(get_index_stocks('ibxl'))\n",
    "len(ibrx50)"
   ]
  },
  {
   "cell_type": "code",
   "execution_count": null,
   "metadata": {},
   "outputs": [],
   "source": [
    "ibrx50.columns = col_names"
   ]
  },
  {
   "cell_type": "code",
   "execution_count": null,
   "metadata": {},
   "outputs": [],
   "source": [
    "path = r'C:\\Users\\Pedro\\OneDrive\\Desktop\\Ironhack\\04. GitHub\\data_visualization\\data/'\n",
    "\n",
    "ibrx50.to_csv(f'{path}IBRX50.csv',\n",
    "                    encoding='ISO-8859-1',\n",
    "                    sep=';',\n",
    "                    decimal='.',\n",
    "                    index=False)"
   ]
  },
  {
   "cell_type": "markdown",
   "metadata": {},
   "source": [
    "### IBrA"
   ]
  },
  {
   "cell_type": "code",
   "execution_count": null,
   "metadata": {},
   "outputs": [],
   "source": [
    "ibra = create_df(get_index_stocks('ibra'))\n",
    "len(ibra)"
   ]
  },
  {
   "cell_type": "code",
   "execution_count": null,
   "metadata": {},
   "outputs": [],
   "source": [
    "ibra.columns = col_names"
   ]
  },
  {
   "cell_type": "code",
   "execution_count": null,
   "metadata": {},
   "outputs": [],
   "source": [
    "path = r'C:\\Users\\Pedro\\OneDrive\\Desktop\\Ironhack\\04. GitHub\\data_visualization\\data/'\n",
    "\n",
    "ibra.to_csv(f'{path}IBRA.csv',\n",
    "                    encoding='ISO-8859-1',\n",
    "                    sep=';',\n",
    "                    decimal='.',\n",
    "                    index=False)"
   ]
  },
  {
   "cell_type": "markdown",
   "metadata": {},
   "source": [
    "## Verificando empresas que divergem nos dois índices - Obsoleto"
   ]
  },
  {
   "cell_type": "code",
   "execution_count": null,
   "metadata": {},
   "outputs": [],
   "source": [
    "emp_ibrx = ibrx['codigo']\n",
    "set_ibrx = set(emp_ibrx)\n",
    "len(set_ibrx)"
   ]
  },
  {
   "cell_type": "code",
   "execution_count": null,
   "metadata": {},
   "outputs": [],
   "source": [
    "emp_ibov = ibov['codigo']\n",
    "set_ibov = set(emp_ibov)\n",
    "len(set_ibov)"
   ]
  },
  {
   "cell_type": "code",
   "execution_count": null,
   "metadata": {},
   "outputs": [],
   "source": [
    "emp_ibra = ibra['codigo']\n",
    "set_ibra = set(emp_ibra)\n",
    "len(set_ibra)"
   ]
  },
  {
   "cell_type": "code",
   "execution_count": null,
   "metadata": {},
   "outputs": [],
   "source": [
    "print(len(set_ibra.difference(set_ibrx)))\n",
    "print(set_ibra.difference(set_ibrx))"
   ]
  },
  {
   "cell_type": "code",
   "execution_count": null,
   "metadata": {},
   "outputs": [],
   "source": [
    "print(len(set_ibov.difference(set_ibrx)))\n",
    "print(set_ibov.difference(set_ibrx))"
   ]
  },
  {
   "cell_type": "code",
   "execution_count": null,
   "metadata": {},
   "outputs": [],
   "source": [
    "print(len(set_ibrx.difference(set_ibov)))\n",
    "print(set_ibrx.difference(set_ibov))"
   ]
  },
  {
   "cell_type": "markdown",
   "metadata": {},
   "source": [
    "### Verificando qual empresa da lista completa não exista em 2021"
   ]
  },
  {
   "cell_type": "code",
   "execution_count": null,
   "metadata": {},
   "outputs": [],
   "source": [
    "set_codigo = set(lista_codigo)\n",
    "set_empresas_2021 = set(empresas_2021)\n",
    "\n",
    "print(len(set_codigo.difference(set_empresas_2021)))\n",
    "print(set_codigo.difference(set_empresas_2021))"
   ]
  },
  {
   "cell_type": "markdown",
   "metadata": {},
   "source": [
    "## Criando DataFrame unindo os dois índices - Obsoleto"
   ]
  },
  {
   "cell_type": "code",
   "execution_count": null,
   "metadata": {},
   "outputs": [],
   "source": [
    "df_empresas = pd.concat([ibrx, ibov]).drop_duplicates(subset='codigo', ignore_index=True).drop(['qtde_teorica',r'part_%',r'part_%acum'], axis=1)"
   ]
  },
  {
   "cell_type": "markdown",
   "metadata": {},
   "source": [
    "## Criando lista com o código dos pricipais ativos"
   ]
  },
  {
   "cell_type": "code",
   "execution_count": null,
   "metadata": {},
   "outputs": [],
   "source": [
    "## Utilizar lista do IBRA\n",
    "codigo = list(set_ibra)"
   ]
  },
  {
   "cell_type": "markdown",
   "metadata": {},
   "source": [
    "## Função para baixar séries históricas do site da B3 - NÃO FUNCIONA"
   ]
  },
  {
   "cell_type": "code",
   "execution_count": null,
   "metadata": {},
   "outputs": [],
   "source": [
    "'''\n",
    "url = 'https://www.b3.com.br/pt_br/market-data-e-indices/servicos-de-dados/market-data/historico/mercado-a-vista/series-historicas/'\n",
    "response = requests.get(url)\n",
    "html = response.content\n",
    "soup = BeautifulSoup(html)\n",
    "soup.find_all('select')'''"
   ]
  },
  {
   "cell_type": "code",
   "execution_count": null,
   "metadata": {},
   "outputs": [],
   "source": [
    "driver = webdriver.Chrome(options=chromeOptions)"
   ]
  },
  {
   "cell_type": "code",
   "execution_count": null,
   "metadata": {},
   "outputs": [],
   "source": [
    "url = f'https://www.b3.com.br/pt_br/market-data-e-indices/servicos-de-dados/market-data/historico/mercado-a-vista/series-historicas/'\n",
    "driver.get(url)\n",
    "driver.implicitly_wait(5)"
   ]
  },
  {
   "cell_type": "code",
   "execution_count": null,
   "metadata": {},
   "outputs": [],
   "source": [
    "driver.find_element(By.XPATH, '//*[@id=\"conteudo-principal\"]/div[2]/div/div/ul/li[4]/a').click()"
   ]
  },
  {
   "cell_type": "code",
   "execution_count": null,
   "metadata": {},
   "outputs": [],
   "source": [
    "driver.find_element(By.LINK_TEXT, 'Download').click()\n",
    "driver.implicitly_wait(wait)"
   ]
  },
  {
   "cell_type": "code",
   "execution_count": null,
   "metadata": {},
   "outputs": [],
   "source": [
    "os.chdir(r'C:\\Users\\Pedro\\OneDrive\\Desktop\\Ironhack\\04. GitHub\\data_visualization\\data')"
   ]
  },
  {
   "cell_type": "code",
   "execution_count": null,
   "metadata": {},
   "outputs": [],
   "source": [
    "files = files = list(glob.glob('*txt'))"
   ]
  },
  {
   "cell_type": "code",
   "execution_count": null,
   "metadata": {},
   "outputs": [],
   "source": [
    "files.sort(key=lambda x: os.path.getmtime(x), reverse=True)"
   ]
  },
  {
   "cell_type": "code",
   "execution_count": null,
   "metadata": {},
   "outputs": [],
   "source": []
  },
  {
   "cell_type": "code",
   "execution_count": null,
   "metadata": {},
   "outputs": [],
   "source": []
  },
  {
   "cell_type": "markdown",
   "metadata": {},
   "source": [
    "## Unzip files"
   ]
  },
  {
   "cell_type": "code",
   "execution_count": null,
   "metadata": {},
   "outputs": [],
   "source": [
    "import zipfile\n",
    "path = r'C:\\Users\\Pedro\\OneDrive\\Desktop\\Ironhack\\04. GitHub\\data_visualization\\data/'\n",
    "\n",
    "i = 1986\n",
    "\n",
    "while i < 2000:\n",
    "    with zipfile.ZipFile(f'{path}COTAHIST_A{i}.zip', 'r') as zip_ref:\n",
    "        zip_ref.extractall(path)\n",
    "    i +=1\n",
    "\n"
   ]
  },
  {
   "cell_type": "markdown",
   "metadata": {},
   "source": [
    "## Rename files"
   ]
  },
  {
   "cell_type": "code",
   "execution_count": null,
   "metadata": {},
   "outputs": [],
   "source": [
    "os.listdir()"
   ]
  },
  {
   "cell_type": "code",
   "execution_count": null,
   "metadata": {},
   "outputs": [],
   "source": [
    "i = 2000\n",
    "\n",
    "while i < 2022:\n",
    "    os.rename(f'COTAHIST_A{i}.TXT', f'COTAHIST_A{i}.txt')\n",
    "    i +=1"
   ]
  },
  {
   "cell_type": "markdown",
   "metadata": {},
   "source": [
    "## Setting configurations to read B3 historical files"
   ]
  },
  {
   "cell_type": "code",
   "execution_count": null,
   "metadata": {},
   "outputs": [],
   "source": [
    "pd.set_option('display.max_columns', 500)\n",
    "pd.options.display.max_columns=500"
   ]
  },
  {
   "cell_type": "code",
   "execution_count": null,
   "metadata": {},
   "outputs": [],
   "source": [
    "path = r'C:\\Users\\Pedro\\OneDrive\\Desktop\\Ironhack\\05. Dados\\B3\\txt/'\n",
    "\n",
    "year = 2022\n",
    "\n",
    "widths = [2,8,2,12,3,12,10,3,4,13,13,13,13,13,13,13,5,18,18,13,1,8,7,13,12,3]\n",
    "\n",
    "col_names = [\n",
    "\"tipo_registro\",\n",
    "\"data_pregao\",\n",
    "\"cod_bdi\",\n",
    "\"cod_negociacao\",\n",
    "\"tipo_mercado\",\n",
    "\"nome_empresa\",\n",
    "\"especificacao_papel\",\n",
    "\"prazo_dias_merc_termo\",\n",
    "\"moeda_referencia\",\n",
    "\"preco_abertura\",\n",
    "\"preco_maximo\",\n",
    "\"preco_minimo\",\n",
    "\"preco_medio\",\n",
    "\"preco_ultimo_negocio\",\n",
    "\"preco_melhor_oferta_compra\",\n",
    "\"preco_melhor_oferta_venda\",\n",
    "\"numero_negocios\",\n",
    "\"quantidade_papeis_negociados\",\n",
    "\"volume_total_negociado\",\n",
    "\"preco_exercicio\",\n",
    "\"ìndicador_correcao_precos\",\n",
    "\"data_vencimento\" ,\n",
    "\"fator_cotacao\",\n",
    "\"preco_exercicio_pontos\",\n",
    "\"codigo_isin\",\n",
    "\"num_distribuicao_papel\"]\n",
    "\n",
    "decimal_config=[\n",
    "\"preco_abertura\",\n",
    "\"preco_maximo\",\n",
    "\"preco_minimo\",\n",
    "\"preco_medio\",\n",
    "\"preco_ultimo_negocio\",\n",
    "\"preco_melhor_oferta_compra\",\n",
    "\"preco_melhor_oferta_venda\",\n",
    "\"volume_total_negociado\",\n",
    "\"preco_exercicio\",\n",
    "\"preco_exercicio_pontos\"\n",
    "]\n",
    "\n",
    "\n",
    "remains = [\n",
    "\"data_pregao\",\n",
    "\"cod_negociacao\",\n",
    "\"tipo_mercado\",\n",
    "\"nome_empresa\",\n",
    "\"preco_abertura\",\n",
    "\"preco_maximo\",\n",
    "\"preco_minimo\",\n",
    "\"preco_medio\",\n",
    "\"preco_ultimo_negocio\",\n",
    "]"
   ]
  },
  {
   "cell_type": "code",
   "execution_count": null,
   "metadata": {},
   "outputs": [],
   "source": [
    "dataset = pd.DataFrame()"
   ]
  },
  {
   "cell_type": "code",
   "execution_count": null,
   "metadata": {},
   "outputs": [],
   "source": [
    "'''     Concatenate DataFrames\n",
    "year = 2022\n",
    "while year > 1985:\n",
    "    df = pd.read_fwf(f'{path}COTAHIST_A{year}.TXT',\n",
    "                                    encoding='ISO-8859-1',\n",
    "                                    header=0,\n",
    "                                    widths=widths,\n",
    "                                    skipfooter=1,\n",
    "                                    engine='python',\n",
    "                                    parse_dates=[1],\n",
    "                                    infer_datetime_format=True,\n",
    "                                    index_col=False)\n",
    "    year -= 1\n",
    "\n",
    "    #Definindo nomes das colunas\n",
    "    df.columns = col_names\n",
    "\n",
    "    #Corrigindo casas decimais\n",
    "    for col in decimal_config:\n",
    "        df[col]=df[col]/100\n",
    "\n",
    "    #Selecionando colunas\n",
    "    df = df[remains]\n",
    "    \n",
    "    #Mascara de empresas desejadas\n",
    "    mask_empresas = df.cod_negociacao.isin(codigo)\n",
    "\n",
    "    df = df[mask_empresas]\n",
    "\n",
    "    dataset = pd.concat([dataset, df], ignore_index=True)\n",
    "'''"
   ]
  },
  {
   "cell_type": "code",
   "execution_count": null,
   "metadata": {},
   "outputs": [],
   "source": [
    "dataset"
   ]
  },
  {
   "cell_type": "markdown",
   "metadata": {},
   "source": [
    "## Export DF"
   ]
  },
  {
   "cell_type": "code",
   "execution_count": null,
   "metadata": {},
   "outputs": [],
   "source": [
    "path = r'C:\\Users\\Pedro\\OneDrive\\Desktop\\Ironhack\\05. Dados\\B3\\txt/'\n",
    "\n",
    "dataset.to_csv(f'{path}dataset-IBRA.csv',\n",
    "                    encoding='ISO-8859-1',\n",
    "                    sep=';',\n",
    "                    decimal='.',\n",
    "                    index=False)"
   ]
  },
  {
   "cell_type": "code",
   "execution_count": null,
   "metadata": {},
   "outputs": [],
   "source": [
    "pd.read_csv(f'{path}dataset-IBRA.csv',\n",
    "                encoding='ISO-8859-1',\n",
    "                sep=';',\n",
    "                decimal='.',\n",
    "                index_col=False\n",
    "                )"
   ]
  },
  {
   "cell_type": "markdown",
   "metadata": {},
   "source": [
    "## Yahoo finance"
   ]
  },
  {
   "cell_type": "code",
   "execution_count": null,
   "metadata": {},
   "outputs": [],
   "source": [
    "symbol_list_br = ['^BVSP','^IBX50']\n",
    "symbol_list_eua = ['^DJI','^IXIC','^GSPC','GC=F']\n",
    "symbol_list_crypto = ['BTC-USD', 'ETH-USD']\n",
    "\n",
    "name_dict={\n",
    "    '^BVSP':'Ibovespa',\n",
    "    '^IBX50':'IBrX50',\n",
    "    '^DJI':'Dow Jones',\n",
    "    '^IXIC':'NASDAQ',\n",
    "    '^GSPC':'S&P 500',\n",
    "    'GC=F':'Ouro ($)',\n",
    "    'BTC-USD':'Bitcoin ($)',\n",
    "    'ETH-USD':'Ethereum ($)'\n",
    "}\n",
    "\n",
    "col_names = ['date',\n",
    "\"open\",\n",
    "\"high\",\n",
    "\"low\",\n",
    "\"close\",\n",
    "'cod_yfinance']\n",
    "\n",
    "drop_col = ['Volume','Dividends','Stock Splits']\n",
    "\n",
    "start = '2000-01-01'\n",
    "start_br ='2004-11-03'"
   ]
  },
  {
   "cell_type": "code",
   "execution_count": null,
   "metadata": {},
   "outputs": [],
   "source": [
    "#df_br = pd.DataFrame()\n",
    "#df_eua = pd.DataFrame()\n",
    "#df_crypto = pd.DataFrame()"
   ]
  },
  {
   "cell_type": "code",
   "execution_count": null,
   "metadata": {},
   "outputs": [],
   "source": [
    "for ativo in symbol_list_br:\n",
    "        chamada_api = yf.Ticker(ativo).history(start=start_br)\n",
    "        chamada_api['cod_yfinace'] = ativo\n",
    "        df_br = pd.concat([df_br, chamada_api])"
   ]
  },
  {
   "cell_type": "code",
   "execution_count": null,
   "metadata": {},
   "outputs": [],
   "source": [
    "#df_br = df_br.drop(drop_col, axis = 1)\n",
    "#df_br.reset_index(inplace=True)\n",
    "#df_br['Date'] = df_br['Date'].dt.date\n",
    "#df_br.columns = col_names\n",
    "df_br"
   ]
  },
  {
   "cell_type": "code",
   "execution_count": null,
   "metadata": {},
   "outputs": [],
   "source": [
    "path = r'C:\\Users\\Pedro\\OneDrive\\Desktop\\Ironhack\\04. GitHub\\data_visualization\\data/'\n",
    "\n",
    "df_br.to_csv(f'{path}index_br.csv',\n",
    "                    encoding='ISO-8859-1',\n",
    "                    sep=';',\n",
    "                    decimal='.',\n",
    "                    index=False)"
   ]
  },
  {
   "cell_type": "code",
   "execution_count": null,
   "metadata": {},
   "outputs": [],
   "source": [
    "index_br = pd.read_csv(r'C:\\Users\\Pedro\\OneDrive\\Desktop\\Ironhack\\04. GitHub\\data_visualization\\data/index_br.csv',\n",
    "                    sep = ';',\n",
    "                    decimal = '.',\n",
    "                    encoding='ISO-8859-1',\n",
    "                    index_col=False\n",
    ")"
   ]
  },
  {
   "cell_type": "code",
   "execution_count": null,
   "metadata": {},
   "outputs": [],
   "source": [
    "index_br['name'] = index_br['cod_yfinance'].map(name_dict)"
   ]
  },
  {
   "cell_type": "code",
   "execution_count": null,
   "metadata": {},
   "outputs": [],
   "source": [
    "index_br"
   ]
  },
  {
   "cell_type": "code",
   "execution_count": null,
   "metadata": {},
   "outputs": [],
   "source": [
    "for ativo in symbol_list_eua:\n",
    "        chamada_api = yf.Ticker(ativo).history(start=start)\n",
    "        chamada_api['cod_yfinance'] = ativo\n",
    "        df_eua = pd.concat([df_eua, chamada_api])"
   ]
  },
  {
   "cell_type": "code",
   "execution_count": null,
   "metadata": {},
   "outputs": [],
   "source": [
    "#df_eua = df_eua.drop(drop_col, axis = 1)\n",
    "#df_eua.reset_index(inplace=True)\n",
    "#df_eua['Date'] = df_eua['Date'].dt.date\n",
    "#df_eua.columns = col_names\n",
    "df_eua"
   ]
  },
  {
   "cell_type": "code",
   "execution_count": null,
   "metadata": {},
   "outputs": [],
   "source": [
    "path = r'C:\\Users\\Pedro\\OneDrive\\Desktop\\Ironhack\\04. GitHub\\data_visualization\\data/'\n",
    "\n",
    "df_eua.to_csv(f'{path}index_eua.csv',\n",
    "                    encoding='ISO-8859-1',\n",
    "                    sep=';',\n",
    "                    decimal='.',\n",
    "                    index=False)"
   ]
  },
  {
   "cell_type": "code",
   "execution_count": 20,
   "metadata": {},
   "outputs": [],
   "source": [
    "index_eua = pd.read_csv(r'C:\\Users\\Pedro\\OneDrive\\Desktop\\Ironhack\\04. GitHub\\data_visualization\\data/index_eua.csv',\n",
    "                    sep = ';',\n",
    "                    decimal = '.',\n",
    "                    encoding='ISO-8859-1',\n",
    "                    index_col=False)"
   ]
  },
  {
   "cell_type": "code",
   "execution_count": 24,
   "metadata": {},
   "outputs": [
    {
     "data": {
      "text/html": [
       "<div>\n",
       "<style scoped>\n",
       "    .dataframe tbody tr th:only-of-type {\n",
       "        vertical-align: middle;\n",
       "    }\n",
       "\n",
       "    .dataframe tbody tr th {\n",
       "        vertical-align: top;\n",
       "    }\n",
       "\n",
       "    .dataframe thead th {\n",
       "        text-align: right;\n",
       "    }\n",
       "</style>\n",
       "<table border=\"1\" class=\"dataframe\">\n",
       "  <thead>\n",
       "    <tr style=\"text-align: right;\">\n",
       "      <th></th>\n",
       "      <th>date</th>\n",
       "      <th>open</th>\n",
       "      <th>high</th>\n",
       "      <th>low</th>\n",
       "      <th>close</th>\n",
       "      <th>cod_yfinance</th>\n",
       "    </tr>\n",
       "  </thead>\n",
       "  <tbody>\n",
       "    <tr>\n",
       "      <th>0</th>\n",
       "      <td>2000-01-03</td>\n",
       "      <td>11501.849609</td>\n",
       "      <td>11522.009766</td>\n",
       "      <td>11305.690430</td>\n",
       "      <td>11357.509766</td>\n",
       "      <td>^DJI</td>\n",
       "    </tr>\n",
       "    <tr>\n",
       "      <th>1</th>\n",
       "      <td>2000-01-04</td>\n",
       "      <td>11349.750000</td>\n",
       "      <td>11350.059570</td>\n",
       "      <td>10986.450195</td>\n",
       "      <td>10997.929688</td>\n",
       "      <td>^DJI</td>\n",
       "    </tr>\n",
       "    <tr>\n",
       "      <th>2</th>\n",
       "      <td>2000-01-05</td>\n",
       "      <td>10989.370117</td>\n",
       "      <td>11215.099609</td>\n",
       "      <td>10938.669922</td>\n",
       "      <td>11122.650391</td>\n",
       "      <td>^DJI</td>\n",
       "    </tr>\n",
       "    <tr>\n",
       "      <th>3</th>\n",
       "      <td>2000-01-06</td>\n",
       "      <td>11113.370117</td>\n",
       "      <td>11313.450195</td>\n",
       "      <td>11098.450195</td>\n",
       "      <td>11253.259766</td>\n",
       "      <td>^DJI</td>\n",
       "    </tr>\n",
       "    <tr>\n",
       "      <th>4</th>\n",
       "      <td>2000-01-07</td>\n",
       "      <td>11247.059570</td>\n",
       "      <td>11528.139648</td>\n",
       "      <td>11239.919922</td>\n",
       "      <td>11522.559570</td>\n",
       "      <td>^DJI</td>\n",
       "    </tr>\n",
       "    <tr>\n",
       "      <th>...</th>\n",
       "      <td>...</td>\n",
       "      <td>...</td>\n",
       "      <td>...</td>\n",
       "      <td>...</td>\n",
       "      <td>...</td>\n",
       "      <td>...</td>\n",
       "    </tr>\n",
       "    <tr>\n",
       "      <th>22850</th>\n",
       "      <td>2022-11-15</td>\n",
       "      <td>1770.800049</td>\n",
       "      <td>1773.800049</td>\n",
       "      <td>1769.900024</td>\n",
       "      <td>1773.800049</td>\n",
       "      <td>GC=F</td>\n",
       "    </tr>\n",
       "    <tr>\n",
       "      <th>22851</th>\n",
       "      <td>2022-11-16</td>\n",
       "      <td>1776.599976</td>\n",
       "      <td>1778.900024</td>\n",
       "      <td>1773.000000</td>\n",
       "      <td>1773.000000</td>\n",
       "      <td>GC=F</td>\n",
       "    </tr>\n",
       "    <tr>\n",
       "      <th>22852</th>\n",
       "      <td>2022-11-17</td>\n",
       "      <td>1763.000000</td>\n",
       "      <td>1763.000000</td>\n",
       "      <td>1756.000000</td>\n",
       "      <td>1760.800049</td>\n",
       "      <td>GC=F</td>\n",
       "    </tr>\n",
       "    <tr>\n",
       "      <th>22853</th>\n",
       "      <td>2022-11-18</td>\n",
       "      <td>1763.300049</td>\n",
       "      <td>1763.300049</td>\n",
       "      <td>1747.599976</td>\n",
       "      <td>1751.900024</td>\n",
       "      <td>GC=F</td>\n",
       "    </tr>\n",
       "    <tr>\n",
       "      <th>22854</th>\n",
       "      <td>2022-11-20</td>\n",
       "      <td>1752.000000</td>\n",
       "      <td>1754.099976</td>\n",
       "      <td>1751.400024</td>\n",
       "      <td>1753.800049</td>\n",
       "      <td>GC=F</td>\n",
       "    </tr>\n",
       "  </tbody>\n",
       "</table>\n",
       "<p>22855 rows × 6 columns</p>\n",
       "</div>"
      ],
      "text/plain": [
       "             date          open          high           low         close  \\\n",
       "0      2000-01-03  11501.849609  11522.009766  11305.690430  11357.509766   \n",
       "1      2000-01-04  11349.750000  11350.059570  10986.450195  10997.929688   \n",
       "2      2000-01-05  10989.370117  11215.099609  10938.669922  11122.650391   \n",
       "3      2000-01-06  11113.370117  11313.450195  11098.450195  11253.259766   \n",
       "4      2000-01-07  11247.059570  11528.139648  11239.919922  11522.559570   \n",
       "...           ...           ...           ...           ...           ...   \n",
       "22850  2022-11-15   1770.800049   1773.800049   1769.900024   1773.800049   \n",
       "22851  2022-11-16   1776.599976   1778.900024   1773.000000   1773.000000   \n",
       "22852  2022-11-17   1763.000000   1763.000000   1756.000000   1760.800049   \n",
       "22853  2022-11-18   1763.300049   1763.300049   1747.599976   1751.900024   \n",
       "22854  2022-11-20   1752.000000   1754.099976   1751.400024   1753.800049   \n",
       "\n",
       "      cod_yfinance  \n",
       "0             ^DJI  \n",
       "1             ^DJI  \n",
       "2             ^DJI  \n",
       "3             ^DJI  \n",
       "4             ^DJI  \n",
       "...            ...  \n",
       "22850         GC=F  \n",
       "22851         GC=F  \n",
       "22852         GC=F  \n",
       "22853         GC=F  \n",
       "22854         GC=F  \n",
       "\n",
       "[22855 rows x 6 columns]"
      ]
     },
     "execution_count": 24,
     "metadata": {},
     "output_type": "execute_result"
    }
   ],
   "source": [
    "index_eua"
   ]
  },
  {
   "cell_type": "code",
   "execution_count": null,
   "metadata": {},
   "outputs": [],
   "source": [
    "for ativo in symbol_list_crypto:\n",
    "        chamada_api = yf.Ticker(ativo).history(start=start)\n",
    "        chamada_api['cod_yfinace'] = ativo\n",
    "        df_crypto = pd.concat([df_crypto, chamada_api])"
   ]
  },
  {
   "cell_type": "code",
   "execution_count": null,
   "metadata": {},
   "outputs": [],
   "source": [
    "#df_crypto = df_crypto.drop(drop_col, axis = 1)\n",
    "#df_crypto.reset_index(inplace=True)\n",
    "#df_crypto['Date'] = df_crypto['Date'].dt.date\n",
    "#df_crypto.columns = col_names\n",
    "df_crypto"
   ]
  },
  {
   "cell_type": "code",
   "execution_count": null,
   "metadata": {},
   "outputs": [],
   "source": [
    "path = r'C:\\Users\\Pedro\\OneDrive\\Desktop\\Ironhack\\04. GitHub\\data_visualization\\data/'\n",
    "\n",
    "df_crypto.to_csv(f'{path}crypto.csv',\n",
    "                    encoding='ISO-8859-1',\n",
    "                    sep=';',\n",
    "                    decimal='.',\n",
    "                    index=False)"
   ]
  },
  {
   "cell_type": "code",
   "execution_count": 22,
   "metadata": {},
   "outputs": [],
   "source": [
    "crypto = pd.read_csv(r'C:\\Users\\Pedro\\OneDrive\\Desktop\\Ironhack\\04. GitHub\\data_visualization\\data/crypto.csv',\n",
    "                    sep = ';',\n",
    "                    decimal = '.',\n",
    "                    encoding='ISO-8859-1',\n",
    "                    index_col=False)\n"
   ]
  },
  {
   "cell_type": "code",
   "execution_count": 23,
   "metadata": {},
   "outputs": [
    {
     "data": {
      "text/html": [
       "<div>\n",
       "<style scoped>\n",
       "    .dataframe tbody tr th:only-of-type {\n",
       "        vertical-align: middle;\n",
       "    }\n",
       "\n",
       "    .dataframe tbody tr th {\n",
       "        vertical-align: top;\n",
       "    }\n",
       "\n",
       "    .dataframe thead th {\n",
       "        text-align: right;\n",
       "    }\n",
       "</style>\n",
       "<table border=\"1\" class=\"dataframe\">\n",
       "  <thead>\n",
       "    <tr style=\"text-align: right;\">\n",
       "      <th></th>\n",
       "      <th>date</th>\n",
       "      <th>open</th>\n",
       "      <th>high</th>\n",
       "      <th>low</th>\n",
       "      <th>close</th>\n",
       "      <th>cod_yfinance</th>\n",
       "    </tr>\n",
       "  </thead>\n",
       "  <tbody>\n",
       "    <tr>\n",
       "      <th>0</th>\n",
       "      <td>2014-09-17</td>\n",
       "      <td>465.864014</td>\n",
       "      <td>468.174011</td>\n",
       "      <td>452.421997</td>\n",
       "      <td>457.334015</td>\n",
       "      <td>BTC-USD</td>\n",
       "    </tr>\n",
       "    <tr>\n",
       "      <th>1</th>\n",
       "      <td>2014-09-18</td>\n",
       "      <td>456.859985</td>\n",
       "      <td>456.859985</td>\n",
       "      <td>413.104004</td>\n",
       "      <td>424.440002</td>\n",
       "      <td>BTC-USD</td>\n",
       "    </tr>\n",
       "    <tr>\n",
       "      <th>2</th>\n",
       "      <td>2014-09-19</td>\n",
       "      <td>424.102997</td>\n",
       "      <td>427.834991</td>\n",
       "      <td>384.532013</td>\n",
       "      <td>394.795990</td>\n",
       "      <td>BTC-USD</td>\n",
       "    </tr>\n",
       "    <tr>\n",
       "      <th>3</th>\n",
       "      <td>2014-09-20</td>\n",
       "      <td>394.673004</td>\n",
       "      <td>423.295990</td>\n",
       "      <td>389.882996</td>\n",
       "      <td>408.903992</td>\n",
       "      <td>BTC-USD</td>\n",
       "    </tr>\n",
       "    <tr>\n",
       "      <th>4</th>\n",
       "      <td>2014-09-21</td>\n",
       "      <td>408.084991</td>\n",
       "      <td>412.425995</td>\n",
       "      <td>393.181000</td>\n",
       "      <td>398.821014</td>\n",
       "      <td>BTC-USD</td>\n",
       "    </tr>\n",
       "    <tr>\n",
       "      <th>...</th>\n",
       "      <td>...</td>\n",
       "      <td>...</td>\n",
       "      <td>...</td>\n",
       "      <td>...</td>\n",
       "      <td>...</td>\n",
       "      <td>...</td>\n",
       "    </tr>\n",
       "    <tr>\n",
       "      <th>4820</th>\n",
       "      <td>2022-11-16</td>\n",
       "      <td>1251.808838</td>\n",
       "      <td>1264.486328</td>\n",
       "      <td>1192.987793</td>\n",
       "      <td>1215.602539</td>\n",
       "      <td>ETH-USD</td>\n",
       "    </tr>\n",
       "    <tr>\n",
       "      <th>4821</th>\n",
       "      <td>2022-11-17</td>\n",
       "      <td>1215.848633</td>\n",
       "      <td>1224.965698</td>\n",
       "      <td>1189.152710</td>\n",
       "      <td>1200.808594</td>\n",
       "      <td>ETH-USD</td>\n",
       "    </tr>\n",
       "    <tr>\n",
       "      <th>4822</th>\n",
       "      <td>2022-11-18</td>\n",
       "      <td>1200.802124</td>\n",
       "      <td>1226.737427</td>\n",
       "      <td>1200.802124</td>\n",
       "      <td>1212.300293</td>\n",
       "      <td>ETH-USD</td>\n",
       "    </tr>\n",
       "    <tr>\n",
       "      <th>4823</th>\n",
       "      <td>2022-11-19</td>\n",
       "      <td>1212.215454</td>\n",
       "      <td>1227.837280</td>\n",
       "      <td>1200.475586</td>\n",
       "      <td>1218.426758</td>\n",
       "      <td>ETH-USD</td>\n",
       "    </tr>\n",
       "    <tr>\n",
       "      <th>4824</th>\n",
       "      <td>2022-11-20</td>\n",
       "      <td>1218.357544</td>\n",
       "      <td>1223.668823</td>\n",
       "      <td>1138.770020</td>\n",
       "      <td>1139.740601</td>\n",
       "      <td>ETH-USD</td>\n",
       "    </tr>\n",
       "  </tbody>\n",
       "</table>\n",
       "<p>4825 rows × 6 columns</p>\n",
       "</div>"
      ],
      "text/plain": [
       "            date         open         high          low        close  \\\n",
       "0     2014-09-17   465.864014   468.174011   452.421997   457.334015   \n",
       "1     2014-09-18   456.859985   456.859985   413.104004   424.440002   \n",
       "2     2014-09-19   424.102997   427.834991   384.532013   394.795990   \n",
       "3     2014-09-20   394.673004   423.295990   389.882996   408.903992   \n",
       "4     2014-09-21   408.084991   412.425995   393.181000   398.821014   \n",
       "...          ...          ...          ...          ...          ...   \n",
       "4820  2022-11-16  1251.808838  1264.486328  1192.987793  1215.602539   \n",
       "4821  2022-11-17  1215.848633  1224.965698  1189.152710  1200.808594   \n",
       "4822  2022-11-18  1200.802124  1226.737427  1200.802124  1212.300293   \n",
       "4823  2022-11-19  1212.215454  1227.837280  1200.475586  1218.426758   \n",
       "4824  2022-11-20  1218.357544  1223.668823  1138.770020  1139.740601   \n",
       "\n",
       "     cod_yfinance  \n",
       "0         BTC-USD  \n",
       "1         BTC-USD  \n",
       "2         BTC-USD  \n",
       "3         BTC-USD  \n",
       "4         BTC-USD  \n",
       "...           ...  \n",
       "4820      ETH-USD  \n",
       "4821      ETH-USD  \n",
       "4822      ETH-USD  \n",
       "4823      ETH-USD  \n",
       "4824      ETH-USD  \n",
       "\n",
       "[4825 rows x 6 columns]"
      ]
     },
     "execution_count": 23,
     "metadata": {},
     "output_type": "execute_result"
    }
   ],
   "source": [
    "crypto"
   ]
  },
  {
   "cell_type": "markdown",
   "metadata": {},
   "source": [
    "## Get S&P500 companies list"
   ]
  },
  {
   "cell_type": "code",
   "execution_count": null,
   "metadata": {},
   "outputs": [],
   "source": [
    "url = 'https://en.wikipedia.org/wiki/List_of_S%26P_500_companies'\n",
    "\n",
    "data = pd.read_html(url)"
   ]
  },
  {
   "cell_type": "code",
   "execution_count": null,
   "metadata": {},
   "outputs": [],
   "source": [
    "data[0].head()"
   ]
  },
  {
   "cell_type": "code",
   "execution_count": null,
   "metadata": {},
   "outputs": [],
   "source": [
    "sp500 = data[0].iloc[:,[0,1,3,4]]"
   ]
  },
  {
   "cell_type": "code",
   "execution_count": null,
   "metadata": {},
   "outputs": [],
   "source": [
    "sp500.columns = ['ticker', 'name', 'sector', 'sub_industry']"
   ]
  },
  {
   "cell_type": "code",
   "execution_count": null,
   "metadata": {},
   "outputs": [],
   "source": [
    "sp500"
   ]
  },
  {
   "cell_type": "code",
   "execution_count": null,
   "metadata": {},
   "outputs": [],
   "source": []
  }
 ],
 "metadata": {
  "kernelspec": {
   "display_name": "Python 3.9.12 ('base')",
   "language": "python",
   "name": "python3"
  },
  "language_info": {
   "codemirror_mode": {
    "name": "ipython",
    "version": 3
   },
   "file_extension": ".py",
   "mimetype": "text/x-python",
   "name": "python",
   "nbconvert_exporter": "python",
   "pygments_lexer": "ipython3",
   "version": "3.9.12"
  },
  "orig_nbformat": 4,
  "vscode": {
   "interpreter": {
    "hash": "2d90c038637108ac29aff4d22cdf99e3e2599f922ccc5532827d676edf9e0ab0"
   }
  }
 },
 "nbformat": 4,
 "nbformat_minor": 2
}
